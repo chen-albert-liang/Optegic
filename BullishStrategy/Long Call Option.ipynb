{
 "cells": [
  {
   "cell_type": "markdown",
   "metadata": {},
   "source": [
    "# Long Call Option"
   ]
  },
  {
   "cell_type": "markdown",
   "metadata": {},
   "source": [
    "### I. Strategy Overview"
   ]
  },
  {
   "cell_type": "markdown",
   "metadata": {},
   "source": [
    "This is the most basic option strategy composed of a single long call leg."
   ]
  },
  {
   "cell_type": "markdown",
   "metadata": {},
   "source": [
    "#### Payoff\n",
    "Option Payoff or Profit and Loss (P&L) diagrams help us understand where our options strategies win or lose money at expiration based on different stock price points."
   ]
  },
  {
   "cell_type": "markdown",
   "metadata": {},
   "source": [
    "<!-- ![](long_call.jpg) -->\n",
    "<img src='.long_call.jpg'/>"
   ]
  },
  {
   "cell_type": "markdown",
   "metadata": {},
   "source": [
    "#### Features (optional):\n",
    "* Long Delta: option value increases as the underlying price goes up\n",
    "* Short Theta: option value decreases as time decays\n",
    "* Long volatility: option value increases as the implied volatility hikes"
   ]
  },
  {
   "cell_type": "markdown",
   "metadata": {},
   "source": [
    "### II. Strategy Setup\n",
    "* Observe the historical price of selected underlying\n",
    "* Find avaialble expiration dates for options\n",
    "* Select an expiration date, option type and stike price for the option strategy\n",
    "* Select entrance and exit point (simplified by choosing future enter and exit dates)"
   ]
  },
  {
   "cell_type": "code",
   "execution_count": 1,
   "metadata": {},
   "outputs": [],
   "source": [
    "import sys  \n",
    "sys.path.insert(0, 'C:\\\\Users\\\\chena\\\\Desktop\\\\Trading\\\\StrategicOptions\\\\')\n",
    "import datetime\n",
    "from Functions.mainprg import GetDays, GetPayOff, GetBackTesting, GetPriceHistory\n",
    "import pandas as pd\n",
    "import numpy as np\n",
    "from datetime import timedelta"
   ]
  },
  {
   "cell_type": "markdown",
   "metadata": {},
   "source": [
    "####  a. Select underlying by ticker"
   ]
  },
  {
   "cell_type": "code",
   "execution_count": 2,
   "metadata": {},
   "outputs": [
    {
     "name": "stderr",
     "output_type": "stream",
     "text": [
      "C:\\ProgramData\\Anaconda3\\lib\\site-packages\\pandas\\core\\arrays\\datetimes.py:1088: UserWarning: Converting to PeriodArray/Index representation will drop timezone information.\n",
      "  warnings.warn(\n"
     ]
    },
    {
     "data": {
      "image/png": "[encoded data removed]",
      "text/plain": [
       "<Figure size 864x432 with 1 Axes>"
      ]
     },
     "metadata": {
      "needs_background": "light"
     },
     "output_type": "display_data"
    }
   ],
   "source": [
    "Ticker = 'MSFT'\n",
    "GetPriceHistory(Ticker).plot_price_history()"
   ]
  },
  {
   "cell_type": "markdown",
   "metadata": {},
   "source": [
    "#### b. Find expiration dates for testing period"
   ]
  },
  {
   "cell_type": "code",
   "execution_count": 3,
   "metadata": {},
   "outputs": [
    {
     "name": "stderr",
     "output_type": "stream",
     "text": [
      "C:\\ProgramData\\Anaconda3\\lib\\site-packages\\pandas\\core\\arrays\\datetimes.py:1088: UserWarning: Converting to PeriodArray/Index representation will drop timezone information.\n",
      "  warnings.warn(\n"
     ]
    },
    {
     "data": {
      "text/html": [
       "<div>\n",
       "<style scoped>\n",
       "    .dataframe tbody tr th:only-of-type {\n",
       "        vertical-align: middle;\n",
       "    }\n",
       "\n",
       "    .dataframe tbody tr th {\n",
       "        vertical-align: top;\n",
       "    }\n",
       "\n",
       "    .dataframe thead th {\n",
       "        text-align: right;\n",
       "    }\n",
       "</style>\n",
       "<table border=\"1\" class=\"dataframe\">\n",
       "  <thead>\n",
       "    <tr style=\"text-align: right;\">\n",
       "      <th></th>\n",
       "      <th>Expiration Date</th>\n",
       "      <th>Day of the Week</th>\n",
       "      <th>Year-Month</th>\n",
       "      <th>Expiration</th>\n",
       "    </tr>\n",
       "  </thead>\n",
       "  <tbody>\n",
       "    <tr>\n",
       "      <th>0</th>\n",
       "      <td>2018-01-19</td>\n",
       "      <td>Friday</td>\n",
       "      <td>2018-01</td>\n",
       "      <td>1</td>\n",
       "    </tr>\n",
       "    <tr>\n",
       "      <th>1</th>\n",
       "      <td>2018-02-16</td>\n",
       "      <td>Friday</td>\n",
       "      <td>2018-02</td>\n",
       "      <td>1</td>\n",
       "    </tr>\n",
       "    <tr>\n",
       "      <th>2</th>\n",
       "      <td>2018-03-16</td>\n",
       "      <td>Friday</td>\n",
       "      <td>2018-03</td>\n",
       "      <td>1</td>\n",
       "    </tr>\n",
       "    <tr>\n",
       "      <th>3</th>\n",
       "      <td>2018-04-20</td>\n",
       "      <td>Friday</td>\n",
       "      <td>2018-04</td>\n",
       "      <td>1</td>\n",
       "    </tr>\n",
       "    <tr>\n",
       "      <th>4</th>\n",
       "      <td>2018-05-18</td>\n",
       "      <td>Friday</td>\n",
       "      <td>2018-05</td>\n",
       "      <td>1</td>\n",
       "    </tr>\n",
       "    <tr>\n",
       "      <th>5</th>\n",
       "      <td>2018-06-15</td>\n",
       "      <td>Friday</td>\n",
       "      <td>2018-06</td>\n",
       "      <td>1</td>\n",
       "    </tr>\n",
       "  </tbody>\n",
       "</table>\n",
       "</div>"
      ],
      "text/plain": [
       "  Expiration Date Day of the Week Year-Month  Expiration\n",
       "0      2018-01-19          Friday    2018-01           1\n",
       "1      2018-02-16          Friday    2018-02           1\n",
       "2      2018-03-16          Friday    2018-03           1\n",
       "3      2018-04-20          Friday    2018-04           1\n",
       "4      2018-05-18          Friday    2018-05           1\n",
       "5      2018-06-15          Friday    2018-06           1"
      ]
     },
     "execution_count": 3,
     "metadata": {},
     "output_type": "execute_result"
    }
   ],
   "source": [
    "Start_Date = datetime.datetime(2018, 1, 4)\n",
    "End_Date = datetime.datetime(2018,6, 30)\n",
    "\n",
    "GetDays(Ticker, Start_Date, End_Date, []).expiration_dates"
   ]
  },
  {
   "cell_type": "markdown",
   "metadata": {},
   "source": [
    "#### c. Select an expiration date, choose option type (call) and strike price"
   ]
  },
  {
   "cell_type": "code",
   "execution_count": 4,
   "metadata": {},
   "outputs": [],
   "source": [
    "expiration = datetime.datetime(2018, 3, 18)\n",
    "option_type = ['C']  # C(all), P(ut)\n",
    "action = ['L']  #L(ong), S(hort)\n",
    "\n",
    "# Change the strike price to see how it affects the strategy\n",
    "# strike_price = [85]  # At the money\n",
    "strike_price = [75]  # Deep in the money\n",
    "#strike_price = 95  # Far out the money"
   ]
  },
  {
   "cell_type": "markdown",
   "metadata": {},
   "source": [
    "#### d. Choose option enter and exit dates"
   ]
  },
  {
   "cell_type": "code",
   "execution_count": 5,
   "metadata": {},
   "outputs": [],
   "source": [
    "entry_date = datetime.datetime(2018, 1, 4)\n",
    "exit_date = datetime.datetime(2018, 3, 1)"
   ]
  },
  {
   "cell_type": "markdown",
   "metadata": {},
   "source": [
    "### III. Visualization\n",
    "#### a. Generate option(s) price and payoff"
   ]
  },
  {
   "cell_type": "code",
   "execution_count": 6,
   "metadata": {
    "scrolled": false
   },
   "outputs": [
    {
     "name": "stdout",
     "output_type": "stream",
     "text": [
      "Option Premium = $3.33\n"
     ]
    },
    {
     "data": {
      "image/png": "[encoded data removed]",
      "text/plain": [
       "<Figure size 864x432 with 1 Axes>"
      ]
     },
     "metadata": {
      "needs_background": "light"
     },
     "output_type": "display_data"
    }
   ],
   "source": [
    "payoff = GetPayOff(Ticker, strike_price, entry_date, expiration, option_type, action)\n",
    "print('Option Premium = '+\"${:.2f}\".format(payoff.option_price[0]))\n",
    "payoff.plot_payoff()"
   ]
  },
  {
   "cell_type": "markdown",
   "metadata": {},
   "source": [
    "#### * Note that regardless of the strike/expiration date you choose, the probability of profit for longing an option is always less than 50%"
   ]
  },
  {
   "cell_type": "markdown",
   "metadata": {},
   "source": [
    "##### b. Compare returns by holding the option vs. buy&hold the underlying"
   ]
  },
  {
   "cell_type": "code",
   "execution_count": 7,
   "metadata": {},
   "outputs": [
    {
     "data": {
      "image/png": "[encoded data removed]",
      "text/plain": [
       "<Figure size 864x432 with 3 Axes>"
      ]
     },
     "metadata": {
      "needs_background": "light"
     },
     "output_type": "display_data"
    }
   ],
   "source": [
    "bt1 = GetBackTesting(Ticker, strike_price, expiration, entry_date, exit_date, option_type, action)\n",
    "bt1.plot_price_history()"
   ]
  },
  {
   "cell_type": "code",
   "execution_count": 8,
   "metadata": {},
   "outputs": [
    {
     "data": {
      "image/png": "[encoded data removed]",
      "text/plain": [
       "<Figure size 864x432 with 2 Axes>"
      ]
     },
     "metadata": {
      "needs_background": "light"
     },
     "output_type": "display_data"
    }
   ],
   "source": [
    "bt1.plot_option_pnl()"
   ]
  },
  {
   "cell_type": "markdown",
   "metadata": {},
   "source": [
    "#### c. Strategy Summary"
   ]
  },
  {
   "cell_type": "code",
   "execution_count": 9,
   "metadata": {},
   "outputs": [
    {
     "data": {
      "text/html": [
       "<div>\n",
       "<style scoped>\n",
       "    .dataframe tbody tr th:only-of-type {\n",
       "        vertical-align: middle;\n",
       "    }\n",
       "\n",
       "    .dataframe tbody tr th {\n",
       "        vertical-align: top;\n",
       "    }\n",
       "\n",
       "    .dataframe thead th {\n",
       "        text-align: right;\n",
       "    }\n",
       "</style>\n",
       "<table border=\"1\" class=\"dataframe\">\n",
       "  <thead>\n",
       "    <tr style=\"text-align: right;\">\n",
       "      <th></th>\n",
       "      <th>Entry Date</th>\n",
       "      <th>Cost Basis</th>\n",
       "      <th>Exit Date</th>\n",
       "      <th>Holding Period (Days)</th>\n",
       "      <th>Residual Value</th>\n",
       "      <th>P&amp;L</th>\n",
       "      <th>PnL/Day</th>\n",
       "      <th>ROC</th>\n",
       "      <th>Win</th>\n",
       "    </tr>\n",
       "  </thead>\n",
       "  <tbody>\n",
       "    <tr>\n",
       "      <th>0</th>\n",
       "      <td>2018-01-04</td>\n",
       "      <td>$333.33</td>\n",
       "      <td>2018-03-01</td>\n",
       "      <td>56</td>\n",
       "      <td>$922.46</td>\n",
       "      <td>$589.13</td>\n",
       "      <td>$10.52</td>\n",
       "      <td>176.7%</td>\n",
       "      <td>True</td>\n",
       "    </tr>\n",
       "  </tbody>\n",
       "</table>\n",
       "</div>"
      ],
      "text/plain": [
       "   Entry Date Cost Basis   Exit Date  Holding Period (Days) Residual Value  \\\n",
       "0  2018-01-04    $333.33  2018-03-01                     56        $922.46   \n",
       "\n",
       "       P&L PnL/Day     ROC   Win  \n",
       "0  $589.13  $10.52  176.7%  True  "
      ]
     },
     "execution_count": 9,
     "metadata": {},
     "output_type": "execute_result"
    }
   ],
   "source": [
    "bt1.strategy_summary"
   ]
  },
  {
   "cell_type": "markdown",
   "metadata": {},
   "source": [
    "### III. Recurring Strategy Setup"
   ]
  },
  {
   "cell_type": "markdown",
   "metadata": {},
   "source": [
    "#### a. Choose the backtesting period for the recurring startegy"
   ]
  },
  {
   "cell_type": "code",
   "execution_count": 22,
   "metadata": {},
   "outputs": [
    {
     "name": "stderr",
     "output_type": "stream",
     "text": [
      "C:\\ProgramData\\Anaconda3\\lib\\site-packages\\pandas\\core\\arrays\\datetimes.py:1088: UserWarning: Converting to PeriodArray/Index representation will drop timezone information.\n",
      "  warnings.warn(\n",
      "C:\\ProgramData\\Anaconda3\\lib\\site-packages\\pandas\\core\\arrays\\datetimes.py:1088: UserWarning: Converting to PeriodArray/Index representation will drop timezone information.\n",
      "  warnings.warn(\n"
     ]
    }
   ],
   "source": [
    "Start_Date = datetime.datetime(2016, 1, 4)\n",
    "End_Date = datetime.datetime(2018,8, 30)\n",
    "\n",
    "expiry = GetDays(Ticker, Start_Date, End_Date, []).expiration_dates\n",
    "trading_days = GetDays(Ticker, Start_Date, End_Date, []).trading_days\n",
    "trading_days['Year-Month'] = pd.to_datetime(trading_days['Date']).dt.to_period('M') + 1  # +1 to find the expiration date in the next month\n",
    "\n",
    "dte_seeker = pd.merge(trading_days, expiry, on='Year-Month', how='left')\n",
    "dte_seeker['DTE'] = (pd.to_datetime(dte_seeker['Expiration Date']) - pd.to_datetime(dte_seeker['Date'])).dt.days\n",
    "dte_seeker.dropna(inplace=True)"
   ]
  },
  {
   "cell_type": "markdown",
   "metadata": {},
   "source": [
    "#### b. Set trading rules"
   ]
  },
  {
   "cell_type": "markdown",
   "metadata": {},
   "source": [
    "#### Simplified (current):\n",
    "* Enter: 43 days before expriation\n",
    "* Exit: 21 days before expiration\n",
    "* Strike prices = enter day underlying price - \\\\$5\n",
    "\n",
    "#### Realistic (example):\n",
    "* IV < 20%\n",
    "* Expiration date < 60 & Expiration date > 45\n",
    "* VIX < 20\n",
    "* other technical signals."
   ]
  },
  {
   "cell_type": "code",
   "execution_count": 23,
   "metadata": {
    "scrolled": true
   },
   "outputs": [],
   "source": [
    "entry_dates = pd.to_datetime(dte_seeker[dte_seeker['DTE']==43]['Date'].reset_index(drop=True))\n",
    "expiration_dates = pd.to_datetime(dte_seeker[dte_seeker['DTE']==43]['Expiration Date'].reset_index(drop=True))\n",
    "exit_dates = entry_dates + timedelta(days=24)\n",
    "expiration_dates = pd.to_datetime(expiration_dates)"
   ]
  },
  {
   "cell_type": "markdown",
   "metadata": {},
   "source": [
    "#### c. Run recursive analysis"
   ]
  },
  {
   "cell_type": "code",
   "execution_count": 25,
   "metadata": {},
   "outputs": [],
   "source": [
    "strategy_performance = pd.DataFrame([])\n",
    "strat_sum_for_stats = []\n",
    "strike_price = [80]\n",
    "i = 0\n",
    "for _ in entry_dates:\n",
    "    bt = GetBackTesting(Ticker, strike_price, expiration_dates[i], entry_dates[i], exit_dates[i], option_type, action)\n",
    "    strategy_performance = strategy_performance.append(bt.strategy_summary)\n",
    "    strat_sum_for_stats.append(bt.strat_sum_for_stats)\n",
    "    i += 1\n",
    "    end_of_period_spot = bt.underlying_price_truncated_['close'][-1]\n",
    "    strike_price = [end_of_period_spot-5]\n",
    "    \n",
    "win_rate = \"{:.2%}\".format(strategy_performance['Win'].sum()/len(strategy_performance['Win']))"
   ]
  },
  {
   "cell_type": "code",
   "execution_count": 26,
   "metadata": {},
   "outputs": [],
   "source": [
    "strike_price = np.array(strike_price)"
   ]
  },
  {
   "cell_type": "code",
   "execution_count": 27,
   "metadata": {
    "scrolled": true
   },
   "outputs": [
    {
     "data": {
      "text/plain": [
       "'70.97%'"
      ]
     },
     "execution_count": 27,
     "metadata": {},
     "output_type": "execute_result"
    }
   ],
   "source": [
    "win_rate"
   ]
  },
  {
   "cell_type": "code",
   "execution_count": 28,
   "metadata": {},
   "outputs": [
    {
     "data": {
      "text/html": [
       "<div>\n",
       "<style scoped>\n",
       "    .dataframe tbody tr th:only-of-type {\n",
       "        vertical-align: middle;\n",
       "    }\n",
       "\n",
       "    .dataframe tbody tr th {\n",
       "        vertical-align: top;\n",
       "    }\n",
       "\n",
       "    .dataframe thead th {\n",
       "        text-align: right;\n",
       "    }\n",
       "</style>\n",
       "<table border=\"1\" class=\"dataframe\">\n",
       "  <thead>\n",
       "    <tr style=\"text-align: right;\">\n",
       "      <th></th>\n",
       "      <th>Entry Date</th>\n",
       "      <th>Cost Basis</th>\n",
       "      <th>Exit Date</th>\n",
       "      <th>Holding Period (Days)</th>\n",
       "      <th>Residual Value</th>\n",
       "      <th>P&amp;L</th>\n",
       "      <th>PnL/Day</th>\n",
       "      <th>ROC</th>\n",
       "      <th>Win</th>\n",
       "    </tr>\n",
       "  </thead>\n",
       "  <tbody>\n",
       "    <tr>\n",
       "      <th>0</th>\n",
       "      <td>2016-01-07</td>\n",
       "      <td>$0.00</td>\n",
       "      <td>2016-01-31</td>\n",
       "      <td>24</td>\n",
       "      <td>$0.00</td>\n",
       "      <td>$-0.00</td>\n",
       "      <td>$-0.00</td>\n",
       "      <td>-99.8%</td>\n",
       "      <td>False</td>\n",
       "    </tr>\n",
       "    <tr>\n",
       "      <th>1</th>\n",
       "      <td>2016-02-04</td>\n",
       "      <td>$302.01</td>\n",
       "      <td>2016-02-28</td>\n",
       "      <td>24</td>\n",
       "      <td>$237.14</td>\n",
       "      <td>$-64.87</td>\n",
       "      <td>$-2.70</td>\n",
       "      <td>-21.5%</td>\n",
       "      <td>False</td>\n",
       "    </tr>\n",
       "    <tr>\n",
       "      <th>2</th>\n",
       "      <td>2016-03-03</td>\n",
       "      <td>$617.55</td>\n",
       "      <td>2016-03-27</td>\n",
       "      <td>24</td>\n",
       "      <td>$796.71</td>\n",
       "      <td>$179.16</td>\n",
       "      <td>$7.47</td>\n",
       "      <td>29.0%</td>\n",
       "      <td>True</td>\n",
       "    </tr>\n",
       "    <tr>\n",
       "      <th>3</th>\n",
       "      <td>2016-04-07</td>\n",
       "      <td>$560.94</td>\n",
       "      <td>2016-05-01</td>\n",
       "      <td>24</td>\n",
       "      <td>$180.71</td>\n",
       "      <td>$-380.23</td>\n",
       "      <td>$-15.84</td>\n",
       "      <td>-67.8%</td>\n",
       "      <td>False</td>\n",
       "    </tr>\n",
       "    <tr>\n",
       "      <th>4</th>\n",
       "      <td>2016-05-05</td>\n",
       "      <td>$519.04</td>\n",
       "      <td>2016-05-29</td>\n",
       "      <td>24</td>\n",
       "      <td>$750.32</td>\n",
       "      <td>$231.28</td>\n",
       "      <td>$9.64</td>\n",
       "      <td>44.6%</td>\n",
       "      <td>True</td>\n",
       "    </tr>\n",
       "    <tr>\n",
       "      <th>5</th>\n",
       "      <td>2016-06-02</td>\n",
       "      <td>$524.34</td>\n",
       "      <td>2016-06-26</td>\n",
       "      <td>24</td>\n",
       "      <td>$326.72</td>\n",
       "      <td>$-197.62</td>\n",
       "      <td>$-8.23</td>\n",
       "      <td>-37.7%</td>\n",
       "      <td>False</td>\n",
       "    </tr>\n",
       "    <tr>\n",
       "      <th>6</th>\n",
       "      <td>2016-07-07</td>\n",
       "      <td>$667.11</td>\n",
       "      <td>2016-07-31</td>\n",
       "      <td>24</td>\n",
       "      <td>$1190.28</td>\n",
       "      <td>$523.17</td>\n",
       "      <td>$21.80</td>\n",
       "      <td>78.4%</td>\n",
       "      <td>True</td>\n",
       "    </tr>\n",
       "    <tr>\n",
       "      <th>7</th>\n",
       "      <td>2016-08-04</td>\n",
       "      <td>$577.75</td>\n",
       "      <td>2016-08-28</td>\n",
       "      <td>24</td>\n",
       "      <td>$641.61</td>\n",
       "      <td>$63.86</td>\n",
       "      <td>$2.66</td>\n",
       "      <td>11.1%</td>\n",
       "      <td>True</td>\n",
       "    </tr>\n",
       "    <tr>\n",
       "      <th>8</th>\n",
       "      <td>2016-09-08</td>\n",
       "      <td>$449.78</td>\n",
       "      <td>2016-10-02</td>\n",
       "      <td>24</td>\n",
       "      <td>$466.74</td>\n",
       "      <td>$16.96</td>\n",
       "      <td>$0.71</td>\n",
       "      <td>3.8%</td>\n",
       "      <td>True</td>\n",
       "    </tr>\n",
       "    <tr>\n",
       "      <th>9</th>\n",
       "      <td>2016-10-06</td>\n",
       "      <td>$536.01</td>\n",
       "      <td>2016-10-30</td>\n",
       "      <td>24</td>\n",
       "      <td>$734.87</td>\n",
       "      <td>$198.85</td>\n",
       "      <td>$8.29</td>\n",
       "      <td>37.1%</td>\n",
       "      <td>True</td>\n",
       "    </tr>\n",
       "    <tr>\n",
       "      <th>10</th>\n",
       "      <td>2016-11-03</td>\n",
       "      <td>$477.83</td>\n",
       "      <td>2016-11-27</td>\n",
       "      <td>24</td>\n",
       "      <td>$575.52</td>\n",
       "      <td>$97.68</td>\n",
       "      <td>$4.07</td>\n",
       "      <td>20.4%</td>\n",
       "      <td>True</td>\n",
       "    </tr>\n",
       "    <tr>\n",
       "      <th>11</th>\n",
       "      <td>2016-12-08</td>\n",
       "      <td>$560.16</td>\n",
       "      <td>2017-01-01</td>\n",
       "      <td>24</td>\n",
       "      <td>$669.78</td>\n",
       "      <td>$109.61</td>\n",
       "      <td>$4.57</td>\n",
       "      <td>19.6%</td>\n",
       "      <td>True</td>\n",
       "    </tr>\n",
       "    <tr>\n",
       "      <th>12</th>\n",
       "      <td>2017-01-05</td>\n",
       "      <td>$527.23</td>\n",
       "      <td>2017-01-29</td>\n",
       "      <td>24</td>\n",
       "      <td>$870.76</td>\n",
       "      <td>$343.53</td>\n",
       "      <td>$14.31</td>\n",
       "      <td>65.2%</td>\n",
       "      <td>True</td>\n",
       "    </tr>\n",
       "    <tr>\n",
       "      <th>13</th>\n",
       "      <td>2017-02-02</td>\n",
       "      <td>$285.90</td>\n",
       "      <td>2017-02-26</td>\n",
       "      <td>24</td>\n",
       "      <td>$396.81</td>\n",
       "      <td>$110.91</td>\n",
       "      <td>$4.62</td>\n",
       "      <td>38.8%</td>\n",
       "      <td>True</td>\n",
       "    </tr>\n",
       "    <tr>\n",
       "      <th>14</th>\n",
       "      <td>2017-03-16</td>\n",
       "      <td>$510.16</td>\n",
       "      <td>2017-04-09</td>\n",
       "      <td>24</td>\n",
       "      <td>$613.28</td>\n",
       "      <td>$103.12</td>\n",
       "      <td>$4.30</td>\n",
       "      <td>20.2%</td>\n",
       "      <td>True</td>\n",
       "    </tr>\n",
       "    <tr>\n",
       "      <th>15</th>\n",
       "      <td>2017-04-06</td>\n",
       "      <td>$513.25</td>\n",
       "      <td>2017-04-30</td>\n",
       "      <td>24</td>\n",
       "      <td>$785.25</td>\n",
       "      <td>$272.00</td>\n",
       "      <td>$11.33</td>\n",
       "      <td>53.0%</td>\n",
       "      <td>True</td>\n",
       "    </tr>\n",
       "    <tr>\n",
       "      <th>16</th>\n",
       "      <td>2017-05-04</td>\n",
       "      <td>$545.77</td>\n",
       "      <td>2017-05-28</td>\n",
       "      <td>24</td>\n",
       "      <td>$657.78</td>\n",
       "      <td>$112.00</td>\n",
       "      <td>$4.67</td>\n",
       "      <td>20.5%</td>\n",
       "      <td>True</td>\n",
       "    </tr>\n",
       "    <tr>\n",
       "      <th>17</th>\n",
       "      <td>2017-06-08</td>\n",
       "      <td>$708.71</td>\n",
       "      <td>2017-07-02</td>\n",
       "      <td>24</td>\n",
       "      <td>$427.80</td>\n",
       "      <td>$-280.91</td>\n",
       "      <td>$-11.70</td>\n",
       "      <td>-39.6%</td>\n",
       "      <td>False</td>\n",
       "    </tr>\n",
       "    <tr>\n",
       "      <th>18</th>\n",
       "      <td>2017-07-06</td>\n",
       "      <td>$515.28</td>\n",
       "      <td>2017-07-30</td>\n",
       "      <td>24</td>\n",
       "      <td>$919.01</td>\n",
       "      <td>$403.73</td>\n",
       "      <td>$16.82</td>\n",
       "      <td>78.4%</td>\n",
       "      <td>True</td>\n",
       "    </tr>\n",
       "    <tr>\n",
       "      <th>19</th>\n",
       "      <td>2017-08-03</td>\n",
       "      <td>$435.77</td>\n",
       "      <td>2017-08-27</td>\n",
       "      <td>24</td>\n",
       "      <td>$492.89</td>\n",
       "      <td>$57.12</td>\n",
       "      <td>$2.38</td>\n",
       "      <td>13.1%</td>\n",
       "      <td>True</td>\n",
       "    </tr>\n",
       "    <tr>\n",
       "      <th>20</th>\n",
       "      <td>2017-09-07</td>\n",
       "      <td>$662.89</td>\n",
       "      <td>2017-10-01</td>\n",
       "      <td>24</td>\n",
       "      <td>$676.07</td>\n",
       "      <td>$13.18</td>\n",
       "      <td>$0.55</td>\n",
       "      <td>2.0%</td>\n",
       "      <td>True</td>\n",
       "    </tr>\n",
       "    <tr>\n",
       "      <th>21</th>\n",
       "      <td>2017-10-05</td>\n",
       "      <td>$658.52</td>\n",
       "      <td>2017-10-29</td>\n",
       "      <td>24</td>\n",
       "      <td>$1440.19</td>\n",
       "      <td>$781.67</td>\n",
       "      <td>$32.57</td>\n",
       "      <td>118.7%</td>\n",
       "      <td>True</td>\n",
       "    </tr>\n",
       "    <tr>\n",
       "      <th>22</th>\n",
       "      <td>2017-11-02</td>\n",
       "      <td>$546.25</td>\n",
       "      <td>2017-11-26</td>\n",
       "      <td>24</td>\n",
       "      <td>$469.32</td>\n",
       "      <td>$-76.93</td>\n",
       "      <td>$-3.21</td>\n",
       "      <td>-14.1%</td>\n",
       "      <td>False</td>\n",
       "    </tr>\n",
       "    <tr>\n",
       "      <th>23</th>\n",
       "      <td>2017-12-07</td>\n",
       "      <td>$472.49</td>\n",
       "      <td>2017-12-31</td>\n",
       "      <td>24</td>\n",
       "      <td>$739.24</td>\n",
       "      <td>$266.75</td>\n",
       "      <td>$11.11</td>\n",
       "      <td>56.5%</td>\n",
       "      <td>True</td>\n",
       "    </tr>\n",
       "    <tr>\n",
       "      <th>24</th>\n",
       "      <td>2018-01-04</td>\n",
       "      <td>$671.96</td>\n",
       "      <td>2018-01-28</td>\n",
       "      <td>24</td>\n",
       "      <td>$1416.76</td>\n",
       "      <td>$744.80</td>\n",
       "      <td>$31.03</td>\n",
       "      <td>110.8%</td>\n",
       "      <td>True</td>\n",
       "    </tr>\n",
       "    <tr>\n",
       "      <th>25</th>\n",
       "      <td>2018-02-01</td>\n",
       "      <td>$612.48</td>\n",
       "      <td>2018-02-25</td>\n",
       "      <td>24</td>\n",
       "      <td>$564.25</td>\n",
       "      <td>$-48.23</td>\n",
       "      <td>$-2.01</td>\n",
       "      <td>-7.9%</td>\n",
       "      <td>False</td>\n",
       "    </tr>\n",
       "    <tr>\n",
       "      <th>26</th>\n",
       "      <td>2018-03-08</td>\n",
       "      <td>$614.88</td>\n",
       "      <td>2018-04-01</td>\n",
       "      <td>24</td>\n",
       "      <td>$456.86</td>\n",
       "      <td>$-158.02</td>\n",
       "      <td>$-6.58</td>\n",
       "      <td>-25.7%</td>\n",
       "      <td>False</td>\n",
       "    </tr>\n",
       "    <tr>\n",
       "      <th>27</th>\n",
       "      <td>2018-04-05</td>\n",
       "      <td>$716.74</td>\n",
       "      <td>2018-04-29</td>\n",
       "      <td>24</td>\n",
       "      <td>$979.47</td>\n",
       "      <td>$262.73</td>\n",
       "      <td>$10.95</td>\n",
       "      <td>36.7%</td>\n",
       "      <td>True</td>\n",
       "    </tr>\n",
       "    <tr>\n",
       "      <th>28</th>\n",
       "      <td>2018-05-03</td>\n",
       "      <td>$469.29</td>\n",
       "      <td>2018-05-27</td>\n",
       "      <td>24</td>\n",
       "      <td>$777.72</td>\n",
       "      <td>$308.43</td>\n",
       "      <td>$12.85</td>\n",
       "      <td>65.7%</td>\n",
       "      <td>True</td>\n",
       "    </tr>\n",
       "    <tr>\n",
       "      <th>29</th>\n",
       "      <td>2018-06-07</td>\n",
       "      <td>$788.65</td>\n",
       "      <td>2018-07-01</td>\n",
       "      <td>24</td>\n",
       "      <td>$591.78</td>\n",
       "      <td>$-196.87</td>\n",
       "      <td>$-8.20</td>\n",
       "      <td>-25.0%</td>\n",
       "      <td>False</td>\n",
       "    </tr>\n",
       "    <tr>\n",
       "      <th>30</th>\n",
       "      <td>2018-07-05</td>\n",
       "      <td>$710.36</td>\n",
       "      <td>2018-07-29</td>\n",
       "      <td>24</td>\n",
       "      <td>$1420.83</td>\n",
       "      <td>$710.47</td>\n",
       "      <td>$29.60</td>\n",
       "      <td>100.0%</td>\n",
       "      <td>True</td>\n",
       "    </tr>\n",
       "  </tbody>\n",
       "</table>\n",
       "</div>"
      ],
      "text/plain": [
       "    Entry Date Cost Basis   Exit Date  Holding Period (Days) Residual Value  \\\n",
       "0   2016-01-07      $0.00  2016-01-31                     24          $0.00   \n",
       "1   2016-02-04    $302.01  2016-02-28                     24        $237.14   \n",
       "2   2016-03-03    $617.55  2016-03-27                     24        $796.71   \n",
       "3   2016-04-07    $560.94  2016-05-01                     24        $180.71   \n",
       "4   2016-05-05    $519.04  2016-05-29                     24        $750.32   \n",
       "5   2016-06-02    $524.34  2016-06-26                     24        $326.72   \n",
       "6   2016-07-07    $667.11  2016-07-31                     24       $1190.28   \n",
       "7   2016-08-04    $577.75  2016-08-28                     24        $641.61   \n",
       "8   2016-09-08    $449.78  2016-10-02                     24        $466.74   \n",
       "9   2016-10-06    $536.01  2016-10-30                     24        $734.87   \n",
       "10  2016-11-03    $477.83  2016-11-27                     24        $575.52   \n",
       "11  2016-12-08    $560.16  2017-01-01                     24        $669.78   \n",
       "12  2017-01-05    $527.23  2017-01-29                     24        $870.76   \n",
       "13  2017-02-02    $285.90  2017-02-26                     24        $396.81   \n",
       "14  2017-03-16    $510.16  2017-04-09                     24        $613.28   \n",
       "15  2017-04-06    $513.25  2017-04-30                     24        $785.25   \n",
       "16  2017-05-04    $545.77  2017-05-28                     24        $657.78   \n",
       "17  2017-06-08    $708.71  2017-07-02                     24        $427.80   \n",
       "18  2017-07-06    $515.28  2017-07-30                     24        $919.01   \n",
       "19  2017-08-03    $435.77  2017-08-27                     24        $492.89   \n",
       "20  2017-09-07    $662.89  2017-10-01                     24        $676.07   \n",
       "21  2017-10-05    $658.52  2017-10-29                     24       $1440.19   \n",
       "22  2017-11-02    $546.25  2017-11-26                     24        $469.32   \n",
       "23  2017-12-07    $472.49  2017-12-31                     24        $739.24   \n",
       "24  2018-01-04    $671.96  2018-01-28                     24       $1416.76   \n",
       "25  2018-02-01    $612.48  2018-02-25                     24        $564.25   \n",
       "26  2018-03-08    $614.88  2018-04-01                     24        $456.86   \n",
       "27  2018-04-05    $716.74  2018-04-29                     24        $979.47   \n",
       "28  2018-05-03    $469.29  2018-05-27                     24        $777.72   \n",
       "29  2018-06-07    $788.65  2018-07-01                     24        $591.78   \n",
       "30  2018-07-05    $710.36  2018-07-29                     24       $1420.83   \n",
       "\n",
       "         P&L  PnL/Day     ROC    Win  \n",
       "0     $-0.00   $-0.00  -99.8%  False  \n",
       "1    $-64.87   $-2.70  -21.5%  False  \n",
       "2    $179.16    $7.47   29.0%   True  \n",
       "3   $-380.23  $-15.84  -67.8%  False  \n",
       "4    $231.28    $9.64   44.6%   True  \n",
       "5   $-197.62   $-8.23  -37.7%  False  \n",
       "6    $523.17   $21.80   78.4%   True  \n",
       "7     $63.86    $2.66   11.1%   True  \n",
       "8     $16.96    $0.71    3.8%   True  \n",
       "9    $198.85    $8.29   37.1%   True  \n",
       "10    $97.68    $4.07   20.4%   True  \n",
       "11   $109.61    $4.57   19.6%   True  \n",
       "12   $343.53   $14.31   65.2%   True  \n",
       "13   $110.91    $4.62   38.8%   True  \n",
       "14   $103.12    $4.30   20.2%   True  \n",
       "15   $272.00   $11.33   53.0%   True  \n",
       "16   $112.00    $4.67   20.5%   True  \n",
       "17  $-280.91  $-11.70  -39.6%  False  \n",
       "18   $403.73   $16.82   78.4%   True  \n",
       "19    $57.12    $2.38   13.1%   True  \n",
       "20    $13.18    $0.55    2.0%   True  \n",
       "21   $781.67   $32.57  118.7%   True  \n",
       "22   $-76.93   $-3.21  -14.1%  False  \n",
       "23   $266.75   $11.11   56.5%   True  \n",
       "24   $744.80   $31.03  110.8%   True  \n",
       "25   $-48.23   $-2.01   -7.9%  False  \n",
       "26  $-158.02   $-6.58  -25.7%  False  \n",
       "27   $262.73   $10.95   36.7%   True  \n",
       "28   $308.43   $12.85   65.7%   True  \n",
       "29  $-196.87   $-8.20  -25.0%  False  \n",
       "30   $710.47   $29.60  100.0%   True  "
      ]
     },
     "execution_count": 28,
     "metadata": {},
     "output_type": "execute_result"
    }
   ],
   "source": [
    "strategy_performance.reset_index(drop=True, inplace=True)\n",
    "strategy_performance"
   ]
  },
  {
   "cell_type": "code",
   "execution_count": 32,
   "metadata": {},
   "outputs": [
    {
     "name": "stdout",
     "output_type": "stream",
     "text": [
      "Avg Cost:  $540.62\n"
     ]
    }
   ],
   "source": [
    "strategy_performance['Cost Basis']\n",
    "avg_cost =strategy_performance['Cost Basis'].str.strip('$').astype(float).mean()\n",
    "print('Avg Cost: ', \"${:.2f}\".format(avg_cost))"
   ]
  },
  {
   "cell_type": "code",
   "execution_count": 33,
   "metadata": {},
   "outputs": [
    {
     "name": "stdout",
     "output_type": "stream",
     "text": [
      "Total Profit:  $4507.33\n"
     ]
    }
   ],
   "source": [
    "strategy_performance['P&L']\n",
    "pnl_sum =strategy_performance['P&L'].str.strip('$').astype(float).sum()\n",
    "print('Total Profit: ', \"${:.2f}\".format(pnl_sum))"
   ]
  }
 ],
 "metadata": {
  "kernelspec": {
   "display_name": "Python 3",
   "language": "python",
   "name": "python3"
  },
  "language_info": {
   "codemirror_mode": {
    "name": "ipython",
    "version": 3
   },
   "file_extension": ".py",
   "mimetype": "text/x-python",
   "name": "python",
   "nbconvert_exporter": "python",
   "pygments_lexer": "ipython3",
   "version": "3.8.5"
  }
 },
 "nbformat": 4,
 "nbformat_minor": 4
}
