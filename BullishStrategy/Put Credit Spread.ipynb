{
 "cells": [
  {
   "cell_type": "markdown",
   "metadata": {},
   "source": [
    "# Put Credit Spread (Bull Put Spread)"
   ]
  },
  {
   "cell_type": "markdown",
   "metadata": {},
   "source": [
    "### I. Strategy Overview"
   ]
  },
  {
   "cell_type": "markdown",
   "metadata": {},
   "source": [
    "* This strategy is composed of 2 put options:\n",
    "    * Short Leg: OTM put option typically set around 20-30 delta with <30% ITM by expiration\n",
    "    * Long Leg: Further OTM put option to (1) cap the maximum loss, and (2) reduce buying power requirement\n",
    "* Compared to short put option, this trategy releases lots of buying powera by defining risk"
   ]
  },
  {
   "cell_type": "markdown",
   "metadata": {},
   "source": [
    "#### Payoff\n",
    "Option Payoff or Profit and Loss (P&L) diagrams help us understand where our options strategies win or lose money at expiration based on different stock price points."
   ]
  },
  {
   "cell_type": "markdown",
   "metadata": {},
   "source": [
    "![](put_credit_spread.jpg)"
   ]
  },
  {
   "cell_type": "markdown",
   "metadata": {},
   "source": [
    "#### Features （Optional):\n",
    "* Defined risk strategy (known max profit and loss)\n",
    "* Long Delta: profit of the strategy increases as the underlying price goes up\n",
    "* Long Theta: profit of the strategy increases as time decays\n",
    "* Short volatility: profit of the strategy increases as the implied volatility drops"
   ]
  },
  {
   "cell_type": "markdown",
   "metadata": {},
   "source": [
    "### II. Strategy Setup\n",
    "* Observe the historical price of selected underlying\n",
    "* Find avaialble expiration dates for options\n",
    "* Select an expiration date, option type and stike price for the option strategy\n",
    "* Select entrance and exit point (simplified by choosing future enter and exit dates)"
   ]
  },
  {
   "cell_type": "code",
   "execution_count": 1,
   "metadata": {
    "scrolled": true
   },
   "outputs": [],
   "source": [
    "import sys  \n",
    "sys.path.insert(0, 'C:\\\\Users\\\\chena\\\\Desktop\\\\Trading\\\\StrategicOptions\\\\')\n",
    "import datetime\n",
    "from Functions.mainprg import GetPayOff, GetBackTesting, GetPriceHistory\n",
    "import pandas as pd\n",
    "import numpy as np\n",
    "from datetime import timedelta\n",
    "from IPython.display import display, HTML"
   ]
  },
  {
   "cell_type": "markdown",
   "metadata": {},
   "source": [
    "####  a. Select underlying by ticker"
   ]
  },
  {
   "cell_type": "code",
   "execution_count": 2,
   "metadata": {},
   "outputs": [],
   "source": [
    "Ticker = 'NIO'"
   ]
  },
  {
   "cell_type": "code",
   "execution_count": 3,
   "metadata": {},
   "outputs": [],
   "source": [
    "# GetPriceHistory(Ticker).plot_price_history()"
   ]
  },
  {
   "cell_type": "markdown",
   "metadata": {},
   "source": [
    "#### b1. Find expiration dates for testing period"
   ]
  },
  {
   "cell_type": "code",
   "execution_count": 4,
   "metadata": {},
   "outputs": [
    {
     "data": {
      "text/plain": [
       "0     2021-06-18\n",
       "1     2021-06-25\n",
       "2     2021-07-02\n",
       "3     2021-07-09\n",
       "4     2021-07-16\n",
       "5     2021-07-23\n",
       "6     2021-07-30\n",
       "7     2021-08-20\n",
       "8     2021-09-17\n",
       "9     2021-10-15\n",
       "10    2021-11-19\n",
       "11    2021-12-17\n",
       "12    2022-01-21\n",
       "13    2022-02-18\n",
       "14    2022-03-18\n",
       "15    2022-06-17\n",
       "16    2022-09-16\n",
       "17    2022-12-16\n",
       "18    2023-01-20\n",
       "Name: Date, dtype: object"
      ]
     },
     "execution_count": 4,
     "metadata": {},
     "output_type": "execute_result"
    }
   ],
   "source": [
    "exp_date = GetPriceHistory(Ticker).expiration_dates\n",
    "exp_date"
   ]
  },
  {
   "cell_type": "markdown",
   "metadata": {},
   "source": [
    "#### b2. Find expiration dates for testing period"
   ]
  },
  {
   "cell_type": "code",
   "execution_count": 5,
   "metadata": {
    "scrolled": false
   },
   "outputs": [
    {
     "data": {
      "text/html": [
       "<table border=\"1\" class=\"dataframe\">\n",
       "  <thead>\n",
       "    <tr style=\"text-align: right;\">\n",
       "      <th></th>\n",
       "      <th>strikes</th>\n",
       "    </tr>\n",
       "    <tr>\n",
       "      <th>Date</th>\n",
       "      <th></th>\n",
       "    </tr>\n",
       "  </thead>\n",
       "  <tbody>\n",
       "    <tr>\n",
       "      <th>2021-07-30</th>\n",
       "      <td>[25.0, 30.0, 35.0, 36.0, 37.0, 37.5, 38.0, 38.5, 39.0, 39.5, 40.0, 40.5, 41.0, 41.5, 42.0, 42.5, 43.0, 43.5, 44.0, 44.5, 45.0, 45.5, 46.0, 46.5, 47.0, 47.5, 48.0, 48.5, 49.0, 50.0, 51.0, 52.0, 53.0, 54.0, 55.0, 60.0, 65.0, 70.0]</td>\n",
       "    </tr>\n",
       "  </tbody>\n",
       "</table>"
      ],
      "text/plain": [
       "<IPython.core.display.HTML object>"
      ]
     },
     "metadata": {},
     "output_type": "display_data"
    }
   ],
   "source": [
    "strikes = GetPriceHistory(Ticker).strikes\n",
    "display(HTML(strikes[strikes.index==exp_date[6]].to_html()))"
   ]
  },
  {
   "cell_type": "markdown",
   "metadata": {},
   "source": [
    "#### c. Select an expiration date, choose option type (call) and strike price"
   ]
  },
  {
   "cell_type": "code",
   "execution_count": 6,
   "metadata": {},
   "outputs": [],
   "source": [
    "expiration = [datetime.datetime(2021, 7, 30), datetime.datetime(2021, 7, 30)]\n",
    "option_type = ['put', 'put']  # call or put, lower case\n",
    "action = ['L', 'S']  #L(ong), S(hort)\n",
    "\n",
    "strike_price = [35, 40]"
   ]
  },
  {
   "cell_type": "markdown",
   "metadata": {},
   "source": [
    "#### d. Choose option enter and exit dates"
   ]
  },
  {
   "cell_type": "code",
   "execution_count": 7,
   "metadata": {},
   "outputs": [],
   "source": [
    "entry_date = datetime.datetime(2021, 5, 27)\n",
    "# entry_date = datetime.datetime.today()"
   ]
  },
  {
   "cell_type": "markdown",
   "metadata": {},
   "source": [
    "### III. Visualization\n",
    "#### a. Generate option(s) price and payoff"
   ]
  },
  {
   "cell_type": "code",
   "execution_count": 8,
   "metadata": {
    "scrolled": false
   },
   "outputs": [
    {
     "name": "stdout",
     "output_type": "stream",
     "text": [
      "Option Premium = $95.00\n"
     ]
    },
    {
     "data": {
      "image/png": "[encoded data removed]",
      "text/plain": [
       "<Figure size 864x432 with 1 Axes>"
      ]
     },
     "metadata": {
      "needs_background": "light"
     },
     "output_type": "display_data"
    }
   ],
   "source": [
    "payoff = GetPayOff(Ticker, strike_price, entry_date, expiration, option_type, action)\n",
    "print('Option Premium = '+\"${:.2f}\".format(100*(payoff.option_price[1] - payoff.option_price[0])))\n",
    "payoff.plot_payoff()"
   ]
  },
  {
   "cell_type": "markdown",
   "metadata": {},
   "source": [
    "#### * Probability of profit here is incorrect (should be higher than short put strategy, needs more work)"
   ]
  },
  {
   "cell_type": "markdown",
   "metadata": {},
   "source": [
    "##### b. Compare returns by holding the option vs. buy&hold the underlying"
   ]
  },
  {
   "cell_type": "code",
   "execution_count": 9,
   "metadata": {},
   "outputs": [
    {
     "ename": "NameError",
     "evalue": "name 'exit_date' is not defined",
     "output_type": "error",
     "traceback": [
      "\u001b[1;31m---------------------------------------------------------------------------\u001b[0m",
      "\u001b[1;31mNameError\u001b[0m                                 Traceback (most recent call last)",
      "\u001b[1;32m<ipython-input-9-b27fa0f5794d>\u001b[0m in \u001b[0;36m<module>\u001b[1;34m\u001b[0m\n\u001b[1;32m----> 1\u001b[1;33m \u001b[0mbt1\u001b[0m \u001b[1;33m=\u001b[0m \u001b[0mGetBackTesting\u001b[0m\u001b[1;33m(\u001b[0m\u001b[0mTicker\u001b[0m\u001b[1;33m,\u001b[0m \u001b[0mstrike_price\u001b[0m\u001b[1;33m,\u001b[0m \u001b[0mexpiration\u001b[0m\u001b[1;33m,\u001b[0m \u001b[0mentry_date\u001b[0m\u001b[1;33m,\u001b[0m \u001b[0mexit_date\u001b[0m\u001b[1;33m,\u001b[0m \u001b[0moption_type\u001b[0m\u001b[1;33m,\u001b[0m \u001b[0maction\u001b[0m\u001b[1;33m)\u001b[0m\u001b[1;33m\u001b[0m\u001b[1;33m\u001b[0m\u001b[0m\n\u001b[0m\u001b[0;32m      2\u001b[0m \u001b[0mbt1\u001b[0m\u001b[1;33m.\u001b[0m\u001b[0mplot_price_history\u001b[0m\u001b[1;33m(\u001b[0m\u001b[1;33m)\u001b[0m\u001b[1;33m\u001b[0m\u001b[1;33m\u001b[0m\u001b[0m\n",
      "\u001b[1;31mNameError\u001b[0m: name 'exit_date' is not defined"
     ]
    }
   ],
   "source": [
    "bt1 = GetBackTesting(Ticker, strike_price, expiration, entry_date, exit_date, option_type, action)\n",
    "bt1.plot_price_history()"
   ]
  },
  {
   "cell_type": "code",
   "execution_count": null,
   "metadata": {
    "scrolled": false
   },
   "outputs": [],
   "source": [
    "bt1.plot_option_pnl()"
   ]
  },
  {
   "cell_type": "markdown",
   "metadata": {},
   "source": [
    "#### c. Strategy Summary"
   ]
  },
  {
   "cell_type": "code",
   "execution_count": null,
   "metadata": {},
   "outputs": [],
   "source": [
    "bt1.strategy_summary"
   ]
  },
  {
   "cell_type": "markdown",
   "metadata": {},
   "source": [
    "### III. Recurring Strategy Setup"
   ]
  },
  {
   "cell_type": "markdown",
   "metadata": {},
   "source": [
    "#### a. Choose the backtesting period for the recurring startegy"
   ]
  },
  {
   "cell_type": "code",
   "execution_count": null,
   "metadata": {},
   "outputs": [],
   "source": [
    "Start_Date = datetime.datetime(2016, 1, 4)\n",
    "End_Date = datetime.datetime(2018,8, 30)\n",
    "\n",
    "expiry = GetDays(Ticker, Start_Date, End_Date, []).expiration_dates\n",
    "trading_days = GetDays(Ticker, Start_Date, End_Date, []).trading_days\n",
    "trading_days['Year-Month'] = pd.to_datetime(trading_days['Date']).dt.to_period('M') + 1  # +1 to find the expiration date in the next month\n",
    "\n",
    "dte_seeker = pd.merge(trading_days, expiry, on='Year-Month', how='left')\n",
    "dte_seeker['DTE'] = (pd.to_datetime(dte_seeker['Expiration Date']) - pd.to_datetime(dte_seeker['Date'])).dt.days\n",
    "dte_seeker.dropna(inplace=True)"
   ]
  },
  {
   "cell_type": "markdown",
   "metadata": {},
   "source": [
    "#### b. Set trading rules"
   ]
  },
  {
   "cell_type": "markdown",
   "metadata": {},
   "source": [
    "#### Simplified (current):\n",
    "* Enter: 43 days before expriation\n",
    "* Exit: 21 days before expiration\n",
    "* Strike prices:\n",
    "* Long leg: enter day 0.1 delta\n",
    "* Short leg: enter day 0.3 delta"
   ]
  },
  {
   "cell_type": "code",
   "execution_count": null,
   "metadata": {
    "scrolled": true
   },
   "outputs": [],
   "source": [
    "entry_dates = pd.to_datetime(dte_seeker[dte_seeker['DTE']==43]['Date'].reset_index(drop=True))\n",
    "expiration_dates = pd.to_datetime(dte_seeker[dte_seeker['DTE']==43]['Expiration Date'].reset_index(drop=True))\n",
    "exit_dates = entry_dates + timedelta(days=24)\n",
    "expiration_dates = pd.to_datetime(expiration_dates)"
   ]
  },
  {
   "cell_type": "markdown",
   "metadata": {},
   "source": [
    "#### c. Run recursive analysis"
   ]
  },
  {
   "cell_type": "code",
   "execution_count": null,
   "metadata": {},
   "outputs": [],
   "source": [
    "strategy_performance = pd.DataFrame([])\n",
    "strat_sum_for_stats = []\n",
    "strike_price = [32, 35]\n",
    "i = 0\n",
    "for _ in entry_dates:\n",
    "    bt = GetBackTesting(Ticker, strike_price, expiration_dates[i], entry_dates[i], exit_dates[i], option_type, action)\n",
    "    strategy_performance = strategy_performance.append(bt.strategy_summary)\n",
    "    strat_sum_for_stats.append(bt.strat_sum_for_stats)\n",
    "    i += 1\n",
    "    end_of_period_spot = bt.underlying_price_truncated_['close'][-1]\n",
    "    strike_price = [end_of_period_spot-8, end_of_period_spot-5]\n",
    "    \n",
    "win_rate = \"{:.2%}\".format(strategy_performance['Win'].sum()/len(strategy_performance['Win']))"
   ]
  },
  {
   "cell_type": "code",
   "execution_count": null,
   "metadata": {},
   "outputs": [],
   "source": [
    "win_rate"
   ]
  },
  {
   "cell_type": "code",
   "execution_count": null,
   "metadata": {},
   "outputs": [],
   "source": [
    "strategy_performance.reset_index(drop=True, inplace=True)\n",
    "strategy_performance"
   ]
  },
  {
   "cell_type": "code",
   "execution_count": null,
   "metadata": {},
   "outputs": [],
   "source": [
    "strategy_performance['Cost Basis']\n",
    "print('Average Cost: ', \"${:.2f}\".format(500)) "
   ]
  },
  {
   "cell_type": "markdown",
   "metadata": {},
   "source": [
    "#### *Note that for defined risk strategies, cost = buying power effect = 100 x width between two strike prices"
   ]
  },
  {
   "cell_type": "code",
   "execution_count": null,
   "metadata": {},
   "outputs": [],
   "source": [
    "strategy_performance['P&L']\n",
    "pnl_sum =strategy_performance['P&L'].str.strip('$').astype(float).sum()\n",
    "print('Total Profit: ', \"${:.2f}\".format(pnl_sum))"
   ]
  }
 ],
 "metadata": {
  "kernelspec": {
   "display_name": "Python 3",
   "language": "python",
   "name": "python3"
  },
  "language_info": {
   "codemirror_mode": {
    "name": "ipython",
    "version": 3
   },
   "file_extension": ".py",
   "mimetype": "text/x-python",
   "name": "python",
   "nbconvert_exporter": "python",
   "pygments_lexer": "ipython3",
   "version": "3.8.5"
  }
 },
 "nbformat": 4,
 "nbformat_minor": 4
}
