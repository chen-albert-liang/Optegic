{
 "cells": [
  {
   "cell_type": "markdown",
   "metadata": {},
   "source": [
    "# Put Credit Spread (Bull Put Spread)"
   ]
  },
  {
   "cell_type": "markdown",
   "metadata": {},
   "source": [
    "### I. Strategy Overview"
   ]
  },
  {
   "cell_type": "markdown",
   "metadata": {},
   "source": [
    "* This strategy is composed of 2 put options:\n",
    "    * Short Leg: OTM put option typically set around 20-30 delta with <30% ITM by expiration\n",
    "    * Long Leg: Further OTM put option to (1) cap the maximum loss, and (2) reduce buying power requirement\n",
    "* Compared to short put option, this trategy releases lots of buying powera by defining risk"
   ]
  },
  {
   "cell_type": "markdown",
   "metadata": {},
   "source": [
    "#### Payoff\n",
    "Option Payoff or Profit and Loss (P&L) diagrams help us understand where our options strategies win or lose money at expiration based on different stock price points."
   ]
  },
  {
   "cell_type": "markdown",
   "metadata": {},
   "source": [
    "![](put_credit_spread.jpg)"
   ]
  },
  {
   "cell_type": "markdown",
   "metadata": {},
   "source": [
    "#### Features （Optional):\n",
    "* Defined risk strategy (known max profit and loss)\n",
    "* Long Delta: profit of the strategy increases as the underlying price goes up\n",
    "* Long Theta: profit of the strategy increases as time decays\n",
    "* Short volatility: profit of the strategy increases as the implied volatility drops"
   ]
  },
  {
   "cell_type": "markdown",
   "metadata": {},
   "source": [
    "### II. Strategy Setup\n",
    "* Observe the historical price of selected underlying\n",
    "* Find avaialble expiration dates for options\n",
    "* Select an expiration date, option type and stike price for the option strategy\n",
    "* Select entrance and exit point (simplified by choosing future enter and exit dates)"
   ]
  },
  {
   "cell_type": "code",
   "execution_count": 1,
   "metadata": {},
   "outputs": [
    {
     "name": "stdout",
     "output_type": "stream",
     "text": [
      "Grabbing new access token...\n"
     ]
    }
   ],
   "source": [
    "import sys  \n",
    "sys.path.insert(0, 'C:\\\\Users\\\\chena\\\\Desktop\\\\Trading\\\\StrategicOptions\\\\')\n",
    "import datetime\n",
    "from Functions.mainprg import GetDays, GetPayOff, GetBackTesting, GetPriceHistory\n",
    "import pandas as pd\n",
    "import numpy as np\n",
    "from datetime import timedelta"
   ]
  },
  {
   "cell_type": "markdown",
   "metadata": {},
   "source": [
    "####  a. Select underlying by ticker"
   ]
  },
  {
   "cell_type": "code",
   "execution_count": 2,
   "metadata": {},
   "outputs": [
    {
     "name": "stderr",
     "output_type": "stream",
     "text": [
      "C:\\ProgramData\\Anaconda3\\lib\\site-packages\\pandas\\core\\arrays\\datetimes.py:1088: UserWarning: Converting to PeriodArray/Index representation will drop timezone information.\n",
      "  warnings.warn(\n"
     ]
    },
    {
     "data": {
      "image/png": "[encoded data removed]",
      "text/plain": [
       "<Figure size 864x432 with 1 Axes>"
      ]
     },
     "metadata": {
      "needs_background": "light"
     },
     "output_type": "display_data"
    }
   ],
   "source": [
    "Ticker = 'MSFT'\n",
    "GetPriceHistory(Ticker).plot_price_history()"
   ]
  },
  {
   "cell_type": "markdown",
   "metadata": {},
   "source": [
    "#### b. Find expiration dates for testing period"
   ]
  },
  {
   "cell_type": "code",
   "execution_count": 3,
   "metadata": {},
   "outputs": [
    {
     "name": "stderr",
     "output_type": "stream",
     "text": [
      "C:\\ProgramData\\Anaconda3\\lib\\site-packages\\pandas\\core\\arrays\\datetimes.py:1088: UserWarning: Converting to PeriodArray/Index representation will drop timezone information.\n",
      "  warnings.warn(\n"
     ]
    },
    {
     "data": {
      "text/html": [
       "<div>\n",
       "<style scoped>\n",
       "    .dataframe tbody tr th:only-of-type {\n",
       "        vertical-align: middle;\n",
       "    }\n",
       "\n",
       "    .dataframe tbody tr th {\n",
       "        vertical-align: top;\n",
       "    }\n",
       "\n",
       "    .dataframe thead th {\n",
       "        text-align: right;\n",
       "    }\n",
       "</style>\n",
       "<table border=\"1\" class=\"dataframe\">\n",
       "  <thead>\n",
       "    <tr style=\"text-align: right;\">\n",
       "      <th></th>\n",
       "      <th>Expiration Date</th>\n",
       "      <th>Day of the Week</th>\n",
       "      <th>Year-Month</th>\n",
       "      <th>Expiration</th>\n",
       "    </tr>\n",
       "  </thead>\n",
       "  <tbody>\n",
       "    <tr>\n",
       "      <th>0</th>\n",
       "      <td>2018-01-19</td>\n",
       "      <td>Friday</td>\n",
       "      <td>2018-01</td>\n",
       "      <td>1</td>\n",
       "    </tr>\n",
       "    <tr>\n",
       "      <th>1</th>\n",
       "      <td>2018-02-16</td>\n",
       "      <td>Friday</td>\n",
       "      <td>2018-02</td>\n",
       "      <td>1</td>\n",
       "    </tr>\n",
       "    <tr>\n",
       "      <th>2</th>\n",
       "      <td>2018-03-16</td>\n",
       "      <td>Friday</td>\n",
       "      <td>2018-03</td>\n",
       "      <td>1</td>\n",
       "    </tr>\n",
       "    <tr>\n",
       "      <th>3</th>\n",
       "      <td>2018-04-20</td>\n",
       "      <td>Friday</td>\n",
       "      <td>2018-04</td>\n",
       "      <td>1</td>\n",
       "    </tr>\n",
       "    <tr>\n",
       "      <th>4</th>\n",
       "      <td>2018-05-18</td>\n",
       "      <td>Friday</td>\n",
       "      <td>2018-05</td>\n",
       "      <td>1</td>\n",
       "    </tr>\n",
       "    <tr>\n",
       "      <th>5</th>\n",
       "      <td>2018-06-15</td>\n",
       "      <td>Friday</td>\n",
       "      <td>2018-06</td>\n",
       "      <td>1</td>\n",
       "    </tr>\n",
       "  </tbody>\n",
       "</table>\n",
       "</div>"
      ],
      "text/plain": [
       "  Expiration Date Day of the Week Year-Month  Expiration\n",
       "0      2018-01-19          Friday    2018-01           1\n",
       "1      2018-02-16          Friday    2018-02           1\n",
       "2      2018-03-16          Friday    2018-03           1\n",
       "3      2018-04-20          Friday    2018-04           1\n",
       "4      2018-05-18          Friday    2018-05           1\n",
       "5      2018-06-15          Friday    2018-06           1"
      ]
     },
     "execution_count": 3,
     "metadata": {},
     "output_type": "execute_result"
    }
   ],
   "source": [
    "Start_Date = datetime.datetime(2018, 1, 4)\n",
    "End_Date = datetime.datetime(2018,6, 30)\n",
    "\n",
    "GetDays(Ticker, Start_Date, End_Date, []).expiration_dates"
   ]
  },
  {
   "cell_type": "markdown",
   "metadata": {},
   "source": [
    "#### c. Select an expiration date, choose option type (call) and strike price"
   ]
  },
  {
   "cell_type": "code",
   "execution_count": 12,
   "metadata": {},
   "outputs": [],
   "source": [
    "expiration = datetime.datetime(2018, 3, 18)\n",
    "option_type = ['P', 'P']  # C(all), P(ut)\n",
    "action = ['L', 'S']  #L(ong), S(hort)\n",
    "\n",
    "# Change the strike price to see how it affects the strategy\n",
    "# strike_price = [85]  # At the money\n",
    "strike_price = [78, 80]  # Deep in the money\n",
    "#strike_price = 95  # Far out the money"
   ]
  },
  {
   "cell_type": "markdown",
   "metadata": {},
   "source": [
    "#### d. Choose option enter and exit dates"
   ]
  },
  {
   "cell_type": "code",
   "execution_count": 13,
   "metadata": {},
   "outputs": [],
   "source": [
    "entry_date = datetime.datetime(2018, 1, 2)\n",
    "exit_date = datetime.datetime(2018, 3, 5)"
   ]
  },
  {
   "cell_type": "markdown",
   "metadata": {},
   "source": [
    "### III. Visualization\n",
    "#### a. Generate option(s) price and payoff"
   ]
  },
  {
   "cell_type": "code",
   "execution_count": 14,
   "metadata": {
    "scrolled": false
   },
   "outputs": [
    {
     "name": "stdout",
     "output_type": "stream",
     "text": [
      "Option Premium = $0.15\n"
     ]
    },
    {
     "data": {
      "image/png": "[encoded data removed]",
      "text/plain": [
       "<Figure size 864x432 with 1 Axes>"
      ]
     },
     "metadata": {
      "needs_background": "light"
     },
     "output_type": "display_data"
    }
   ],
   "source": [
    "payoff = GetPayOff(Ticker, strike_price, entry_date, expiration, option_type, action)\n",
    "print('Option Premium = '+\"${:.2f}\".format(payoff.option_price[1] - payoff.option_price[0]))\n",
    "payoff.plot_payoff()"
   ]
  },
  {
   "cell_type": "markdown",
   "metadata": {},
   "source": [
    "#### * Probability of profit here is incorrect (should be higher than short put strategy, needs more work)"
   ]
  },
  {
   "cell_type": "markdown",
   "metadata": {},
   "source": [
    "##### b. Compare returns by holding the option vs. buy&hold the underlying"
   ]
  },
  {
   "cell_type": "code",
   "execution_count": 15,
   "metadata": {},
   "outputs": [
    {
     "data": {
      "image/png": "[encoded data removed]",
      "text/plain": [
       "<Figure size 864x432 with 3 Axes>"
      ]
     },
     "metadata": {
      "needs_background": "light"
     },
     "output_type": "display_data"
    }
   ],
   "source": [
    "bt1 = GetBackTesting(Ticker, strike_price, expiration, entry_date, exit_date, option_type, action)\n",
    "bt1.plot_price_history()"
   ]
  },
  {
   "cell_type": "code",
   "execution_count": 16,
   "metadata": {
    "scrolled": false
   },
   "outputs": [
    {
     "data": {
      "image/png": "[encoded data removed]",
      "text/plain": [
       "<Figure size 864x432 with 2 Axes>"
      ]
     },
     "metadata": {
      "needs_background": "light"
     },
     "output_type": "display_data"
    }
   ],
   "source": [
    "bt1.plot_option_pnl()"
   ]
  },
  {
   "cell_type": "markdown",
   "metadata": {},
   "source": [
    "#### c. Strategy Summary"
   ]
  },
  {
   "cell_type": "code",
   "execution_count": 17,
   "metadata": {},
   "outputs": [
    {
     "data": {
      "text/html": [
       "<div>\n",
       "<style scoped>\n",
       "    .dataframe tbody tr th:only-of-type {\n",
       "        vertical-align: middle;\n",
       "    }\n",
       "\n",
       "    .dataframe tbody tr th {\n",
       "        vertical-align: top;\n",
       "    }\n",
       "\n",
       "    .dataframe thead th {\n",
       "        text-align: right;\n",
       "    }\n",
       "</style>\n",
       "<table border=\"1\" class=\"dataframe\">\n",
       "  <thead>\n",
       "    <tr style=\"text-align: right;\">\n",
       "      <th></th>\n",
       "      <th>Entry Date</th>\n",
       "      <th>Cost Basis</th>\n",
       "      <th>Exit Date</th>\n",
       "      <th>Holding Period (Days)</th>\n",
       "      <th>Residual Value</th>\n",
       "      <th>P&amp;L</th>\n",
       "      <th>PnL/Day</th>\n",
       "      <th>ROC</th>\n",
       "      <th>Win</th>\n",
       "    </tr>\n",
       "  </thead>\n",
       "  <tbody>\n",
       "    <tr>\n",
       "      <th>0</th>\n",
       "      <td>2018-01-02</td>\n",
       "      <td>$-14.94</td>\n",
       "      <td>2018-03-05</td>\n",
       "      <td>62</td>\n",
       "      <td>$-9.16</td>\n",
       "      <td>$5.78</td>\n",
       "      <td>$0.09</td>\n",
       "      <td>38.7%</td>\n",
       "      <td>True</td>\n",
       "    </tr>\n",
       "  </tbody>\n",
       "</table>\n",
       "</div>"
      ],
      "text/plain": [
       "   Entry Date Cost Basis   Exit Date  Holding Period (Days) Residual Value  \\\n",
       "0  2018-01-02    $-14.94  2018-03-05                     62         $-9.16   \n",
       "\n",
       "     P&L PnL/Day    ROC   Win  \n",
       "0  $5.78   $0.09  38.7%  True  "
      ]
     },
     "execution_count": 17,
     "metadata": {},
     "output_type": "execute_result"
    }
   ],
   "source": [
    "bt1.strategy_summary"
   ]
  },
  {
   "cell_type": "markdown",
   "metadata": {},
   "source": [
    "### III. Recurring Strategy Setup"
   ]
  },
  {
   "cell_type": "markdown",
   "metadata": {},
   "source": [
    "#### a. Choose the backtesting period for the recurring startegy"
   ]
  },
  {
   "cell_type": "code",
   "execution_count": 27,
   "metadata": {},
   "outputs": [
    {
     "name": "stderr",
     "output_type": "stream",
     "text": [
      "C:\\ProgramData\\Anaconda3\\lib\\site-packages\\pandas\\core\\arrays\\datetimes.py:1088: UserWarning: Converting to PeriodArray/Index representation will drop timezone information.\n",
      "  warnings.warn(\n",
      "C:\\ProgramData\\Anaconda3\\lib\\site-packages\\pandas\\core\\arrays\\datetimes.py:1088: UserWarning: Converting to PeriodArray/Index representation will drop timezone information.\n",
      "  warnings.warn(\n"
     ]
    }
   ],
   "source": [
    "Start_Date = datetime.datetime(2016, 1, 4)\n",
    "End_Date = datetime.datetime(2018,8, 30)\n",
    "\n",
    "expiry = GetDays(Ticker, Start_Date, End_Date, []).expiration_dates\n",
    "trading_days = GetDays(Ticker, Start_Date, End_Date, []).trading_days\n",
    "trading_days['Year-Month'] = pd.to_datetime(trading_days['Date']).dt.to_period('M') + 1  # +1 to find the expiration date in the next month\n",
    "\n",
    "dte_seeker = pd.merge(trading_days, expiry, on='Year-Month', how='left')\n",
    "dte_seeker['DTE'] = (pd.to_datetime(dte_seeker['Expiration Date']) - pd.to_datetime(dte_seeker['Date'])).dt.days\n",
    "dte_seeker.dropna(inplace=True)"
   ]
  },
  {
   "cell_type": "markdown",
   "metadata": {},
   "source": [
    "#### b. Set trading rules"
   ]
  },
  {
   "cell_type": "markdown",
   "metadata": {},
   "source": [
    "#### Simplified (current):\n",
    "* Enter: 43 days before expriation\n",
    "* Exit: 21 days before expiration\n",
    "* Strike prices:\n",
    "* Long leg: enter day underlying price - \\\\$8\n",
    "* Short leg: enter day underlying price - \\\\$5"
   ]
  },
  {
   "cell_type": "code",
   "execution_count": 28,
   "metadata": {
    "scrolled": true
   },
   "outputs": [],
   "source": [
    "entry_dates = pd.to_datetime(dte_seeker[dte_seeker['DTE']==43]['Date'].reset_index(drop=True))\n",
    "expiration_dates = pd.to_datetime(dte_seeker[dte_seeker['DTE']==43]['Expiration Date'].reset_index(drop=True))\n",
    "exit_dates = entry_dates + timedelta(days=24)\n",
    "expiration_dates = pd.to_datetime(expiration_dates)"
   ]
  },
  {
   "cell_type": "markdown",
   "metadata": {},
   "source": [
    "#### c. Run recursive analysis"
   ]
  },
  {
   "cell_type": "code",
   "execution_count": 29,
   "metadata": {},
   "outputs": [],
   "source": [
    "strategy_performance = pd.DataFrame([])\n",
    "strat_sum_for_stats = []\n",
    "strike_price = [32, 35]\n",
    "i = 0\n",
    "for _ in entry_dates:\n",
    "    bt = GetBackTesting(Ticker, strike_price, expiration_dates[i], entry_dates[i], exit_dates[i], option_type, action)\n",
    "    strategy_performance = strategy_performance.append(bt.strategy_summary)\n",
    "    strat_sum_for_stats.append(bt.strat_sum_for_stats)\n",
    "    i += 1\n",
    "    end_of_period_spot = bt.underlying_price_truncated_['close'][-1]\n",
    "    strike_price = [end_of_period_spot-8, end_of_period_spot-5]\n",
    "    \n",
    "win_rate = \"{:.2%}\".format(strategy_performance['Win'].sum()/len(strategy_performance['Win']))"
   ]
  },
  {
   "cell_type": "code",
   "execution_count": 30,
   "metadata": {},
   "outputs": [
    {
     "data": {
      "text/plain": [
       "'74.19%'"
      ]
     },
     "execution_count": 30,
     "metadata": {},
     "output_type": "execute_result"
    }
   ],
   "source": [
    "win_rate"
   ]
  },
  {
   "cell_type": "code",
   "execution_count": 31,
   "metadata": {},
   "outputs": [
    {
     "data": {
      "text/html": [
       "<div>\n",
       "<style scoped>\n",
       "    .dataframe tbody tr th:only-of-type {\n",
       "        vertical-align: middle;\n",
       "    }\n",
       "\n",
       "    .dataframe tbody tr th {\n",
       "        vertical-align: top;\n",
       "    }\n",
       "\n",
       "    .dataframe thead th {\n",
       "        text-align: right;\n",
       "    }\n",
       "</style>\n",
       "<table border=\"1\" class=\"dataframe\">\n",
       "  <thead>\n",
       "    <tr style=\"text-align: right;\">\n",
       "      <th></th>\n",
       "      <th>Entry Date</th>\n",
       "      <th>Cost Basis</th>\n",
       "      <th>Exit Date</th>\n",
       "      <th>Holding Period (Days)</th>\n",
       "      <th>Residual Value</th>\n",
       "      <th>P&amp;L</th>\n",
       "      <th>PnL/Day</th>\n",
       "      <th>ROC</th>\n",
       "      <th>Win</th>\n",
       "    </tr>\n",
       "  </thead>\n",
       "  <tbody>\n",
       "    <tr>\n",
       "      <th>0</th>\n",
       "      <td>2016-01-07</td>\n",
       "      <td>$-0.00</td>\n",
       "      <td>2016-01-31</td>\n",
       "      <td>24</td>\n",
       "      <td>$-0.00</td>\n",
       "      <td>$0.00</td>\n",
       "      <td>$0.00</td>\n",
       "      <td>100.0%</td>\n",
       "      <td>True</td>\n",
       "    </tr>\n",
       "    <tr>\n",
       "      <th>1</th>\n",
       "      <td>2016-02-04</td>\n",
       "      <td>$-80.90</td>\n",
       "      <td>2016-02-28</td>\n",
       "      <td>24</td>\n",
       "      <td>$-81.65</td>\n",
       "      <td>$-0.75</td>\n",
       "      <td>$-0.03</td>\n",
       "      <td>-0.9%</td>\n",
       "      <td>False</td>\n",
       "    </tr>\n",
       "    <tr>\n",
       "      <th>2</th>\n",
       "      <td>2016-03-03</td>\n",
       "      <td>$-7.26</td>\n",
       "      <td>2016-03-27</td>\n",
       "      <td>24</td>\n",
       "      <td>$-0.23</td>\n",
       "      <td>$7.02</td>\n",
       "      <td>$0.29</td>\n",
       "      <td>96.8%</td>\n",
       "      <td>True</td>\n",
       "    </tr>\n",
       "    <tr>\n",
       "      <th>3</th>\n",
       "      <td>2016-04-07</td>\n",
       "      <td>$-23.12</td>\n",
       "      <td>2016-05-01</td>\n",
       "      <td>24</td>\n",
       "      <td>$-84.46</td>\n",
       "      <td>$-61.34</td>\n",
       "      <td>$-2.56</td>\n",
       "      <td>-265.4%</td>\n",
       "      <td>False</td>\n",
       "    </tr>\n",
       "    <tr>\n",
       "      <th>4</th>\n",
       "      <td>2016-05-05</td>\n",
       "      <td>$-11.75</td>\n",
       "      <td>2016-05-29</td>\n",
       "      <td>24</td>\n",
       "      <td>$-0.10</td>\n",
       "      <td>$11.65</td>\n",
       "      <td>$0.49</td>\n",
       "      <td>99.1%</td>\n",
       "      <td>True</td>\n",
       "    </tr>\n",
       "    <tr>\n",
       "      <th>5</th>\n",
       "      <td>2016-06-02</td>\n",
       "      <td>$-3.32</td>\n",
       "      <td>2016-06-26</td>\n",
       "      <td>24</td>\n",
       "      <td>$-53.93</td>\n",
       "      <td>$-50.60</td>\n",
       "      <td>$-2.11</td>\n",
       "      <td>-1524.1%</td>\n",
       "      <td>False</td>\n",
       "    </tr>\n",
       "    <tr>\n",
       "      <th>6</th>\n",
       "      <td>2016-07-07</td>\n",
       "      <td>$-6.63</td>\n",
       "      <td>2016-07-31</td>\n",
       "      <td>24</td>\n",
       "      <td>$-0.00</td>\n",
       "      <td>$6.63</td>\n",
       "      <td>$0.28</td>\n",
       "      <td>100.0%</td>\n",
       "      <td>True</td>\n",
       "    </tr>\n",
       "    <tr>\n",
       "      <th>7</th>\n",
       "      <td>2016-08-04</td>\n",
       "      <td>$-2.26</td>\n",
       "      <td>2016-08-28</td>\n",
       "      <td>24</td>\n",
       "      <td>$-0.46</td>\n",
       "      <td>$1.80</td>\n",
       "      <td>$0.07</td>\n",
       "      <td>79.6%</td>\n",
       "      <td>True</td>\n",
       "    </tr>\n",
       "    <tr>\n",
       "      <th>8</th>\n",
       "      <td>2016-09-08</td>\n",
       "      <td>$-4.02</td>\n",
       "      <td>2016-10-02</td>\n",
       "      <td>24</td>\n",
       "      <td>$-4.34</td>\n",
       "      <td>$-0.32</td>\n",
       "      <td>$-0.01</td>\n",
       "      <td>-8.0%</td>\n",
       "      <td>False</td>\n",
       "    </tr>\n",
       "    <tr>\n",
       "      <th>9</th>\n",
       "      <td>2016-10-06</td>\n",
       "      <td>$-13.76</td>\n",
       "      <td>2016-10-30</td>\n",
       "      <td>24</td>\n",
       "      <td>$-1.61</td>\n",
       "      <td>$12.15</td>\n",
       "      <td>$0.51</td>\n",
       "      <td>88.3%</td>\n",
       "      <td>True</td>\n",
       "    </tr>\n",
       "    <tr>\n",
       "      <th>10</th>\n",
       "      <td>2016-11-03</td>\n",
       "      <td>$-38.19</td>\n",
       "      <td>2016-11-27</td>\n",
       "      <td>24</td>\n",
       "      <td>$-3.54</td>\n",
       "      <td>$34.65</td>\n",
       "      <td>$1.44</td>\n",
       "      <td>90.7%</td>\n",
       "      <td>True</td>\n",
       "    </tr>\n",
       "    <tr>\n",
       "      <th>11</th>\n",
       "      <td>2016-12-08</td>\n",
       "      <td>$-6.12</td>\n",
       "      <td>2017-01-01</td>\n",
       "      <td>24</td>\n",
       "      <td>$-1.37</td>\n",
       "      <td>$4.76</td>\n",
       "      <td>$0.20</td>\n",
       "      <td>77.7%</td>\n",
       "      <td>True</td>\n",
       "    </tr>\n",
       "    <tr>\n",
       "      <th>12</th>\n",
       "      <td>2017-01-05</td>\n",
       "      <td>$-3.96</td>\n",
       "      <td>2017-01-29</td>\n",
       "      <td>24</td>\n",
       "      <td>$-0.03</td>\n",
       "      <td>$3.93</td>\n",
       "      <td>$0.16</td>\n",
       "      <td>99.3%</td>\n",
       "      <td>True</td>\n",
       "    </tr>\n",
       "    <tr>\n",
       "      <th>13</th>\n",
       "      <td>2017-02-02</td>\n",
       "      <td>$-49.88</td>\n",
       "      <td>2017-02-26</td>\n",
       "      <td>24</td>\n",
       "      <td>$-7.03</td>\n",
       "      <td>$42.85</td>\n",
       "      <td>$1.79</td>\n",
       "      <td>85.9%</td>\n",
       "      <td>True</td>\n",
       "    </tr>\n",
       "    <tr>\n",
       "      <th>14</th>\n",
       "      <td>2017-03-16</td>\n",
       "      <td>$-1.34</td>\n",
       "      <td>2017-04-09</td>\n",
       "      <td>24</td>\n",
       "      <td>$-0.25</td>\n",
       "      <td>$1.09</td>\n",
       "      <td>$0.05</td>\n",
       "      <td>81.3%</td>\n",
       "      <td>True</td>\n",
       "    </tr>\n",
       "    <tr>\n",
       "      <th>15</th>\n",
       "      <td>2017-04-06</td>\n",
       "      <td>$-1.36</td>\n",
       "      <td>2017-04-30</td>\n",
       "      <td>24</td>\n",
       "      <td>$-0.14</td>\n",
       "      <td>$1.22</td>\n",
       "      <td>$0.05</td>\n",
       "      <td>89.8%</td>\n",
       "      <td>True</td>\n",
       "    </tr>\n",
       "    <tr>\n",
       "      <th>16</th>\n",
       "      <td>2017-05-04</td>\n",
       "      <td>$-7.89</td>\n",
       "      <td>2017-05-28</td>\n",
       "      <td>24</td>\n",
       "      <td>$-0.33</td>\n",
       "      <td>$7.56</td>\n",
       "      <td>$0.31</td>\n",
       "      <td>95.9%</td>\n",
       "      <td>True</td>\n",
       "    </tr>\n",
       "    <tr>\n",
       "      <th>17</th>\n",
       "      <td>2017-06-08</td>\n",
       "      <td>$-1.87</td>\n",
       "      <td>2017-07-02</td>\n",
       "      <td>24</td>\n",
       "      <td>$-20.43</td>\n",
       "      <td>$-18.56</td>\n",
       "      <td>$-0.77</td>\n",
       "      <td>-992.5%</td>\n",
       "      <td>False</td>\n",
       "    </tr>\n",
       "    <tr>\n",
       "      <th>18</th>\n",
       "      <td>2017-07-06</td>\n",
       "      <td>$-32.84</td>\n",
       "      <td>2017-07-30</td>\n",
       "      <td>24</td>\n",
       "      <td>$-0.47</td>\n",
       "      <td>$32.36</td>\n",
       "      <td>$1.35</td>\n",
       "      <td>98.6%</td>\n",
       "      <td>True</td>\n",
       "    </tr>\n",
       "    <tr>\n",
       "      <th>19</th>\n",
       "      <td>2017-08-03</td>\n",
       "      <td>$-23.27</td>\n",
       "      <td>2017-08-27</td>\n",
       "      <td>24</td>\n",
       "      <td>$-6.45</td>\n",
       "      <td>$16.82</td>\n",
       "      <td>$0.70</td>\n",
       "      <td>72.3%</td>\n",
       "      <td>True</td>\n",
       "    </tr>\n",
       "    <tr>\n",
       "      <th>20</th>\n",
       "      <td>2017-09-07</td>\n",
       "      <td>$-2.89</td>\n",
       "      <td>2017-10-01</td>\n",
       "      <td>24</td>\n",
       "      <td>$-1.51</td>\n",
       "      <td>$1.38</td>\n",
       "      <td>$0.06</td>\n",
       "      <td>47.8%</td>\n",
       "      <td>True</td>\n",
       "    </tr>\n",
       "    <tr>\n",
       "      <th>21</th>\n",
       "      <td>2017-10-05</td>\n",
       "      <td>$-2.30</td>\n",
       "      <td>2017-10-29</td>\n",
       "      <td>24</td>\n",
       "      <td>$-0.01</td>\n",
       "      <td>$2.29</td>\n",
       "      <td>$0.10</td>\n",
       "      <td>99.6%</td>\n",
       "      <td>True</td>\n",
       "    </tr>\n",
       "    <tr>\n",
       "      <th>22</th>\n",
       "      <td>2017-11-02</td>\n",
       "      <td>$-18.26</td>\n",
       "      <td>2017-11-26</td>\n",
       "      <td>24</td>\n",
       "      <td>$-12.24</td>\n",
       "      <td>$6.01</td>\n",
       "      <td>$0.25</td>\n",
       "      <td>32.9%</td>\n",
       "      <td>True</td>\n",
       "    </tr>\n",
       "    <tr>\n",
       "      <th>23</th>\n",
       "      <td>2017-12-07</td>\n",
       "      <td>$-31.69</td>\n",
       "      <td>2017-12-31</td>\n",
       "      <td>24</td>\n",
       "      <td>$-1.49</td>\n",
       "      <td>$30.20</td>\n",
       "      <td>$1.26</td>\n",
       "      <td>95.3%</td>\n",
       "      <td>True</td>\n",
       "    </tr>\n",
       "    <tr>\n",
       "      <th>24</th>\n",
       "      <td>2018-01-04</td>\n",
       "      <td>$-5.54</td>\n",
       "      <td>2018-01-28</td>\n",
       "      <td>24</td>\n",
       "      <td>$-27.39</td>\n",
       "      <td>$-21.86</td>\n",
       "      <td>$-0.91</td>\n",
       "      <td>-394.6%</td>\n",
       "      <td>False</td>\n",
       "    </tr>\n",
       "    <tr>\n",
       "      <th>25</th>\n",
       "      <td>2018-02-01</td>\n",
       "      <td>$-55.42</td>\n",
       "      <td>2018-02-25</td>\n",
       "      <td>24</td>\n",
       "      <td>$-37.97</td>\n",
       "      <td>$17.44</td>\n",
       "      <td>$0.73</td>\n",
       "      <td>31.5%</td>\n",
       "      <td>True</td>\n",
       "    </tr>\n",
       "    <tr>\n",
       "      <th>26</th>\n",
       "      <td>2018-03-08</td>\n",
       "      <td>$-42.23</td>\n",
       "      <td>2018-04-01</td>\n",
       "      <td>24</td>\n",
       "      <td>$-101.09</td>\n",
       "      <td>$-58.86</td>\n",
       "      <td>$-2.45</td>\n",
       "      <td>-139.4%</td>\n",
       "      <td>False</td>\n",
       "    </tr>\n",
       "    <tr>\n",
       "      <th>27</th>\n",
       "      <td>2018-04-05</td>\n",
       "      <td>$-47.81</td>\n",
       "      <td>2018-04-29</td>\n",
       "      <td>24</td>\n",
       "      <td>$-10.45</td>\n",
       "      <td>$37.36</td>\n",
       "      <td>$1.56</td>\n",
       "      <td>78.2%</td>\n",
       "      <td>True</td>\n",
       "    </tr>\n",
       "    <tr>\n",
       "      <th>28</th>\n",
       "      <td>2018-05-03</td>\n",
       "      <td>$-78.02</td>\n",
       "      <td>2018-05-27</td>\n",
       "      <td>24</td>\n",
       "      <td>$-10.16</td>\n",
       "      <td>$67.86</td>\n",
       "      <td>$2.83</td>\n",
       "      <td>87.0%</td>\n",
       "      <td>True</td>\n",
       "    </tr>\n",
       "    <tr>\n",
       "      <th>29</th>\n",
       "      <td>2018-06-07</td>\n",
       "      <td>$-18.91</td>\n",
       "      <td>2018-07-01</td>\n",
       "      <td>24</td>\n",
       "      <td>$-37.53</td>\n",
       "      <td>$-18.62</td>\n",
       "      <td>$-0.78</td>\n",
       "      <td>-98.5%</td>\n",
       "      <td>False</td>\n",
       "    </tr>\n",
       "    <tr>\n",
       "      <th>30</th>\n",
       "      <td>2018-07-05</td>\n",
       "      <td>$-47.26</td>\n",
       "      <td>2018-07-29</td>\n",
       "      <td>24</td>\n",
       "      <td>$-2.22</td>\n",
       "      <td>$45.04</td>\n",
       "      <td>$1.88</td>\n",
       "      <td>95.3%</td>\n",
       "      <td>True</td>\n",
       "    </tr>\n",
       "  </tbody>\n",
       "</table>\n",
       "</div>"
      ],
      "text/plain": [
       "    Entry Date Cost Basis   Exit Date  Holding Period (Days) Residual Value  \\\n",
       "0   2016-01-07     $-0.00  2016-01-31                     24         $-0.00   \n",
       "1   2016-02-04    $-80.90  2016-02-28                     24        $-81.65   \n",
       "2   2016-03-03     $-7.26  2016-03-27                     24         $-0.23   \n",
       "3   2016-04-07    $-23.12  2016-05-01                     24        $-84.46   \n",
       "4   2016-05-05    $-11.75  2016-05-29                     24         $-0.10   \n",
       "5   2016-06-02     $-3.32  2016-06-26                     24        $-53.93   \n",
       "6   2016-07-07     $-6.63  2016-07-31                     24         $-0.00   \n",
       "7   2016-08-04     $-2.26  2016-08-28                     24         $-0.46   \n",
       "8   2016-09-08     $-4.02  2016-10-02                     24         $-4.34   \n",
       "9   2016-10-06    $-13.76  2016-10-30                     24         $-1.61   \n",
       "10  2016-11-03    $-38.19  2016-11-27                     24         $-3.54   \n",
       "11  2016-12-08     $-6.12  2017-01-01                     24         $-1.37   \n",
       "12  2017-01-05     $-3.96  2017-01-29                     24         $-0.03   \n",
       "13  2017-02-02    $-49.88  2017-02-26                     24         $-7.03   \n",
       "14  2017-03-16     $-1.34  2017-04-09                     24         $-0.25   \n",
       "15  2017-04-06     $-1.36  2017-04-30                     24         $-0.14   \n",
       "16  2017-05-04     $-7.89  2017-05-28                     24         $-0.33   \n",
       "17  2017-06-08     $-1.87  2017-07-02                     24        $-20.43   \n",
       "18  2017-07-06    $-32.84  2017-07-30                     24         $-0.47   \n",
       "19  2017-08-03    $-23.27  2017-08-27                     24         $-6.45   \n",
       "20  2017-09-07     $-2.89  2017-10-01                     24         $-1.51   \n",
       "21  2017-10-05     $-2.30  2017-10-29                     24         $-0.01   \n",
       "22  2017-11-02    $-18.26  2017-11-26                     24        $-12.24   \n",
       "23  2017-12-07    $-31.69  2017-12-31                     24         $-1.49   \n",
       "24  2018-01-04     $-5.54  2018-01-28                     24        $-27.39   \n",
       "25  2018-02-01    $-55.42  2018-02-25                     24        $-37.97   \n",
       "26  2018-03-08    $-42.23  2018-04-01                     24       $-101.09   \n",
       "27  2018-04-05    $-47.81  2018-04-29                     24        $-10.45   \n",
       "28  2018-05-03    $-78.02  2018-05-27                     24        $-10.16   \n",
       "29  2018-06-07    $-18.91  2018-07-01                     24        $-37.53   \n",
       "30  2018-07-05    $-47.26  2018-07-29                     24         $-2.22   \n",
       "\n",
       "        P&L PnL/Day       ROC    Win  \n",
       "0     $0.00   $0.00    100.0%   True  \n",
       "1    $-0.75  $-0.03     -0.9%  False  \n",
       "2     $7.02   $0.29     96.8%   True  \n",
       "3   $-61.34  $-2.56   -265.4%  False  \n",
       "4    $11.65   $0.49     99.1%   True  \n",
       "5   $-50.60  $-2.11  -1524.1%  False  \n",
       "6     $6.63   $0.28    100.0%   True  \n",
       "7     $1.80   $0.07     79.6%   True  \n",
       "8    $-0.32  $-0.01     -8.0%  False  \n",
       "9    $12.15   $0.51     88.3%   True  \n",
       "10   $34.65   $1.44     90.7%   True  \n",
       "11    $4.76   $0.20     77.7%   True  \n",
       "12    $3.93   $0.16     99.3%   True  \n",
       "13   $42.85   $1.79     85.9%   True  \n",
       "14    $1.09   $0.05     81.3%   True  \n",
       "15    $1.22   $0.05     89.8%   True  \n",
       "16    $7.56   $0.31     95.9%   True  \n",
       "17  $-18.56  $-0.77   -992.5%  False  \n",
       "18   $32.36   $1.35     98.6%   True  \n",
       "19   $16.82   $0.70     72.3%   True  \n",
       "20    $1.38   $0.06     47.8%   True  \n",
       "21    $2.29   $0.10     99.6%   True  \n",
       "22    $6.01   $0.25     32.9%   True  \n",
       "23   $30.20   $1.26     95.3%   True  \n",
       "24  $-21.86  $-0.91   -394.6%  False  \n",
       "25   $17.44   $0.73     31.5%   True  \n",
       "26  $-58.86  $-2.45   -139.4%  False  \n",
       "27   $37.36   $1.56     78.2%   True  \n",
       "28   $67.86   $2.83     87.0%   True  \n",
       "29  $-18.62  $-0.78    -98.5%  False  \n",
       "30   $45.04   $1.88     95.3%   True  "
      ]
     },
     "execution_count": 31,
     "metadata": {},
     "output_type": "execute_result"
    }
   ],
   "source": [
    "strategy_performance.reset_index(drop=True, inplace=True)\n",
    "strategy_performance"
   ]
  },
  {
   "cell_type": "code",
   "execution_count": 36,
   "metadata": {},
   "outputs": [
    {
     "name": "stdout",
     "output_type": "stream",
     "text": [
      "Average Cost:  $500.00\n"
     ]
    }
   ],
   "source": [
    "strategy_performance['Cost Basis']\n",
    "print('Average Cost: ', \"${:.2f}\".format(500)) "
   ]
  },
  {
   "cell_type": "markdown",
   "metadata": {},
   "source": [
    "#### *Note that for defined risk strategies, cost = buying power effect = 100 x width between two strike prices"
   ]
  },
  {
   "cell_type": "code",
   "execution_count": 32,
   "metadata": {},
   "outputs": [
    {
     "name": "stdout",
     "output_type": "stream",
     "text": [
      "Total Profit:  $161.16\n"
     ]
    }
   ],
   "source": [
    "strategy_performance['P&L']\n",
    "pnl_sum =strategy_performance['P&L'].str.strip('$').astype(float).sum()\n",
    "print('Total Profit: ', \"${:.2f}\".format(pnl_sum))"
   ]
  }
 ],
 "metadata": {
  "kernelspec": {
   "display_name": "Python 3",
   "language": "python",
   "name": "python3"
  },
  "language_info": {
   "codemirror_mode": {
    "name": "ipython",
    "version": 3
   },
   "file_extension": ".py",
   "mimetype": "text/x-python",
   "name": "python",
   "nbconvert_exporter": "python",
   "pygments_lexer": "ipython3",
   "version": "3.8.5"
  }
 },
 "nbformat": 4,
 "nbformat_minor": 4
}
