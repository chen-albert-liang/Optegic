{
 "cells": [
  {
   "cell_type": "code",
   "execution_count": 1,
   "metadata": {},
   "outputs": [],
   "source": [
    "import pandas as pd\n",
    "import matplotlib\n",
    "import matplotlib.pyplot as plt\n",
    "from matplotlib.pyplot import figure\n",
    "import numpy as np"
   ]
  },
  {
   "cell_type": "code",
   "execution_count": 2,
   "metadata": {},
   "outputs": [],
   "source": [
    "aapl_raw_data = pd.read_csv('aapl_backtest.csv')"
   ]
  },
  {
   "cell_type": "code",
   "execution_count": 3,
   "metadata": {},
   "outputs": [],
   "source": [
    "aapl_put_data = aapl_raw_data[['ticker', 'stkpx', 'expirdate', 'yte', 'strike', 'transact_date', 'transact_pbidpx', 'transact_pvalue',\n",
    "       'transact_paskpx',  'pbidpx',\n",
    "       'pvalue', 'paskpx', 'delta', 'gamma', 'theta', 'vega', 'rho', 'phi', 'trade_date']]"
   ]
  },
  {
   "cell_type": "code",
   "execution_count": 4,
   "metadata": {
    "scrolled": false
   },
   "outputs": [
    {
     "name": "stderr",
     "output_type": "stream",
     "text": [
      "<ipython-input-4-6031f2da92dd>:1: SettingWithCopyWarning: \n",
      "A value is trying to be set on a copy of a slice from a DataFrame.\n",
      "Try using .loc[row_indexer,col_indexer] = value instead\n",
      "\n",
      "See the caveats in the documentation: https://pandas.pydata.org/pandas-docs/stable/user_guide/indexing.html#returning-a-view-versus-a-copy\n",
      "  aapl_put_data['PeriodPnL'] = aapl_put_data['transact_pvalue'] - aapl_put_data['pvalue']\n"
     ]
    }
   ],
   "source": [
    "aapl_put_data['PeriodPnL'] = aapl_put_data['transact_pvalue'] - aapl_put_data['pvalue']"
   ]
  },
  {
   "cell_type": "code",
   "execution_count": 5,
   "metadata": {
    "scrolled": true
   },
   "outputs": [
    {
     "name": "stderr",
     "output_type": "stream",
     "text": [
      "<ipython-input-5-0a83fd985c90>:2: SettingWithCopyWarning: \n",
      "A value is trying to be set on a copy of a slice from a DataFrame.\n",
      "Try using .loc[row_indexer,col_indexer] = value instead\n",
      "\n",
      "See the caveats in the documentation: https://pandas.pydata.org/pandas-docs/stable/user_guide/indexing.html#returning-a-view-versus-a-copy\n",
      "  aapl_put_data['Date'] = pd.to_datetime(aapl_put_data['trade_date'])\n"
     ]
    },
    {
     "data": {
      "text/plain": [
       "<Figure size 800x480 with 0 Axes>"
      ]
     },
     "metadata": {},
     "output_type": "display_data"
    }
   ],
   "source": [
    "figure(figsize=(10,6), dpi=80)\n",
    "aapl_put_data['Date'] = pd.to_datetime(aapl_put_data['trade_date'])"
   ]
  },
  {
   "cell_type": "code",
   "execution_count": 6,
   "metadata": {},
   "outputs": [
    {
     "data": {
      "text/plain": [
       "<matplotlib.lines.Line2D at 0x1f28f0f3820>"
      ]
     },
     "execution_count": 6,
     "metadata": {},
     "output_type": "execute_result"
    },
    {
     "data": {
      "image/png": "[encoded data removed]",
      "text/plain": [
       "<Figure size 432x288 with 1 Axes>"
      ]
     },
     "metadata": {
      "needs_background": "light"
     },
     "output_type": "display_data"
    }
   ],
   "source": [
    "ax = plt.gca()\n",
    "ax.xaxis.set_major_locator(matplotlib.dates.YearLocator())\n",
    "ax.xaxis.set_major_formatter(matplotlib.dates.DateFormatter('%Y'))\n",
    "plt.plot(aapl_put_data['Date'], aapl_put_data['PeriodPnL'])\n",
    "plt.axhline(y=0, color='r', linestyle=':')"
   ]
  },
  {
   "cell_type": "markdown",
   "metadata": {},
   "source": [
    "Stop loss if loss > credit collected"
   ]
  },
  {
   "cell_type": "code",
   "execution_count": 7,
   "metadata": {},
   "outputs": [
    {
     "name": "stderr",
     "output_type": "stream",
     "text": [
      "<ipython-input-7-64f143edf12e>:1: SettingWithCopyWarning: \n",
      "A value is trying to be set on a copy of a slice from a DataFrame.\n",
      "Try using .loc[row_indexer,col_indexer] = value instead\n",
      "\n",
      "See the caveats in the documentation: https://pandas.pydata.org/pandas-docs/stable/user_guide/indexing.html#returning-a-view-versus-a-copy\n",
      "  aapl_put_data['Loss100'] = (aapl_put_data['PeriodPnL'] + 2.0*aapl_put_data['transact_pvalue'])<=0\n"
     ]
    }
   ],
   "source": [
    "aapl_put_data['Loss100'] = (aapl_put_data['PeriodPnL'] + 2.0*aapl_put_data['transact_pvalue'])<=0"
   ]
  },
  {
   "cell_type": "markdown",
   "metadata": {},
   "source": [
    "Find stop loss day"
   ]
  },
  {
   "cell_type": "code",
   "execution_count": 10,
   "metadata": {},
   "outputs": [
    {
     "data": {
      "text/html": [
       "<div>\n",
       "<style scoped>\n",
       "    .dataframe tbody tr th:only-of-type {\n",
       "        vertical-align: middle;\n",
       "    }\n",
       "\n",
       "    .dataframe tbody tr th {\n",
       "        vertical-align: top;\n",
       "    }\n",
       "\n",
       "    .dataframe thead th {\n",
       "        text-align: right;\n",
       "    }\n",
       "</style>\n",
       "<table border=\"1\" class=\"dataframe\">\n",
       "  <thead>\n",
       "    <tr style=\"text-align: right;\">\n",
       "      <th></th>\n",
       "      <th>expirdate</th>\n",
       "      <th>MinLossDate</th>\n",
       "    </tr>\n",
       "  </thead>\n",
       "  <tbody>\n",
       "    <tr>\n",
       "      <th>0</th>\n",
       "      <td>2016-05-20</td>\n",
       "      <td>2016-04-27</td>\n",
       "    </tr>\n",
       "    <tr>\n",
       "      <th>1</th>\n",
       "      <td>2016-07-15</td>\n",
       "      <td>2016-06-27</td>\n",
       "    </tr>\n",
       "    <tr>\n",
       "      <th>2</th>\n",
       "      <td>2017-07-21</td>\n",
       "      <td>2017-06-09</td>\n",
       "    </tr>\n",
       "    <tr>\n",
       "      <th>3</th>\n",
       "      <td>2018-02-16</td>\n",
       "      <td>2018-02-02</td>\n",
       "    </tr>\n",
       "    <tr>\n",
       "      <th>4</th>\n",
       "      <td>2018-11-16</td>\n",
       "      <td>2018-10-29</td>\n",
       "    </tr>\n",
       "    <tr>\n",
       "      <th>5</th>\n",
       "      <td>2018-12-21</td>\n",
       "      <td>2018-11-13</td>\n",
       "    </tr>\n",
       "    <tr>\n",
       "      <th>6</th>\n",
       "      <td>2019-01-18</td>\n",
       "      <td>2018-12-21</td>\n",
       "    </tr>\n",
       "    <tr>\n",
       "      <th>7</th>\n",
       "      <td>2019-06-21</td>\n",
       "      <td>2019-05-13</td>\n",
       "    </tr>\n",
       "    <tr>\n",
       "      <th>8</th>\n",
       "      <td>2020-03-20</td>\n",
       "      <td>2020-02-27</td>\n",
       "    </tr>\n",
       "    <tr>\n",
       "      <th>9</th>\n",
       "      <td>2020-04-17</td>\n",
       "      <td>2020-03-12</td>\n",
       "    </tr>\n",
       "    <tr>\n",
       "      <th>10</th>\n",
       "      <td>2021-03-19</td>\n",
       "      <td>2021-03-08</td>\n",
       "    </tr>\n",
       "  </tbody>\n",
       "</table>\n",
       "</div>"
      ],
      "text/plain": [
       "     expirdate MinLossDate\n",
       "0   2016-05-20  2016-04-27\n",
       "1   2016-07-15  2016-06-27\n",
       "2   2017-07-21  2017-06-09\n",
       "3   2018-02-16  2018-02-02\n",
       "4   2018-11-16  2018-10-29\n",
       "5   2018-12-21  2018-11-13\n",
       "6   2019-01-18  2018-12-21\n",
       "7   2019-06-21  2019-05-13\n",
       "8   2020-03-20  2020-02-27\n",
       "9   2020-04-17  2020-03-12\n",
       "10  2021-03-19  2021-03-08"
      ]
     },
     "execution_count": 10,
     "metadata": {},
     "output_type": "execute_result"
    }
   ],
   "source": [
    "aapl_put_data['LossDate'] = aapl_put_data['Loss100']*aapl_put_data['trade_date']\n",
    "stop_loss_dates_finder =  stop_loss_dates_finder[['expirdate','Loss100','LossDate']]\n",
    "stop_loss_dates_finder = stop_loss_dates_finder[stop_loss_dates_finder['Loss100']==True]\n",
    "stop_loss_dates = stop_loss_dates_finder.groupby('expirdate').agg({'LossDate':np.min}).reset_index(drop=False)\n",
    "stop_loss_dates = stop_loss_dates.rename(columns={'LossDate':'MinLossDate'})\n",
    "stop_loss_dates"
   ]
  },
  {
   "cell_type": "code",
   "execution_count": 23,
   "metadata": {},
   "outputs": [],
   "source": [
    "appl_portfolio = pd.merge(aapl_put_data, stop_loss_dates, on=['expirdate'], how='left')\n",
    "appl_portfolio['stopLoss'] = appl_portfolio['Date']>=appl_portfolio['MinLossDate']\n",
    "#appl_portfolio = appl_portfolio[appl_portfolio['MinLossDate'].isna()==True]"
   ]
  },
  {
   "cell_type": "code",
   "execution_count": 24,
   "metadata": {},
   "outputs": [
    {
     "data": {
      "text/html": [
       "<div>\n",
       "<style scoped>\n",
       "    .dataframe tbody tr th:only-of-type {\n",
       "        vertical-align: middle;\n",
       "    }\n",
       "\n",
       "    .dataframe tbody tr th {\n",
       "        vertical-align: top;\n",
       "    }\n",
       "\n",
       "    .dataframe thead th {\n",
       "        text-align: right;\n",
       "    }\n",
       "</style>\n",
       "<table border=\"1\" class=\"dataframe\">\n",
       "  <thead>\n",
       "    <tr style=\"text-align: right;\">\n",
       "      <th></th>\n",
       "      <th>ticker</th>\n",
       "      <th>stkpx</th>\n",
       "      <th>expirdate</th>\n",
       "      <th>yte</th>\n",
       "      <th>strike</th>\n",
       "      <th>transact_date</th>\n",
       "      <th>transact_pbidpx</th>\n",
       "      <th>transact_pvalue</th>\n",
       "      <th>transact_paskpx</th>\n",
       "      <th>pbidpx</th>\n",
       "      <th>...</th>\n",
       "      <th>vega</th>\n",
       "      <th>rho</th>\n",
       "      <th>phi</th>\n",
       "      <th>trade_date</th>\n",
       "      <th>PeriodPnL</th>\n",
       "      <th>Date</th>\n",
       "      <th>Loss100</th>\n",
       "      <th>LossDate</th>\n",
       "      <th>MinLossDate</th>\n",
       "      <th>stopLoss</th>\n",
       "    </tr>\n",
       "  </thead>\n",
       "  <tbody>\n",
       "    <tr>\n",
       "      <th>0</th>\n",
       "      <td>AAPL</td>\n",
       "      <td>105.22</td>\n",
       "      <td>2016-02-19</td>\n",
       "      <td>0.12603</td>\n",
       "      <td>97.5</td>\n",
       "      <td>2016-01-04</td>\n",
       "      <td>2.09</td>\n",
       "      <td>2.08</td>\n",
       "      <td>2.12</td>\n",
       "      <td>2.09</td>\n",
       "      <td>...</td>\n",
       "      <td>0.121235</td>\n",
       "      <td>0.086937</td>\n",
       "      <td>-0.098732</td>\n",
       "      <td>2016-01-04</td>\n",
       "      <td>0.00</td>\n",
       "      <td>2016-01-04</td>\n",
       "      <td>False</td>\n",
       "      <td></td>\n",
       "      <td>NaN</td>\n",
       "      <td>False</td>\n",
       "    </tr>\n",
       "    <tr>\n",
       "      <th>1</th>\n",
       "      <td>AAPL</td>\n",
       "      <td>102.78</td>\n",
       "      <td>2016-02-19</td>\n",
       "      <td>0.12329</td>\n",
       "      <td>97.5</td>\n",
       "      <td>2016-01-04</td>\n",
       "      <td>2.09</td>\n",
       "      <td>2.08</td>\n",
       "      <td>2.12</td>\n",
       "      <td>2.78</td>\n",
       "      <td>...</td>\n",
       "      <td>0.125749</td>\n",
       "      <td>0.077288</td>\n",
       "      <td>-0.086364</td>\n",
       "      <td>2016-01-05</td>\n",
       "      <td>-0.55</td>\n",
       "      <td>2016-01-05</td>\n",
       "      <td>False</td>\n",
       "      <td></td>\n",
       "      <td>NaN</td>\n",
       "      <td>False</td>\n",
       "    </tr>\n",
       "    <tr>\n",
       "      <th>2</th>\n",
       "      <td>AAPL</td>\n",
       "      <td>100.37</td>\n",
       "      <td>2016-02-19</td>\n",
       "      <td>0.12055</td>\n",
       "      <td>97.5</td>\n",
       "      <td>2016-01-04</td>\n",
       "      <td>2.09</td>\n",
       "      <td>2.08</td>\n",
       "      <td>2.12</td>\n",
       "      <td>3.65</td>\n",
       "      <td>...</td>\n",
       "      <td>0.134802</td>\n",
       "      <td>0.066175</td>\n",
       "      <td>-0.073370</td>\n",
       "      <td>2016-01-06</td>\n",
       "      <td>-1.50</td>\n",
       "      <td>2016-01-06</td>\n",
       "      <td>False</td>\n",
       "      <td></td>\n",
       "      <td>NaN</td>\n",
       "      <td>False</td>\n",
       "    </tr>\n",
       "    <tr>\n",
       "      <th>3</th>\n",
       "      <td>AAPL</td>\n",
       "      <td>97.14</td>\n",
       "      <td>2016-02-19</td>\n",
       "      <td>0.11781</td>\n",
       "      <td>97.5</td>\n",
       "      <td>2016-01-04</td>\n",
       "      <td>2.09</td>\n",
       "      <td>2.08</td>\n",
       "      <td>2.12</td>\n",
       "      <td>5.40</td>\n",
       "      <td>...</td>\n",
       "      <td>0.133097</td>\n",
       "      <td>0.052050</td>\n",
       "      <td>-0.057273</td>\n",
       "      <td>2016-01-07</td>\n",
       "      <td>-3.22</td>\n",
       "      <td>2016-01-07</td>\n",
       "      <td>False</td>\n",
       "      <td></td>\n",
       "      <td>NaN</td>\n",
       "      <td>False</td>\n",
       "    </tr>\n",
       "    <tr>\n",
       "      <th>4</th>\n",
       "      <td>AAPL</td>\n",
       "      <td>96.99</td>\n",
       "      <td>2016-02-19</td>\n",
       "      <td>0.11507</td>\n",
       "      <td>97.5</td>\n",
       "      <td>2016-01-04</td>\n",
       "      <td>2.09</td>\n",
       "      <td>2.08</td>\n",
       "      <td>2.12</td>\n",
       "      <td>5.15</td>\n",
       "      <td>...</td>\n",
       "      <td>0.131498</td>\n",
       "      <td>0.050361</td>\n",
       "      <td>-0.055158</td>\n",
       "      <td>2016-01-08</td>\n",
       "      <td>-3.08</td>\n",
       "      <td>2016-01-08</td>\n",
       "      <td>False</td>\n",
       "      <td></td>\n",
       "      <td>NaN</td>\n",
       "      <td>False</td>\n",
       "    </tr>\n",
       "    <tr>\n",
       "      <th>...</th>\n",
       "      <td>...</td>\n",
       "      <td>...</td>\n",
       "      <td>...</td>\n",
       "      <td>...</td>\n",
       "      <td>...</td>\n",
       "      <td>...</td>\n",
       "      <td>...</td>\n",
       "      <td>...</td>\n",
       "      <td>...</td>\n",
       "      <td>...</td>\n",
       "      <td>...</td>\n",
       "      <td>...</td>\n",
       "      <td>...</td>\n",
       "      <td>...</td>\n",
       "      <td>...</td>\n",
       "      <td>...</td>\n",
       "      <td>...</td>\n",
       "      <td>...</td>\n",
       "      <td>...</td>\n",
       "      <td>...</td>\n",
       "      <td>...</td>\n",
       "    </tr>\n",
       "    <tr>\n",
       "      <th>2065</th>\n",
       "      <td>AAPL</td>\n",
       "      <td>126.85</td>\n",
       "      <td>2021-06-18</td>\n",
       "      <td>0.06575</td>\n",
       "      <td>125.0</td>\n",
       "      <td>2021-04-30</td>\n",
       "      <td>2.28</td>\n",
       "      <td>2.30</td>\n",
       "      <td>2.29</td>\n",
       "      <td>2.12</td>\n",
       "      <td>...</td>\n",
       "      <td>0.124776</td>\n",
       "      <td>0.048397</td>\n",
       "      <td>-0.051050</td>\n",
       "      <td>2021-05-25</td>\n",
       "      <td>0.17</td>\n",
       "      <td>2021-05-25</td>\n",
       "      <td>False</td>\n",
       "      <td></td>\n",
       "      <td>NaN</td>\n",
       "      <td>False</td>\n",
       "    </tr>\n",
       "    <tr>\n",
       "      <th>2066</th>\n",
       "      <td>AAPL</td>\n",
       "      <td>126.73</td>\n",
       "      <td>2021-06-18</td>\n",
       "      <td>0.06301</td>\n",
       "      <td>125.0</td>\n",
       "      <td>2021-04-30</td>\n",
       "      <td>2.28</td>\n",
       "      <td>2.30</td>\n",
       "      <td>2.29</td>\n",
       "      <td>2.01</td>\n",
       "      <td>...</td>\n",
       "      <td>0.122034</td>\n",
       "      <td>0.047209</td>\n",
       "      <td>-0.049453</td>\n",
       "      <td>2021-05-26</td>\n",
       "      <td>0.29</td>\n",
       "      <td>2021-05-26</td>\n",
       "      <td>False</td>\n",
       "      <td></td>\n",
       "      <td>NaN</td>\n",
       "      <td>False</td>\n",
       "    </tr>\n",
       "    <tr>\n",
       "      <th>2067</th>\n",
       "      <td>AAPL</td>\n",
       "      <td>125.85</td>\n",
       "      <td>2021-06-18</td>\n",
       "      <td>0.06027</td>\n",
       "      <td>125.0</td>\n",
       "      <td>2021-04-30</td>\n",
       "      <td>2.28</td>\n",
       "      <td>2.30</td>\n",
       "      <td>2.29</td>\n",
       "      <td>2.30</td>\n",
       "      <td>...</td>\n",
       "      <td>0.121485</td>\n",
       "      <td>0.040978</td>\n",
       "      <td>-0.042849</td>\n",
       "      <td>2021-05-27</td>\n",
       "      <td>0.00</td>\n",
       "      <td>2021-05-27</td>\n",
       "      <td>False</td>\n",
       "      <td></td>\n",
       "      <td>NaN</td>\n",
       "      <td>False</td>\n",
       "    </tr>\n",
       "    <tr>\n",
       "      <th>2068</th>\n",
       "      <td>AAPL</td>\n",
       "      <td>125.05</td>\n",
       "      <td>2021-06-18</td>\n",
       "      <td>0.05753</td>\n",
       "      <td>125.0</td>\n",
       "      <td>2021-04-30</td>\n",
       "      <td>2.28</td>\n",
       "      <td>2.30</td>\n",
       "      <td>2.29</td>\n",
       "      <td>2.39</td>\n",
       "      <td>...</td>\n",
       "      <td>0.119614</td>\n",
       "      <td>0.035708</td>\n",
       "      <td>-0.037105</td>\n",
       "      <td>2021-05-28</td>\n",
       "      <td>-0.10</td>\n",
       "      <td>2021-05-28</td>\n",
       "      <td>False</td>\n",
       "      <td></td>\n",
       "      <td>NaN</td>\n",
       "      <td>False</td>\n",
       "    </tr>\n",
       "    <tr>\n",
       "      <th>2069</th>\n",
       "      <td>AAPL</td>\n",
       "      <td>125.05</td>\n",
       "      <td>2021-07-16</td>\n",
       "      <td>0.13425</td>\n",
       "      <td>120.0</td>\n",
       "      <td>2021-05-28</td>\n",
       "      <td>2.03</td>\n",
       "      <td>2.08</td>\n",
       "      <td>2.04</td>\n",
       "      <td>2.03</td>\n",
       "      <td>...</td>\n",
       "      <td>0.161415</td>\n",
       "      <td>0.105540</td>\n",
       "      <td>-0.115743</td>\n",
       "      <td>2021-05-28</td>\n",
       "      <td>0.00</td>\n",
       "      <td>2021-05-28</td>\n",
       "      <td>False</td>\n",
       "      <td></td>\n",
       "      <td>NaN</td>\n",
       "      <td>False</td>\n",
       "    </tr>\n",
       "  </tbody>\n",
       "</table>\n",
       "<p>2070 rows × 25 columns</p>\n",
       "</div>"
      ],
      "text/plain": [
       "     ticker   stkpx   expirdate      yte  strike transact_date  \\\n",
       "0      AAPL  105.22  2016-02-19  0.12603    97.5    2016-01-04   \n",
       "1      AAPL  102.78  2016-02-19  0.12329    97.5    2016-01-04   \n",
       "2      AAPL  100.37  2016-02-19  0.12055    97.5    2016-01-04   \n",
       "3      AAPL   97.14  2016-02-19  0.11781    97.5    2016-01-04   \n",
       "4      AAPL   96.99  2016-02-19  0.11507    97.5    2016-01-04   \n",
       "...     ...     ...         ...      ...     ...           ...   \n",
       "2065   AAPL  126.85  2021-06-18  0.06575   125.0    2021-04-30   \n",
       "2066   AAPL  126.73  2021-06-18  0.06301   125.0    2021-04-30   \n",
       "2067   AAPL  125.85  2021-06-18  0.06027   125.0    2021-04-30   \n",
       "2068   AAPL  125.05  2021-06-18  0.05753   125.0    2021-04-30   \n",
       "2069   AAPL  125.05  2021-07-16  0.13425   120.0    2021-05-28   \n",
       "\n",
       "      transact_pbidpx  transact_pvalue  transact_paskpx  pbidpx  ...  \\\n",
       "0                2.09             2.08             2.12    2.09  ...   \n",
       "1                2.09             2.08             2.12    2.78  ...   \n",
       "2                2.09             2.08             2.12    3.65  ...   \n",
       "3                2.09             2.08             2.12    5.40  ...   \n",
       "4                2.09             2.08             2.12    5.15  ...   \n",
       "...               ...              ...              ...     ...  ...   \n",
       "2065             2.28             2.30             2.29    2.12  ...   \n",
       "2066             2.28             2.30             2.29    2.01  ...   \n",
       "2067             2.28             2.30             2.29    2.30  ...   \n",
       "2068             2.28             2.30             2.29    2.39  ...   \n",
       "2069             2.03             2.08             2.04    2.03  ...   \n",
       "\n",
       "          vega       rho       phi  trade_date  PeriodPnL       Date  Loss100  \\\n",
       "0     0.121235  0.086937 -0.098732  2016-01-04       0.00 2016-01-04    False   \n",
       "1     0.125749  0.077288 -0.086364  2016-01-05      -0.55 2016-01-05    False   \n",
       "2     0.134802  0.066175 -0.073370  2016-01-06      -1.50 2016-01-06    False   \n",
       "3     0.133097  0.052050 -0.057273  2016-01-07      -3.22 2016-01-07    False   \n",
       "4     0.131498  0.050361 -0.055158  2016-01-08      -3.08 2016-01-08    False   \n",
       "...        ...       ...       ...         ...        ...        ...      ...   \n",
       "2065  0.124776  0.048397 -0.051050  2021-05-25       0.17 2021-05-25    False   \n",
       "2066  0.122034  0.047209 -0.049453  2021-05-26       0.29 2021-05-26    False   \n",
       "2067  0.121485  0.040978 -0.042849  2021-05-27       0.00 2021-05-27    False   \n",
       "2068  0.119614  0.035708 -0.037105  2021-05-28      -0.10 2021-05-28    False   \n",
       "2069  0.161415  0.105540 -0.115743  2021-05-28       0.00 2021-05-28    False   \n",
       "\n",
       "      LossDate MinLossDate  stopLoss  \n",
       "0                      NaN     False  \n",
       "1                      NaN     False  \n",
       "2                      NaN     False  \n",
       "3                      NaN     False  \n",
       "4                      NaN     False  \n",
       "...        ...         ...       ...  \n",
       "2065                   NaN     False  \n",
       "2066                   NaN     False  \n",
       "2067                   NaN     False  \n",
       "2068                   NaN     False  \n",
       "2069                   NaN     False  \n",
       "\n",
       "[2070 rows x 25 columns]"
      ]
     },
     "execution_count": 24,
     "metadata": {},
     "output_type": "execute_result"
    }
   ],
   "source": [
    "appl_portfolio"
   ]
  },
  {
   "cell_type": "code",
   "execution_count": 14,
   "metadata": {},
   "outputs": [],
   "source": [
    "portfolio = appl_portfolio[appl_portfolio['stopLoss']==False]\n",
    "# portfolio.to_csv('portfolio.csv')"
   ]
  },
  {
   "cell_type": "code",
   "execution_count": 16,
   "metadata": {},
   "outputs": [
    {
     "data": {
      "text/plain": [
       "95     2016-04-04\n",
       "96     2016-04-05\n",
       "97     2016-04-06\n",
       "98     2016-04-07\n",
       "99     2016-04-08\n",
       "          ...    \n",
       "1981   2021-03-15\n",
       "1982   2021-03-16\n",
       "1983   2021-03-17\n",
       "1984   2021-03-18\n",
       "1985   2021-03-19\n",
       "Name: Date, Length: 230, dtype: datetime64[ns]"
      ]
     },
     "execution_count": 16,
     "metadata": {},
     "output_type": "execute_result"
    }
   ],
   "source": [
    "portfolio['Date']"
   ]
  },
  {
   "cell_type": "code",
   "execution_count": null,
   "metadata": {},
   "outputs": [],
   "source": [
    "portfolio_period_end = portfolio.groupby(['expirdate'])['PeriodPnL'].last().reset_index(drop=False)\n",
    "portfolio_period_end['TotalPnL'] = portfolio_period_end['PeriodPnL'].cumsum()"
   ]
  },
  {
   "cell_type": "code",
   "execution_count": null,
   "metadata": {},
   "outputs": [],
   "source": [
    "portfolio_period_end.to_csv('aapl_portfolio.csv')"
   ]
  },
  {
   "cell_type": "code",
   "execution_count": null,
   "metadata": {},
   "outputs": [],
   "source": [
    "figure(figsize=(10,6), dpi=80)\n",
    "plt.plot(portfolio_period_end['TotalPnL']*100)"
   ]
  },
  {
   "cell_type": "code",
   "execution_count": null,
   "metadata": {},
   "outputs": [],
   "source": [
    "figure(figsize=(10,6), dpi=80)\n",
    "plt.plot(portfolio['PeriodPnL']*100)\n",
    "plt.axhline(y=0, color='r', linestyle=':')"
   ]
  },
  {
   "cell_type": "code",
   "execution_count": null,
   "metadata": {},
   "outputs": [],
   "source": []
  },
  {
   "cell_type": "code",
   "execution_count": null,
   "metadata": {},
   "outputs": [],
   "source": []
  },
  {
   "cell_type": "code",
   "execution_count": null,
   "metadata": {},
   "outputs": [],
   "source": []
  }
 ],
 "metadata": {
  "kernelspec": {
   "display_name": "Python 3",
   "language": "python",
   "name": "python3"
  },
  "language_info": {
   "codemirror_mode": {
    "name": "ipython",
    "version": 3
   },
   "file_extension": ".py",
   "mimetype": "text/x-python",
   "name": "python",
   "nbconvert_exporter": "python",
   "pygments_lexer": "ipython3",
   "version": "3.8.5"
  }
 },
 "nbformat": 4,
 "nbformat_minor": 4
}
