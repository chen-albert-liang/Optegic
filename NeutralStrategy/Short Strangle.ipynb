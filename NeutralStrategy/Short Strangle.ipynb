{
 "cells": [
  {
   "cell_type": "markdown",
   "metadata": {},
   "source": [
    "# Short Strangle"
   ]
  },
  {
   "cell_type": "markdown",
   "metadata": {},
   "source": [
    "### I. Strategy Overview"
   ]
  },
  {
   "cell_type": "markdown",
   "metadata": {},
   "source": [
    "* This strategy is composed of 2 short legs:\n",
    "    * 1 OTM call option typically set around 10-15 delta with <15% ITM by expiration\n",
    "    * 1 OTM put option typically set around 10-15 delta with <15% ITM by expiration\n",
    "* This is a high probability strategy with large buying power requirement"
   ]
  },
  {
   "cell_type": "markdown",
   "metadata": {},
   "source": [
    "#### Payoff\n",
    "Option Payoff or Profit and Loss (P&L) diagrams help us understand where our options strategies win or lose money at expiration based on different stock price points."
   ]
  },
  {
   "cell_type": "markdown",
   "metadata": {},
   "source": [
    "![](short_strangle.jpg)"
   ]
  },
  {
   "cell_type": "markdown",
   "metadata": {},
   "source": [
    "#### Features （Optional):\n",
    "* Undefined risk strategy\n",
    "* Delta Neutral: strategy profits if stock price expires between the strikes\n",
    "* Long Theta: profit of the strategy increases as time decays\n",
    "* Short volatility: profit of the strategy increases as the implied volatility drops"
   ]
  },
  {
   "cell_type": "markdown",
   "metadata": {},
   "source": [
    "### II. Strategy Setup\n",
    "* Observe the historical price of selected underlying\n",
    "* Find avaialble expiration dates for options\n",
    "* Select an expiration date, option type and stike price for the option strategy\n",
    "* Select entrance and exit point (simplified by choosing future enter and exit dates)"
   ]
  },
  {
   "cell_type": "code",
   "execution_count": 1,
   "metadata": {},
   "outputs": [],
   "source": [
    "import sys  \n",
    "sys.path.insert(0, 'C:\\\\Users\\\\chena\\\\Desktop\\\\Trading\\\\StrategicOptions\\\\')\n",
    "import datetime\n",
    "from Functions.mainprg import GetDays, GetPayOff, GetBackTesting, GetPriceHistory\n",
    "import pandas as pd\n",
    "import numpy as np\n",
    "from datetime import timedelta"
   ]
  },
  {
   "cell_type": "markdown",
   "metadata": {},
   "source": [
    "####  a. Select underlying by ticker"
   ]
  },
  {
   "cell_type": "code",
   "execution_count": 2,
   "metadata": {},
   "outputs": [
    {
     "name": "stderr",
     "output_type": "stream",
     "text": [
      "C:\\ProgramData\\Anaconda3\\lib\\site-packages\\pandas\\core\\arrays\\datetimes.py:1088: UserWarning: Converting to PeriodArray/Index representation will drop timezone information.\n",
      "  warnings.warn(\n"
     ]
    },
    {
     "data": {
      "image/png": "[encoded data removed]",
      "text/plain": [
       "<Figure size 864x432 with 1 Axes>"
      ]
     },
     "metadata": {
      "needs_background": "light"
     },
     "output_type": "display_data"
    }
   ],
   "source": [
    "Ticker = 'MSFT'\n",
    "GetPriceHistory(Ticker).plot_price_history()"
   ]
  },
  {
   "cell_type": "markdown",
   "metadata": {},
   "source": [
    "#### b. Find expiration dates for testing period"
   ]
  },
  {
   "cell_type": "code",
   "execution_count": 3,
   "metadata": {},
   "outputs": [
    {
     "name": "stderr",
     "output_type": "stream",
     "text": [
      "C:\\ProgramData\\Anaconda3\\lib\\site-packages\\pandas\\core\\arrays\\datetimes.py:1088: UserWarning: Converting to PeriodArray/Index representation will drop timezone information.\n",
      "  warnings.warn(\n"
     ]
    },
    {
     "data": {
      "text/html": [
       "<div>\n",
       "<style scoped>\n",
       "    .dataframe tbody tr th:only-of-type {\n",
       "        vertical-align: middle;\n",
       "    }\n",
       "\n",
       "    .dataframe tbody tr th {\n",
       "        vertical-align: top;\n",
       "    }\n",
       "\n",
       "    .dataframe thead th {\n",
       "        text-align: right;\n",
       "    }\n",
       "</style>\n",
       "<table border=\"1\" class=\"dataframe\">\n",
       "  <thead>\n",
       "    <tr style=\"text-align: right;\">\n",
       "      <th></th>\n",
       "      <th>Expiration Date</th>\n",
       "      <th>Day of the Week</th>\n",
       "      <th>Year-Month</th>\n",
       "      <th>Expiration</th>\n",
       "    </tr>\n",
       "  </thead>\n",
       "  <tbody>\n",
       "    <tr>\n",
       "      <th>0</th>\n",
       "      <td>2018-01-19</td>\n",
       "      <td>Friday</td>\n",
       "      <td>2018-01</td>\n",
       "      <td>1</td>\n",
       "    </tr>\n",
       "    <tr>\n",
       "      <th>1</th>\n",
       "      <td>2018-02-16</td>\n",
       "      <td>Friday</td>\n",
       "      <td>2018-02</td>\n",
       "      <td>1</td>\n",
       "    </tr>\n",
       "    <tr>\n",
       "      <th>2</th>\n",
       "      <td>2018-03-16</td>\n",
       "      <td>Friday</td>\n",
       "      <td>2018-03</td>\n",
       "      <td>1</td>\n",
       "    </tr>\n",
       "    <tr>\n",
       "      <th>3</th>\n",
       "      <td>2018-04-20</td>\n",
       "      <td>Friday</td>\n",
       "      <td>2018-04</td>\n",
       "      <td>1</td>\n",
       "    </tr>\n",
       "    <tr>\n",
       "      <th>4</th>\n",
       "      <td>2018-05-18</td>\n",
       "      <td>Friday</td>\n",
       "      <td>2018-05</td>\n",
       "      <td>1</td>\n",
       "    </tr>\n",
       "    <tr>\n",
       "      <th>5</th>\n",
       "      <td>2018-06-15</td>\n",
       "      <td>Friday</td>\n",
       "      <td>2018-06</td>\n",
       "      <td>1</td>\n",
       "    </tr>\n",
       "  </tbody>\n",
       "</table>\n",
       "</div>"
      ],
      "text/plain": [
       "  Expiration Date Day of the Week Year-Month  Expiration\n",
       "0      2018-01-19          Friday    2018-01           1\n",
       "1      2018-02-16          Friday    2018-02           1\n",
       "2      2018-03-16          Friday    2018-03           1\n",
       "3      2018-04-20          Friday    2018-04           1\n",
       "4      2018-05-18          Friday    2018-05           1\n",
       "5      2018-06-15          Friday    2018-06           1"
      ]
     },
     "execution_count": 3,
     "metadata": {},
     "output_type": "execute_result"
    }
   ],
   "source": [
    "Start_Date = datetime.datetime(2018, 1, 4)\n",
    "End_Date = datetime.datetime(2018,6, 30)\n",
    "\n",
    "GetDays(Ticker, Start_Date, End_Date, []).expiration_dates"
   ]
  },
  {
   "cell_type": "markdown",
   "metadata": {},
   "source": [
    "#### c. Select an expiration date, choose option type (call) and strike price"
   ]
  },
  {
   "cell_type": "code",
   "execution_count": 22,
   "metadata": {},
   "outputs": [],
   "source": [
    "expiration = datetime.datetime(2018, 3, 18)\n",
    "option_type = ['P', 'C']  # C(all), P(ut)\n",
    "action = ['S', 'S']  #L(ong), S(hort)\n",
    "\n",
    "# Change the strike price to see how it affects the strategy\n",
    "strike_price = [80, 90]  "
   ]
  },
  {
   "cell_type": "markdown",
   "metadata": {},
   "source": [
    "#### d. Choose option enter and exit dates"
   ]
  },
  {
   "cell_type": "code",
   "execution_count": 5,
   "metadata": {},
   "outputs": [],
   "source": [
    "entry_date = datetime.datetime(2018, 1, 2)\n",
    "exit_date = datetime.datetime(2018, 3, 5)"
   ]
  },
  {
   "cell_type": "markdown",
   "metadata": {},
   "source": [
    "### III. Visualization\n",
    "#### a. Generate option(s) price and payoff"
   ]
  },
  {
   "cell_type": "code",
   "execution_count": 9,
   "metadata": {
    "scrolled": false
   },
   "outputs": [
    {
     "name": "stdout",
     "output_type": "stream",
     "text": [
      "Option Premium = $0.91\n"
     ]
    },
    {
     "data": {
      "image/png": "[encoded data removed]",
      "text/plain": [
       "<Figure size 864x432 with 1 Axes>"
      ]
     },
     "metadata": {
      "needs_background": "light"
     },
     "output_type": "display_data"
    }
   ],
   "source": [
    "payoff = GetPayOff(Ticker, strike_price, entry_date, expiration, option_type, action)\n",
    "print('Option Premium = '+\"${:.2f}\".format(payoff.option_price[0] + payoff.option_price[1]))\n",
    "payoff.plot_payoff()"
   ]
  },
  {
   "cell_type": "markdown",
   "metadata": {},
   "source": [
    "#### * Probability of profit here is incorrect (needs more work)"
   ]
  },
  {
   "cell_type": "markdown",
   "metadata": {},
   "source": [
    "##### b. Compare returns by holding the option vs. buy&hold the underlying"
   ]
  },
  {
   "cell_type": "code",
   "execution_count": 10,
   "metadata": {},
   "outputs": [
    {
     "data": {
      "image/png": "[encoded data removed]",
      "text/plain": [
       "<Figure size 864x432 with 3 Axes>"
      ]
     },
     "metadata": {
      "needs_background": "light"
     },
     "output_type": "display_data"
    }
   ],
   "source": [
    "bt1 = GetBackTesting(Ticker, strike_price, expiration, entry_date, exit_date, option_type, action)\n",
    "bt1.plot_price_history()"
   ]
  },
  {
   "cell_type": "markdown",
   "metadata": {},
   "source": [
    "#### * 2 IV curves for put and call respectively.  Will retouch the plot later"
   ]
  },
  {
   "cell_type": "code",
   "execution_count": 13,
   "metadata": {
    "scrolled": false
   },
   "outputs": [
    {
     "data": {
      "image/png": "[encoded data removed]",
      "text/plain": [
       "<Figure size 864x432 with 2 Axes>"
      ]
     },
     "metadata": {
      "needs_background": "light"
     },
     "output_type": "display_data"
    }
   ],
   "source": [
    "bt1.plot_option_pnl()"
   ]
  },
  {
   "cell_type": "markdown",
   "metadata": {},
   "source": [
    "#### c. Strategy Summary"
   ]
  },
  {
   "cell_type": "code",
   "execution_count": 14,
   "metadata": {
    "scrolled": true
   },
   "outputs": [
    {
     "data": {
      "text/html": [
       "<div>\n",
       "<style scoped>\n",
       "    .dataframe tbody tr th:only-of-type {\n",
       "        vertical-align: middle;\n",
       "    }\n",
       "\n",
       "    .dataframe tbody tr th {\n",
       "        vertical-align: top;\n",
       "    }\n",
       "\n",
       "    .dataframe thead th {\n",
       "        text-align: right;\n",
       "    }\n",
       "</style>\n",
       "<table border=\"1\" class=\"dataframe\">\n",
       "  <thead>\n",
       "    <tr style=\"text-align: right;\">\n",
       "      <th></th>\n",
       "      <th>Entry Date</th>\n",
       "      <th>Cost Basis</th>\n",
       "      <th>Exit Date</th>\n",
       "      <th>Holding Period (Days)</th>\n",
       "      <th>Residual Value</th>\n",
       "      <th>P&amp;L</th>\n",
       "      <th>PnL/Day</th>\n",
       "      <th>ROC</th>\n",
       "      <th>Win</th>\n",
       "    </tr>\n",
       "  </thead>\n",
       "  <tbody>\n",
       "    <tr>\n",
       "      <th>0</th>\n",
       "      <td>2018-01-02</td>\n",
       "      <td>$-91.16</td>\n",
       "      <td>2018-03-05</td>\n",
       "      <td>62</td>\n",
       "      <td>$-606.56</td>\n",
       "      <td>$-515.40</td>\n",
       "      <td>$-8.31</td>\n",
       "      <td>-565.4%</td>\n",
       "      <td>False</td>\n",
       "    </tr>\n",
       "  </tbody>\n",
       "</table>\n",
       "</div>"
      ],
      "text/plain": [
       "   Entry Date Cost Basis   Exit Date  Holding Period (Days) Residual Value  \\\n",
       "0  2018-01-02    $-91.16  2018-03-05                     62       $-606.56   \n",
       "\n",
       "        P&L PnL/Day      ROC    Win  \n",
       "0  $-515.40  $-8.31  -565.4%  False  "
      ]
     },
     "execution_count": 14,
     "metadata": {},
     "output_type": "execute_result"
    }
   ],
   "source": [
    "bt1.strategy_summary"
   ]
  },
  {
   "cell_type": "markdown",
   "metadata": {},
   "source": [
    "### III. Recurring Strategy Setup"
   ]
  },
  {
   "cell_type": "markdown",
   "metadata": {},
   "source": [
    "#### a. Choose the backtesting period for the recurring startegy"
   ]
  },
  {
   "cell_type": "code",
   "execution_count": 15,
   "metadata": {},
   "outputs": [
    {
     "name": "stderr",
     "output_type": "stream",
     "text": [
      "C:\\ProgramData\\Anaconda3\\lib\\site-packages\\pandas\\core\\arrays\\datetimes.py:1088: UserWarning: Converting to PeriodArray/Index representation will drop timezone information.\n",
      "  warnings.warn(\n",
      "C:\\ProgramData\\Anaconda3\\lib\\site-packages\\pandas\\core\\arrays\\datetimes.py:1088: UserWarning: Converting to PeriodArray/Index representation will drop timezone information.\n",
      "  warnings.warn(\n"
     ]
    }
   ],
   "source": [
    "Start_Date = datetime.datetime(2016, 1, 4)\n",
    "End_Date = datetime.datetime(2018,8, 30)\n",
    "\n",
    "expiry = GetDays(Ticker, Start_Date, End_Date, []).expiration_dates\n",
    "trading_days = GetDays(Ticker, Start_Date, End_Date, []).trading_days\n",
    "trading_days['Year-Month'] = pd.to_datetime(trading_days['Date']).dt.to_period('M') + 1  # +1 to find the expiration date in the next month\n",
    "\n",
    "dte_seeker = pd.merge(trading_days, expiry, on='Year-Month', how='left')\n",
    "dte_seeker['DTE'] = (pd.to_datetime(dte_seeker['Expiration Date']) - pd.to_datetime(dte_seeker['Date'])).dt.days\n",
    "dte_seeker.dropna(inplace=True)"
   ]
  },
  {
   "cell_type": "markdown",
   "metadata": {},
   "source": [
    "#### b. Set trading rules"
   ]
  },
  {
   "cell_type": "markdown",
   "metadata": {},
   "source": [
    "#### Simplified (current):\n",
    "* Enter: 43 days before expriation\n",
    "* Exit: 21 days before expiration\n",
    "* Strike prices:\n",
    "* Short put: enter day underlying price - \\\\$7.5\n",
    "* Short Call: enter day underlying price + \\\\$7.5"
   ]
  },
  {
   "cell_type": "code",
   "execution_count": 16,
   "metadata": {
    "scrolled": true
   },
   "outputs": [],
   "source": [
    "entry_dates = pd.to_datetime(dte_seeker[dte_seeker['DTE']==43]['Date'].reset_index(drop=True))\n",
    "expiration_dates = pd.to_datetime(dte_seeker[dte_seeker['DTE']==43]['Expiration Date'].reset_index(drop=True))\n",
    "exit_dates = entry_dates + timedelta(days=24)\n",
    "expiration_dates = pd.to_datetime(expiration_dates)"
   ]
  },
  {
   "cell_type": "markdown",
   "metadata": {},
   "source": [
    "#### c. Run recursive analysis"
   ]
  },
  {
   "cell_type": "code",
   "execution_count": 17,
   "metadata": {},
   "outputs": [],
   "source": [
    "strategy_performance = pd.DataFrame([])\n",
    "strat_sum_for_stats = []\n",
    "strike_price = [32, 35]\n",
    "i = 0\n",
    "for _ in entry_dates:\n",
    "    bt = GetBackTesting(Ticker, strike_price, expiration_dates[i], entry_dates[i], exit_dates[i], option_type, action)\n",
    "    strategy_performance = strategy_performance.append(bt.strategy_summary)\n",
    "    strat_sum_for_stats.append(bt.strat_sum_for_stats)\n",
    "    i += 1\n",
    "    end_of_period_spot = bt.underlying_price_truncated_['close'][-1]\n",
    "    strike_price = [end_of_period_spot-7.5, end_of_period_spot+7.5]\n",
    "    \n",
    "win_rate = \"{:.2%}\".format(strategy_performance['Win'].sum()/len(strategy_performance['Win']))"
   ]
  },
  {
   "cell_type": "code",
   "execution_count": 18,
   "metadata": {},
   "outputs": [
    {
     "data": {
      "text/plain": [
       "'45.16%'"
      ]
     },
     "execution_count": 18,
     "metadata": {},
     "output_type": "execute_result"
    }
   ],
   "source": [
    "win_rate"
   ]
  },
  {
   "cell_type": "code",
   "execution_count": 19,
   "metadata": {},
   "outputs": [
    {
     "data": {
      "text/html": [
       "<div>\n",
       "<style scoped>\n",
       "    .dataframe tbody tr th:only-of-type {\n",
       "        vertical-align: middle;\n",
       "    }\n",
       "\n",
       "    .dataframe tbody tr th {\n",
       "        vertical-align: top;\n",
       "    }\n",
       "\n",
       "    .dataframe thead th {\n",
       "        text-align: right;\n",
       "    }\n",
       "</style>\n",
       "<table border=\"1\" class=\"dataframe\">\n",
       "  <thead>\n",
       "    <tr style=\"text-align: right;\">\n",
       "      <th></th>\n",
       "      <th>Entry Date</th>\n",
       "      <th>Cost Basis</th>\n",
       "      <th>Exit Date</th>\n",
       "      <th>Holding Period (Days)</th>\n",
       "      <th>Residual Value</th>\n",
       "      <th>P&amp;L</th>\n",
       "      <th>PnL/Day</th>\n",
       "      <th>ROC</th>\n",
       "      <th>Win</th>\n",
       "    </tr>\n",
       "  </thead>\n",
       "  <tbody>\n",
       "    <tr>\n",
       "      <th>0</th>\n",
       "      <td>2016-01-07</td>\n",
       "      <td>$-482.35</td>\n",
       "      <td>2016-01-31</td>\n",
       "      <td>24</td>\n",
       "      <td>$-718.02</td>\n",
       "      <td>$-235.66</td>\n",
       "      <td>$-9.82</td>\n",
       "      <td>-48.9%</td>\n",
       "      <td>False</td>\n",
       "    </tr>\n",
       "    <tr>\n",
       "      <th>1</th>\n",
       "      <td>2016-02-04</td>\n",
       "      <td>$-58.14</td>\n",
       "      <td>2016-02-28</td>\n",
       "      <td>24</td>\n",
       "      <td>$-42.46</td>\n",
       "      <td>$15.68</td>\n",
       "      <td>$0.65</td>\n",
       "      <td>27.0%</td>\n",
       "      <td>True</td>\n",
       "    </tr>\n",
       "    <tr>\n",
       "      <th>2</th>\n",
       "      <td>2016-03-03</td>\n",
       "      <td>$-11.74</td>\n",
       "      <td>2016-03-27</td>\n",
       "      <td>24</td>\n",
       "      <td>$-12.28</td>\n",
       "      <td>$-0.55</td>\n",
       "      <td>$-0.02</td>\n",
       "      <td>-4.7%</td>\n",
       "      <td>False</td>\n",
       "    </tr>\n",
       "    <tr>\n",
       "      <th>3</th>\n",
       "      <td>2016-04-07</td>\n",
       "      <td>$-28.24</td>\n",
       "      <td>2016-05-01</td>\n",
       "      <td>24</td>\n",
       "      <td>$-33.72</td>\n",
       "      <td>$-5.48</td>\n",
       "      <td>$-0.23</td>\n",
       "      <td>-19.4%</td>\n",
       "      <td>False</td>\n",
       "    </tr>\n",
       "    <tr>\n",
       "      <th>4</th>\n",
       "      <td>2016-05-05</td>\n",
       "      <td>$-4.40</td>\n",
       "      <td>2016-05-29</td>\n",
       "      <td>24</td>\n",
       "      <td>$-2.84</td>\n",
       "      <td>$1.56</td>\n",
       "      <td>$0.07</td>\n",
       "      <td>35.5%</td>\n",
       "      <td>True</td>\n",
       "    </tr>\n",
       "    <tr>\n",
       "      <th>5</th>\n",
       "      <td>2016-06-02</td>\n",
       "      <td>$-1.04</td>\n",
       "      <td>2016-06-26</td>\n",
       "      <td>24</td>\n",
       "      <td>$-24.70</td>\n",
       "      <td>$-23.66</td>\n",
       "      <td>$-0.99</td>\n",
       "      <td>-2276.8%</td>\n",
       "      <td>False</td>\n",
       "    </tr>\n",
       "    <tr>\n",
       "      <th>6</th>\n",
       "      <td>2016-07-07</td>\n",
       "      <td>$-18.86</td>\n",
       "      <td>2016-07-31</td>\n",
       "      <td>24</td>\n",
       "      <td>$-78.35</td>\n",
       "      <td>$-59.49</td>\n",
       "      <td>$-2.48</td>\n",
       "      <td>-315.4%</td>\n",
       "      <td>False</td>\n",
       "    </tr>\n",
       "    <tr>\n",
       "      <th>7</th>\n",
       "      <td>2016-08-04</td>\n",
       "      <td>$-0.66</td>\n",
       "      <td>2016-08-28</td>\n",
       "      <td>24</td>\n",
       "      <td>$-1.76</td>\n",
       "      <td>$-1.10</td>\n",
       "      <td>$-0.05</td>\n",
       "      <td>-167.2%</td>\n",
       "      <td>False</td>\n",
       "    </tr>\n",
       "    <tr>\n",
       "      <th>8</th>\n",
       "      <td>2016-09-08</td>\n",
       "      <td>$-0.34</td>\n",
       "      <td>2016-10-02</td>\n",
       "      <td>24</td>\n",
       "      <td>$-0.48</td>\n",
       "      <td>$-0.15</td>\n",
       "      <td>$-0.01</td>\n",
       "      <td>-44.4%</td>\n",
       "      <td>False</td>\n",
       "    </tr>\n",
       "    <tr>\n",
       "      <th>9</th>\n",
       "      <td>2016-10-06</td>\n",
       "      <td>$-10.68</td>\n",
       "      <td>2016-10-30</td>\n",
       "      <td>24</td>\n",
       "      <td>$-14.21</td>\n",
       "      <td>$-3.53</td>\n",
       "      <td>$-0.15</td>\n",
       "      <td>-33.1%</td>\n",
       "      <td>False</td>\n",
       "    </tr>\n",
       "    <tr>\n",
       "      <th>10</th>\n",
       "      <td>2016-11-03</td>\n",
       "      <td>$-27.47</td>\n",
       "      <td>2016-11-27</td>\n",
       "      <td>24</td>\n",
       "      <td>$-2.69</td>\n",
       "      <td>$24.78</td>\n",
       "      <td>$1.03</td>\n",
       "      <td>90.2%</td>\n",
       "      <td>True</td>\n",
       "    </tr>\n",
       "    <tr>\n",
       "      <th>11</th>\n",
       "      <td>2016-12-08</td>\n",
       "      <td>$-4.22</td>\n",
       "      <td>2017-01-01</td>\n",
       "      <td>24</td>\n",
       "      <td>$-7.77</td>\n",
       "      <td>$-3.55</td>\n",
       "      <td>$-0.15</td>\n",
       "      <td>-84.2%</td>\n",
       "      <td>False</td>\n",
       "    </tr>\n",
       "    <tr>\n",
       "      <th>12</th>\n",
       "      <td>2017-01-05</td>\n",
       "      <td>$-1.74</td>\n",
       "      <td>2017-01-29</td>\n",
       "      <td>24</td>\n",
       "      <td>$-13.21</td>\n",
       "      <td>$-11.47</td>\n",
       "      <td>$-0.48</td>\n",
       "      <td>-659.5%</td>\n",
       "      <td>False</td>\n",
       "    </tr>\n",
       "    <tr>\n",
       "      <th>13</th>\n",
       "      <td>2017-02-02</td>\n",
       "      <td>$-17.91</td>\n",
       "      <td>2017-02-26</td>\n",
       "      <td>24</td>\n",
       "      <td>$-0.50</td>\n",
       "      <td>$17.41</td>\n",
       "      <td>$0.73</td>\n",
       "      <td>97.2%</td>\n",
       "      <td>True</td>\n",
       "    </tr>\n",
       "    <tr>\n",
       "      <th>14</th>\n",
       "      <td>2017-03-16</td>\n",
       "      <td>$-0.17</td>\n",
       "      <td>2017-04-09</td>\n",
       "      <td>24</td>\n",
       "      <td>$-0.47</td>\n",
       "      <td>$-0.30</td>\n",
       "      <td>$-0.01</td>\n",
       "      <td>-176.8%</td>\n",
       "      <td>False</td>\n",
       "    </tr>\n",
       "    <tr>\n",
       "      <th>15</th>\n",
       "      <td>2017-04-06</td>\n",
       "      <td>$-0.18</td>\n",
       "      <td>2017-04-30</td>\n",
       "      <td>24</td>\n",
       "      <td>$-6.50</td>\n",
       "      <td>$-6.32</td>\n",
       "      <td>$-0.26</td>\n",
       "      <td>-3564.4%</td>\n",
       "      <td>False</td>\n",
       "    </tr>\n",
       "    <tr>\n",
       "      <th>16</th>\n",
       "      <td>2017-05-04</td>\n",
       "      <td>$-2.46</td>\n",
       "      <td>2017-05-28</td>\n",
       "      <td>24</td>\n",
       "      <td>$-1.40</td>\n",
       "      <td>$1.06</td>\n",
       "      <td>$0.04</td>\n",
       "      <td>43.1%</td>\n",
       "      <td>True</td>\n",
       "    </tr>\n",
       "    <tr>\n",
       "      <th>17</th>\n",
       "      <td>2017-06-08</td>\n",
       "      <td>$-11.16</td>\n",
       "      <td>2017-07-02</td>\n",
       "      <td>24</td>\n",
       "      <td>$-6.49</td>\n",
       "      <td>$4.66</td>\n",
       "      <td>$0.19</td>\n",
       "      <td>41.8%</td>\n",
       "      <td>True</td>\n",
       "    </tr>\n",
       "    <tr>\n",
       "      <th>18</th>\n",
       "      <td>2017-07-06</td>\n",
       "      <td>$-31.43</td>\n",
       "      <td>2017-07-30</td>\n",
       "      <td>24</td>\n",
       "      <td>$-41.32</td>\n",
       "      <td>$-9.89</td>\n",
       "      <td>$-0.41</td>\n",
       "      <td>-31.5%</td>\n",
       "      <td>False</td>\n",
       "    </tr>\n",
       "    <tr>\n",
       "      <th>19</th>\n",
       "      <td>2017-08-03</td>\n",
       "      <td>$-7.39</td>\n",
       "      <td>2017-08-27</td>\n",
       "      <td>24</td>\n",
       "      <td>$-1.75</td>\n",
       "      <td>$5.64</td>\n",
       "      <td>$0.23</td>\n",
       "      <td>76.3%</td>\n",
       "      <td>True</td>\n",
       "    </tr>\n",
       "    <tr>\n",
       "      <th>20</th>\n",
       "      <td>2017-09-07</td>\n",
       "      <td>$-8.09</td>\n",
       "      <td>2017-10-01</td>\n",
       "      <td>24</td>\n",
       "      <td>$-4.74</td>\n",
       "      <td>$3.36</td>\n",
       "      <td>$0.14</td>\n",
       "      <td>41.5%</td>\n",
       "      <td>True</td>\n",
       "    </tr>\n",
       "    <tr>\n",
       "      <th>21</th>\n",
       "      <td>2017-10-05</td>\n",
       "      <td>$-6.41</td>\n",
       "      <td>2017-10-29</td>\n",
       "      <td>24</td>\n",
       "      <td>$-280.82</td>\n",
       "      <td>$-274.41</td>\n",
       "      <td>$-11.43</td>\n",
       "      <td>-4281.7%</td>\n",
       "      <td>False</td>\n",
       "    </tr>\n",
       "    <tr>\n",
       "      <th>22</th>\n",
       "      <td>2017-11-02</td>\n",
       "      <td>$-11.37</td>\n",
       "      <td>2017-11-26</td>\n",
       "      <td>24</td>\n",
       "      <td>$-4.05</td>\n",
       "      <td>$7.32</td>\n",
       "      <td>$0.31</td>\n",
       "      <td>64.4%</td>\n",
       "      <td>True</td>\n",
       "    </tr>\n",
       "    <tr>\n",
       "      <th>23</th>\n",
       "      <td>2017-12-07</td>\n",
       "      <td>$-21.18</td>\n",
       "      <td>2017-12-31</td>\n",
       "      <td>24</td>\n",
       "      <td>$-14.51</td>\n",
       "      <td>$6.67</td>\n",
       "      <td>$0.28</td>\n",
       "      <td>31.5%</td>\n",
       "      <td>True</td>\n",
       "    </tr>\n",
       "    <tr>\n",
       "      <th>24</th>\n",
       "      <td>2018-01-04</td>\n",
       "      <td>$-13.94</td>\n",
       "      <td>2018-01-28</td>\n",
       "      <td>24</td>\n",
       "      <td>$-556.92</td>\n",
       "      <td>$-542.98</td>\n",
       "      <td>$-22.62</td>\n",
       "      <td>-3896.1%</td>\n",
       "      <td>False</td>\n",
       "    </tr>\n",
       "    <tr>\n",
       "      <th>25</th>\n",
       "      <td>2018-02-01</td>\n",
       "      <td>$-109.91</td>\n",
       "      <td>2018-02-25</td>\n",
       "      <td>24</td>\n",
       "      <td>$-51.77</td>\n",
       "      <td>$58.14</td>\n",
       "      <td>$2.42</td>\n",
       "      <td>52.9%</td>\n",
       "      <td>True</td>\n",
       "    </tr>\n",
       "    <tr>\n",
       "      <th>26</th>\n",
       "      <td>2018-03-08</td>\n",
       "      <td>$-80.95</td>\n",
       "      <td>2018-04-01</td>\n",
       "      <td>24</td>\n",
       "      <td>$-192.14</td>\n",
       "      <td>$-111.19</td>\n",
       "      <td>$-4.63</td>\n",
       "      <td>-137.4%</td>\n",
       "      <td>False</td>\n",
       "    </tr>\n",
       "    <tr>\n",
       "      <th>27</th>\n",
       "      <td>2018-04-05</td>\n",
       "      <td>$-152.70</td>\n",
       "      <td>2018-04-29</td>\n",
       "      <td>24</td>\n",
       "      <td>$-145.59</td>\n",
       "      <td>$7.11</td>\n",
       "      <td>$0.30</td>\n",
       "      <td>4.7%</td>\n",
       "      <td>True</td>\n",
       "    </tr>\n",
       "    <tr>\n",
       "      <th>28</th>\n",
       "      <td>2018-05-03</td>\n",
       "      <td>$-115.00</td>\n",
       "      <td>2018-05-27</td>\n",
       "      <td>24</td>\n",
       "      <td>$-54.41</td>\n",
       "      <td>$60.59</td>\n",
       "      <td>$2.52</td>\n",
       "      <td>52.7%</td>\n",
       "      <td>True</td>\n",
       "    </tr>\n",
       "    <tr>\n",
       "      <th>29</th>\n",
       "      <td>2018-06-07</td>\n",
       "      <td>$-85.33</td>\n",
       "      <td>2018-07-01</td>\n",
       "      <td>24</td>\n",
       "      <td>$-60.34</td>\n",
       "      <td>$24.99</td>\n",
       "      <td>$1.04</td>\n",
       "      <td>29.3%</td>\n",
       "      <td>True</td>\n",
       "    </tr>\n",
       "    <tr>\n",
       "      <th>30</th>\n",
       "      <td>2018-07-05</td>\n",
       "      <td>$-141.01</td>\n",
       "      <td>2018-07-29</td>\n",
       "      <td>24</td>\n",
       "      <td>$-363.19</td>\n",
       "      <td>$-222.18</td>\n",
       "      <td>$-9.26</td>\n",
       "      <td>-157.6%</td>\n",
       "      <td>False</td>\n",
       "    </tr>\n",
       "  </tbody>\n",
       "</table>\n",
       "</div>"
      ],
      "text/plain": [
       "    Entry Date Cost Basis   Exit Date  Holding Period (Days) Residual Value  \\\n",
       "0   2016-01-07   $-482.35  2016-01-31                     24       $-718.02   \n",
       "1   2016-02-04    $-58.14  2016-02-28                     24        $-42.46   \n",
       "2   2016-03-03    $-11.74  2016-03-27                     24        $-12.28   \n",
       "3   2016-04-07    $-28.24  2016-05-01                     24        $-33.72   \n",
       "4   2016-05-05     $-4.40  2016-05-29                     24         $-2.84   \n",
       "5   2016-06-02     $-1.04  2016-06-26                     24        $-24.70   \n",
       "6   2016-07-07    $-18.86  2016-07-31                     24        $-78.35   \n",
       "7   2016-08-04     $-0.66  2016-08-28                     24         $-1.76   \n",
       "8   2016-09-08     $-0.34  2016-10-02                     24         $-0.48   \n",
       "9   2016-10-06    $-10.68  2016-10-30                     24        $-14.21   \n",
       "10  2016-11-03    $-27.47  2016-11-27                     24         $-2.69   \n",
       "11  2016-12-08     $-4.22  2017-01-01                     24         $-7.77   \n",
       "12  2017-01-05     $-1.74  2017-01-29                     24        $-13.21   \n",
       "13  2017-02-02    $-17.91  2017-02-26                     24         $-0.50   \n",
       "14  2017-03-16     $-0.17  2017-04-09                     24         $-0.47   \n",
       "15  2017-04-06     $-0.18  2017-04-30                     24         $-6.50   \n",
       "16  2017-05-04     $-2.46  2017-05-28                     24         $-1.40   \n",
       "17  2017-06-08    $-11.16  2017-07-02                     24         $-6.49   \n",
       "18  2017-07-06    $-31.43  2017-07-30                     24        $-41.32   \n",
       "19  2017-08-03     $-7.39  2017-08-27                     24         $-1.75   \n",
       "20  2017-09-07     $-8.09  2017-10-01                     24         $-4.74   \n",
       "21  2017-10-05     $-6.41  2017-10-29                     24       $-280.82   \n",
       "22  2017-11-02    $-11.37  2017-11-26                     24         $-4.05   \n",
       "23  2017-12-07    $-21.18  2017-12-31                     24        $-14.51   \n",
       "24  2018-01-04    $-13.94  2018-01-28                     24       $-556.92   \n",
       "25  2018-02-01   $-109.91  2018-02-25                     24        $-51.77   \n",
       "26  2018-03-08    $-80.95  2018-04-01                     24       $-192.14   \n",
       "27  2018-04-05   $-152.70  2018-04-29                     24       $-145.59   \n",
       "28  2018-05-03   $-115.00  2018-05-27                     24        $-54.41   \n",
       "29  2018-06-07    $-85.33  2018-07-01                     24        $-60.34   \n",
       "30  2018-07-05   $-141.01  2018-07-29                     24       $-363.19   \n",
       "\n",
       "         P&L  PnL/Day       ROC    Win  \n",
       "0   $-235.66   $-9.82    -48.9%  False  \n",
       "1     $15.68    $0.65     27.0%   True  \n",
       "2     $-0.55   $-0.02     -4.7%  False  \n",
       "3     $-5.48   $-0.23    -19.4%  False  \n",
       "4      $1.56    $0.07     35.5%   True  \n",
       "5    $-23.66   $-0.99  -2276.8%  False  \n",
       "6    $-59.49   $-2.48   -315.4%  False  \n",
       "7     $-1.10   $-0.05   -167.2%  False  \n",
       "8     $-0.15   $-0.01    -44.4%  False  \n",
       "9     $-3.53   $-0.15    -33.1%  False  \n",
       "10    $24.78    $1.03     90.2%   True  \n",
       "11    $-3.55   $-0.15    -84.2%  False  \n",
       "12   $-11.47   $-0.48   -659.5%  False  \n",
       "13    $17.41    $0.73     97.2%   True  \n",
       "14    $-0.30   $-0.01   -176.8%  False  \n",
       "15    $-6.32   $-0.26  -3564.4%  False  \n",
       "16     $1.06    $0.04     43.1%   True  \n",
       "17     $4.66    $0.19     41.8%   True  \n",
       "18    $-9.89   $-0.41    -31.5%  False  \n",
       "19     $5.64    $0.23     76.3%   True  \n",
       "20     $3.36    $0.14     41.5%   True  \n",
       "21  $-274.41  $-11.43  -4281.7%  False  \n",
       "22     $7.32    $0.31     64.4%   True  \n",
       "23     $6.67    $0.28     31.5%   True  \n",
       "24  $-542.98  $-22.62  -3896.1%  False  \n",
       "25    $58.14    $2.42     52.9%   True  \n",
       "26  $-111.19   $-4.63   -137.4%  False  \n",
       "27     $7.11    $0.30      4.7%   True  \n",
       "28    $60.59    $2.52     52.7%   True  \n",
       "29    $24.99    $1.04     29.3%   True  \n",
       "30  $-222.18   $-9.26   -157.6%  False  "
      ]
     },
     "execution_count": 19,
     "metadata": {},
     "output_type": "execute_result"
    }
   ],
   "source": [
    "strategy_performance.reset_index(drop=True, inplace=True)\n",
    "strategy_performance"
   ]
  },
  {
   "cell_type": "markdown",
   "metadata": {},
   "source": [
    "#### *Note that for undefined risk strategies, cost = buying power effect substantial"
   ]
  },
  {
   "cell_type": "code",
   "execution_count": 21,
   "metadata": {},
   "outputs": [
    {
     "name": "stdout",
     "output_type": "stream",
     "text": [
      "Total Profit:  $-1272.94\n"
     ]
    }
   ],
   "source": [
    "strategy_performance['P&L']\n",
    "pnl_sum =strategy_performance['P&L'].str.strip('$').astype(float).sum()\n",
    "print('Total Profit: ', \"${:.2f}\".format(pnl_sum))"
   ]
  }
 ],
 "metadata": {
  "kernelspec": {
   "display_name": "Python 3",
   "language": "python",
   "name": "python3"
  },
  "language_info": {
   "codemirror_mode": {
    "name": "ipython",
    "version": 3
   },
   "file_extension": ".py",
   "mimetype": "text/x-python",
   "name": "python",
   "nbconvert_exporter": "python",
   "pygments_lexer": "ipython3",
   "version": "3.8.5"
  }
 },
 "nbformat": 4,
 "nbformat_minor": 4
}
