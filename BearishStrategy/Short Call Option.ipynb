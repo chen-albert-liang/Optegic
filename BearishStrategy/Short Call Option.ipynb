{
 "cells": [
  {
   "cell_type": "markdown",
   "metadata": {},
   "source": [
    "# Long Call Option"
   ]
  },
  {
   "cell_type": "markdown",
   "metadata": {},
   "source": [
    "### I. Strategy Overview"
   ]
  },
  {
   "cell_type": "markdown",
   "metadata": {},
   "source": [
    "This is the most basic option strategy composed of a single short call leg. One common use of short call is to reduce the cost basis of the underlying you hold."
   ]
  },
  {
   "cell_type": "markdown",
   "metadata": {},
   "source": [
    "#### Payoff\n",
    "Option Payoff or Profit and Loss (P&L) diagrams help us understand where our options strategies win or lose money at expiration based on different stock price points."
   ]
  },
  {
   "cell_type": "markdown",
   "metadata": {},
   "source": [
    "![](short_call.jpg)"
   ]
  },
  {
   "cell_type": "markdown",
   "metadata": {},
   "source": [
    "#### Features (optional):\n",
    "* Short Delta: profit of the strategy increases as the underlying price goes down\n",
    "* Long Theta: profit of the strategy increases as time decays\n",
    "* Short volatility: profit of the strategy increases as the implied volatility drops"
   ]
  },
  {
   "cell_type": "markdown",
   "metadata": {},
   "source": [
    "### II. Strategy Setup\n",
    "* Observe the historical price of selected underlying\n",
    "* Find avaialble expiration dates for options\n",
    "* Select an expiration date, option type and stike price for the option strategy\n",
    "* Select entrance and exit point (simplified by choosing future enter and exit dates)"
   ]
  },
  {
   "cell_type": "code",
   "execution_count": 1,
   "metadata": {},
   "outputs": [],
   "source": [
    "import sys  \n",
    "sys.path.insert(0, 'C:\\\\Users\\\\chena\\\\Desktop\\\\Trading\\\\StrategicOptions\\\\')\n",
    "import datetime\n",
    "from Functions.mainprg import GetDays, GetPayOff, GetBackTesting, GetPriceHistory\n",
    "import pandas as pd\n",
    "import numpy as np\n",
    "from datetime import timedelta"
   ]
  },
  {
   "cell_type": "markdown",
   "metadata": {},
   "source": [
    "####  a. Select underlying by ticker"
   ]
  },
  {
   "cell_type": "code",
   "execution_count": 2,
   "metadata": {},
   "outputs": [
    {
     "name": "stderr",
     "output_type": "stream",
     "text": [
      "C:\\ProgramData\\Anaconda3\\lib\\site-packages\\pandas\\core\\arrays\\datetimes.py:1088: UserWarning: Converting to PeriodArray/Index representation will drop timezone information.\n",
      "  warnings.warn(\n"
     ]
    },
    {
     "data": {
      "image/png": "[encoded data removed]",
      "text/plain": [
       "<Figure size 864x432 with 1 Axes>"
      ]
     },
     "metadata": {
      "needs_background": "light"
     },
     "output_type": "display_data"
    }
   ],
   "source": [
    "Ticker = 'MSFT'\n",
    "GetPriceHistory(Ticker).plot_price_history()"
   ]
  },
  {
   "cell_type": "markdown",
   "metadata": {},
   "source": [
    "#### b. Find expiration dates for testing period"
   ]
  },
  {
   "cell_type": "code",
   "execution_count": 3,
   "metadata": {},
   "outputs": [
    {
     "name": "stderr",
     "output_type": "stream",
     "text": [
      "C:\\ProgramData\\Anaconda3\\lib\\site-packages\\pandas\\core\\arrays\\datetimes.py:1088: UserWarning: Converting to PeriodArray/Index representation will drop timezone information.\n",
      "  warnings.warn(\n"
     ]
    },
    {
     "data": {
      "text/html": [
       "<div>\n",
       "<style scoped>\n",
       "    .dataframe tbody tr th:only-of-type {\n",
       "        vertical-align: middle;\n",
       "    }\n",
       "\n",
       "    .dataframe tbody tr th {\n",
       "        vertical-align: top;\n",
       "    }\n",
       "\n",
       "    .dataframe thead th {\n",
       "        text-align: right;\n",
       "    }\n",
       "</style>\n",
       "<table border=\"1\" class=\"dataframe\">\n",
       "  <thead>\n",
       "    <tr style=\"text-align: right;\">\n",
       "      <th></th>\n",
       "      <th>Expiration Date</th>\n",
       "      <th>Day of the Week</th>\n",
       "      <th>Year-Month</th>\n",
       "      <th>Expiration</th>\n",
       "    </tr>\n",
       "  </thead>\n",
       "  <tbody>\n",
       "    <tr>\n",
       "      <th>0</th>\n",
       "      <td>2018-01-19</td>\n",
       "      <td>Friday</td>\n",
       "      <td>2018-01</td>\n",
       "      <td>1</td>\n",
       "    </tr>\n",
       "    <tr>\n",
       "      <th>1</th>\n",
       "      <td>2018-02-16</td>\n",
       "      <td>Friday</td>\n",
       "      <td>2018-02</td>\n",
       "      <td>1</td>\n",
       "    </tr>\n",
       "    <tr>\n",
       "      <th>2</th>\n",
       "      <td>2018-03-16</td>\n",
       "      <td>Friday</td>\n",
       "      <td>2018-03</td>\n",
       "      <td>1</td>\n",
       "    </tr>\n",
       "    <tr>\n",
       "      <th>3</th>\n",
       "      <td>2018-04-20</td>\n",
       "      <td>Friday</td>\n",
       "      <td>2018-04</td>\n",
       "      <td>1</td>\n",
       "    </tr>\n",
       "    <tr>\n",
       "      <th>4</th>\n",
       "      <td>2018-05-18</td>\n",
       "      <td>Friday</td>\n",
       "      <td>2018-05</td>\n",
       "      <td>1</td>\n",
       "    </tr>\n",
       "    <tr>\n",
       "      <th>5</th>\n",
       "      <td>2018-06-15</td>\n",
       "      <td>Friday</td>\n",
       "      <td>2018-06</td>\n",
       "      <td>1</td>\n",
       "    </tr>\n",
       "  </tbody>\n",
       "</table>\n",
       "</div>"
      ],
      "text/plain": [
       "  Expiration Date Day of the Week Year-Month  Expiration\n",
       "0      2018-01-19          Friday    2018-01           1\n",
       "1      2018-02-16          Friday    2018-02           1\n",
       "2      2018-03-16          Friday    2018-03           1\n",
       "3      2018-04-20          Friday    2018-04           1\n",
       "4      2018-05-18          Friday    2018-05           1\n",
       "5      2018-06-15          Friday    2018-06           1"
      ]
     },
     "execution_count": 3,
     "metadata": {},
     "output_type": "execute_result"
    }
   ],
   "source": [
    "Start_Date = datetime.datetime(2018, 1, 4)\n",
    "End_Date = datetime.datetime(2018,6, 30)\n",
    "\n",
    "GetDays(Ticker, Start_Date, End_Date, []).expiration_dates"
   ]
  },
  {
   "cell_type": "markdown",
   "metadata": {},
   "source": [
    "#### c. Select an expiration date, choose option type (call) and strike price"
   ]
  },
  {
   "cell_type": "code",
   "execution_count": 4,
   "metadata": {},
   "outputs": [],
   "source": [
    "expiration = datetime.datetime(2018, 3, 18)\n",
    "option_type = ['C']  # C(all), P(ut)\n",
    "action = ['S']  #L(ong), S(hort)\n",
    "\n",
    "# Change the strike price to see how it affects the strategy\n",
    "# strike_price = [85]  # At the money\n",
    "# strike_price = [70]  # Deep in the money\n",
    "strike_price = [90]  # Out the money"
   ]
  },
  {
   "cell_type": "markdown",
   "metadata": {},
   "source": [
    "#### d. Choose option enter and exit dates"
   ]
  },
  {
   "cell_type": "code",
   "execution_count": 5,
   "metadata": {},
   "outputs": [],
   "source": [
    "entry_date = datetime.datetime(2018, 1, 4)\n",
    "exit_date = datetime.datetime(2018, 3, 1)"
   ]
  },
  {
   "cell_type": "markdown",
   "metadata": {},
   "source": [
    "### III. Visualization\n",
    "#### a. Generate option(s) price and payoff"
   ]
  },
  {
   "cell_type": "code",
   "execution_count": 6,
   "metadata": {
    "scrolled": false
   },
   "outputs": [
    {
     "name": "stdout",
     "output_type": "stream",
     "text": [
      "Option Premium = $0.97\n"
     ]
    },
    {
     "data": {
      "image/png": "[encoded data removed]",
      "text/plain": [
       "<Figure size 864x432 with 1 Axes>"
      ]
     },
     "metadata": {
      "needs_background": "light"
     },
     "output_type": "display_data"
    }
   ],
   "source": [
    "payoff = GetPayOff(Ticker, strike_price, entry_date, expiration, option_type, action)\n",
    "print('Option Premium = '+\"${:.2f}\".format(payoff.option_price[0]))\n",
    "payoff.plot_payoff()"
   ]
  },
  {
   "cell_type": "markdown",
   "metadata": {},
   "source": [
    "#### * Note that regardless of the strike/expiration date you choose, the probability of profit for longing an option is always less than 50%"
   ]
  },
  {
   "cell_type": "markdown",
   "metadata": {},
   "source": [
    "##### b. Compare returns by holding the option vs. buy&hold the underlying"
   ]
  },
  {
   "cell_type": "code",
   "execution_count": 7,
   "metadata": {},
   "outputs": [
    {
     "data": {
      "image/png": "[encoded data removed]",
      "text/plain": [
       "<Figure size 864x432 with 3 Axes>"
      ]
     },
     "metadata": {
      "needs_background": "light"
     },
     "output_type": "display_data"
    }
   ],
   "source": [
    "bt1 = GetBackTesting(Ticker, strike_price, expiration, entry_date, exit_date, option_type, action)\n",
    "bt1.plot_price_history()"
   ]
  },
  {
   "cell_type": "code",
   "execution_count": 8,
   "metadata": {},
   "outputs": [
    {
     "data": {
      "image/png": "[encoded data removed]",
      "text/plain": [
       "<Figure size 864x432 with 2 Axes>"
      ]
     },
     "metadata": {
      "needs_background": "light"
     },
     "output_type": "display_data"
    }
   ],
   "source": [
    "bt1.plot_option_pnl()"
   ]
  },
  {
   "cell_type": "markdown",
   "metadata": {},
   "source": [
    "#### c. Strategy Summary"
   ]
  },
  {
   "cell_type": "code",
   "execution_count": 9,
   "metadata": {},
   "outputs": [
    {
     "data": {
      "text/html": [
       "<div>\n",
       "<style scoped>\n",
       "    .dataframe tbody tr th:only-of-type {\n",
       "        vertical-align: middle;\n",
       "    }\n",
       "\n",
       "    .dataframe tbody tr th {\n",
       "        vertical-align: top;\n",
       "    }\n",
       "\n",
       "    .dataframe thead th {\n",
       "        text-align: right;\n",
       "    }\n",
       "</style>\n",
       "<table border=\"1\" class=\"dataframe\">\n",
       "  <thead>\n",
       "    <tr style=\"text-align: right;\">\n",
       "      <th></th>\n",
       "      <th>Entry Date</th>\n",
       "      <th>Cost Basis</th>\n",
       "      <th>Exit Date</th>\n",
       "      <th>Holding Period (Days)</th>\n",
       "      <th>Residual Value</th>\n",
       "      <th>P&amp;L</th>\n",
       "      <th>PnL/Day</th>\n",
       "      <th>ROC</th>\n",
       "      <th>Win</th>\n",
       "    </tr>\n",
       "  </thead>\n",
       "  <tbody>\n",
       "    <tr>\n",
       "      <th>0</th>\n",
       "      <td>2018-01-04</td>\n",
       "      <td>$-97.07</td>\n",
       "      <td>2018-03-01</td>\n",
       "      <td>56</td>\n",
       "      <td>$-580.49</td>\n",
       "      <td>$-483.42</td>\n",
       "      <td>$-8.63</td>\n",
       "      <td>-498.0%</td>\n",
       "      <td>False</td>\n",
       "    </tr>\n",
       "  </tbody>\n",
       "</table>\n",
       "</div>"
      ],
      "text/plain": [
       "   Entry Date Cost Basis   Exit Date  Holding Period (Days) Residual Value  \\\n",
       "0  2018-01-04    $-97.07  2018-03-01                     56       $-580.49   \n",
       "\n",
       "        P&L PnL/Day      ROC    Win  \n",
       "0  $-483.42  $-8.63  -498.0%  False  "
      ]
     },
     "execution_count": 9,
     "metadata": {},
     "output_type": "execute_result"
    }
   ],
   "source": [
    "bt1.strategy_summary"
   ]
  },
  {
   "cell_type": "markdown",
   "metadata": {},
   "source": [
    "### III. Recurring Strategy Setup"
   ]
  },
  {
   "cell_type": "markdown",
   "metadata": {},
   "source": [
    "#### a. Choose the backtesting period for the recurring startegy"
   ]
  },
  {
   "cell_type": "code",
   "execution_count": 10,
   "metadata": {},
   "outputs": [
    {
     "name": "stderr",
     "output_type": "stream",
     "text": [
      "C:\\ProgramData\\Anaconda3\\lib\\site-packages\\pandas\\core\\arrays\\datetimes.py:1088: UserWarning: Converting to PeriodArray/Index representation will drop timezone information.\n",
      "  warnings.warn(\n",
      "C:\\ProgramData\\Anaconda3\\lib\\site-packages\\pandas\\core\\arrays\\datetimes.py:1088: UserWarning: Converting to PeriodArray/Index representation will drop timezone information.\n",
      "  warnings.warn(\n"
     ]
    }
   ],
   "source": [
    "Start_Date = datetime.datetime(2016, 1, 4)\n",
    "End_Date = datetime.datetime(2018,8, 30)\n",
    "\n",
    "expiry = GetDays(Ticker, Start_Date, End_Date, []).expiration_dates\n",
    "trading_days = GetDays(Ticker, Start_Date, End_Date, []).trading_days\n",
    "trading_days['Year-Month'] = pd.to_datetime(trading_days['Date']).dt.to_period('M') + 1  # +1 to find the expiration date in the next month\n",
    "\n",
    "dte_seeker = pd.merge(trading_days, expiry, on='Year-Month', how='left')\n",
    "dte_seeker['DTE'] = (pd.to_datetime(dte_seeker['Expiration Date']) - pd.to_datetime(dte_seeker['Date'])).dt.days\n",
    "dte_seeker.dropna(inplace=True)"
   ]
  },
  {
   "cell_type": "markdown",
   "metadata": {},
   "source": [
    "#### b. Set trading rules"
   ]
  },
  {
   "cell_type": "markdown",
   "metadata": {},
   "source": [
    "#### Simplified (current):\n",
    "* Enter: 43 days before expriation\n",
    "* Exit: 21 days before expiration\n",
    "* Strike prices = enter day underlying price + $5\n",
    "\n",
    "#### Realistic (example):\n",
    "* IV < 20%\n",
    "* Expiration date < 60 & Expiration date > 45\n",
    "* VIX < 20\n",
    "* other technical signals."
   ]
  },
  {
   "cell_type": "code",
   "execution_count": 11,
   "metadata": {
    "scrolled": true
   },
   "outputs": [],
   "source": [
    "entry_dates = pd.to_datetime(dte_seeker[dte_seeker['DTE']==43]['Date'].reset_index(drop=True))\n",
    "expiration_dates = pd.to_datetime(dte_seeker[dte_seeker['DTE']==43]['Expiration Date'].reset_index(drop=True))\n",
    "exit_dates = entry_dates + timedelta(days=24)\n",
    "expiration_dates = pd.to_datetime(expiration_dates)"
   ]
  },
  {
   "cell_type": "markdown",
   "metadata": {},
   "source": [
    "#### c. Run recursive analysis"
   ]
  },
  {
   "cell_type": "code",
   "execution_count": 12,
   "metadata": {},
   "outputs": [],
   "source": [
    "strategy_performance = pd.DataFrame([])\n",
    "strat_sum_for_stats = []\n",
    "strike_price = [45]\n",
    "i = 0\n",
    "for _ in entry_dates:\n",
    "    bt = GetBackTesting(Ticker, strike_price, expiration_dates[i], entry_dates[i], exit_dates[i], option_type, action)\n",
    "    strategy_performance = strategy_performance.append(bt.strategy_summary)\n",
    "    strat_sum_for_stats.append(bt.strat_sum_for_stats)\n",
    "    i += 1\n",
    "    end_of_period_spot = bt.underlying_price_truncated_['close'][-1]\n",
    "    strike_price = [end_of_period_spot+5]\n",
    "    \n",
    "win_rate = \"{:.2%}\".format(strategy_performance['Win'].sum()/len(strategy_performance['Win']))"
   ]
  },
  {
   "cell_type": "code",
   "execution_count": 13,
   "metadata": {},
   "outputs": [],
   "source": [
    "strike_price = np.array(strike_price)"
   ]
  },
  {
   "cell_type": "code",
   "execution_count": 14,
   "metadata": {
    "scrolled": true
   },
   "outputs": [
    {
     "data": {
      "text/plain": [
       "'35.48%'"
      ]
     },
     "execution_count": 14,
     "metadata": {},
     "output_type": "execute_result"
    }
   ],
   "source": [
    "win_rate"
   ]
  },
  {
   "cell_type": "code",
   "execution_count": 15,
   "metadata": {},
   "outputs": [
    {
     "data": {
      "text/html": [
       "<div>\n",
       "<style scoped>\n",
       "    .dataframe tbody tr th:only-of-type {\n",
       "        vertical-align: middle;\n",
       "    }\n",
       "\n",
       "    .dataframe tbody tr th {\n",
       "        vertical-align: top;\n",
       "    }\n",
       "\n",
       "    .dataframe thead th {\n",
       "        text-align: right;\n",
       "    }\n",
       "</style>\n",
       "<table border=\"1\" class=\"dataframe\">\n",
       "  <thead>\n",
       "    <tr style=\"text-align: right;\">\n",
       "      <th></th>\n",
       "      <th>Entry Date</th>\n",
       "      <th>Cost Basis</th>\n",
       "      <th>Exit Date</th>\n",
       "      <th>Holding Period (Days)</th>\n",
       "      <th>Residual Value</th>\n",
       "      <th>P&amp;L</th>\n",
       "      <th>PnL/Day</th>\n",
       "      <th>ROC</th>\n",
       "      <th>Win</th>\n",
       "    </tr>\n",
       "  </thead>\n",
       "  <tbody>\n",
       "    <tr>\n",
       "      <th>0</th>\n",
       "      <td>2016-01-07</td>\n",
       "      <td>$-738.77</td>\n",
       "      <td>2016-01-31</td>\n",
       "      <td>24</td>\n",
       "      <td>$-1014.50</td>\n",
       "      <td>$-275.73</td>\n",
       "      <td>$-11.49</td>\n",
       "      <td>-37.3%</td>\n",
       "      <td>False</td>\n",
       "    </tr>\n",
       "    <tr>\n",
       "      <th>1</th>\n",
       "      <td>2016-02-04</td>\n",
       "      <td>$-13.20</td>\n",
       "      <td>2016-02-28</td>\n",
       "      <td>24</td>\n",
       "      <td>$-4.90</td>\n",
       "      <td>$8.30</td>\n",
       "      <td>$0.35</td>\n",
       "      <td>62.9%</td>\n",
       "      <td>True</td>\n",
       "    </tr>\n",
       "    <tr>\n",
       "      <th>2</th>\n",
       "      <td>2016-03-03</td>\n",
       "      <td>$-35.68</td>\n",
       "      <td>2016-03-27</td>\n",
       "      <td>24</td>\n",
       "      <td>$-50.77</td>\n",
       "      <td>$-15.09</td>\n",
       "      <td>$-0.63</td>\n",
       "      <td>-42.3%</td>\n",
       "      <td>False</td>\n",
       "    </tr>\n",
       "    <tr>\n",
       "      <th>3</th>\n",
       "      <td>2016-04-07</td>\n",
       "      <td>$-50.64</td>\n",
       "      <td>2016-05-01</td>\n",
       "      <td>24</td>\n",
       "      <td>$-1.15</td>\n",
       "      <td>$49.48</td>\n",
       "      <td>$2.06</td>\n",
       "      <td>97.7%</td>\n",
       "      <td>True</td>\n",
       "    </tr>\n",
       "    <tr>\n",
       "      <th>4</th>\n",
       "      <td>2016-05-05</td>\n",
       "      <td>$-12.66</td>\n",
       "      <td>2016-05-29</td>\n",
       "      <td>24</td>\n",
       "      <td>$-22.41</td>\n",
       "      <td>$-9.75</td>\n",
       "      <td>$-0.41</td>\n",
       "      <td>-77.0%</td>\n",
       "      <td>False</td>\n",
       "    </tr>\n",
       "    <tr>\n",
       "      <th>5</th>\n",
       "      <td>2016-06-02</td>\n",
       "      <td>$-6.85</td>\n",
       "      <td>2016-06-26</td>\n",
       "      <td>24</td>\n",
       "      <td>$-10.84</td>\n",
       "      <td>$-3.99</td>\n",
       "      <td>$-0.17</td>\n",
       "      <td>-58.3%</td>\n",
       "      <td>False</td>\n",
       "    </tr>\n",
       "    <tr>\n",
       "      <th>6</th>\n",
       "      <td>2016-07-07</td>\n",
       "      <td>$-51.69</td>\n",
       "      <td>2016-07-31</td>\n",
       "      <td>24</td>\n",
       "      <td>$-225.52</td>\n",
       "      <td>$-173.83</td>\n",
       "      <td>$-7.24</td>\n",
       "      <td>-336.3%</td>\n",
       "      <td>False</td>\n",
       "    </tr>\n",
       "    <tr>\n",
       "      <th>7</th>\n",
       "      <td>2016-08-04</td>\n",
       "      <td>$-6.07</td>\n",
       "      <td>2016-08-28</td>\n",
       "      <td>24</td>\n",
       "      <td>$-13.50</td>\n",
       "      <td>$-7.43</td>\n",
       "      <td>$-0.31</td>\n",
       "      <td>-122.3%</td>\n",
       "      <td>False</td>\n",
       "    </tr>\n",
       "    <tr>\n",
       "      <th>8</th>\n",
       "      <td>2016-09-08</td>\n",
       "      <td>$-2.03</td>\n",
       "      <td>2016-10-02</td>\n",
       "      <td>24</td>\n",
       "      <td>$-2.87</td>\n",
       "      <td>$-0.84</td>\n",
       "      <td>$-0.03</td>\n",
       "      <td>-41.3%</td>\n",
       "      <td>False</td>\n",
       "    </tr>\n",
       "    <tr>\n",
       "      <th>9</th>\n",
       "      <td>2016-10-06</td>\n",
       "      <td>$-26.79</td>\n",
       "      <td>2016-10-30</td>\n",
       "      <td>24</td>\n",
       "      <td>$-49.67</td>\n",
       "      <td>$-22.88</td>\n",
       "      <td>$-0.95</td>\n",
       "      <td>-85.4%</td>\n",
       "      <td>False</td>\n",
       "    </tr>\n",
       "    <tr>\n",
       "      <th>10</th>\n",
       "      <td>2016-11-03</td>\n",
       "      <td>$-29.43</td>\n",
       "      <td>2016-11-27</td>\n",
       "      <td>24</td>\n",
       "      <td>$-14.07</td>\n",
       "      <td>$15.36</td>\n",
       "      <td>$0.64</td>\n",
       "      <td>52.2%</td>\n",
       "      <td>True</td>\n",
       "    </tr>\n",
       "    <tr>\n",
       "      <th>11</th>\n",
       "      <td>2016-12-08</td>\n",
       "      <td>$-17.06</td>\n",
       "      <td>2017-01-01</td>\n",
       "      <td>24</td>\n",
       "      <td>$-32.14</td>\n",
       "      <td>$-15.09</td>\n",
       "      <td>$-0.63</td>\n",
       "      <td>-88.5%</td>\n",
       "      <td>False</td>\n",
       "    </tr>\n",
       "    <tr>\n",
       "      <th>12</th>\n",
       "      <td>2017-01-05</td>\n",
       "      <td>$-9.58</td>\n",
       "      <td>2017-01-29</td>\n",
       "      <td>24</td>\n",
       "      <td>$-61.01</td>\n",
       "      <td>$-51.43</td>\n",
       "      <td>$-2.14</td>\n",
       "      <td>-537.0%</td>\n",
       "      <td>False</td>\n",
       "    </tr>\n",
       "    <tr>\n",
       "      <th>13</th>\n",
       "      <td>2017-02-02</td>\n",
       "      <td>$-1.68</td>\n",
       "      <td>2017-02-26</td>\n",
       "      <td>24</td>\n",
       "      <td>$-0.95</td>\n",
       "      <td>$0.73</td>\n",
       "      <td>$0.03</td>\n",
       "      <td>43.4%</td>\n",
       "      <td>True</td>\n",
       "    </tr>\n",
       "    <tr>\n",
       "      <th>14</th>\n",
       "      <td>2017-03-16</td>\n",
       "      <td>$-2.39</td>\n",
       "      <td>2017-04-09</td>\n",
       "      <td>24</td>\n",
       "      <td>$-6.34</td>\n",
       "      <td>$-3.95</td>\n",
       "      <td>$-0.16</td>\n",
       "      <td>-165.2%</td>\n",
       "      <td>False</td>\n",
       "    </tr>\n",
       "    <tr>\n",
       "      <th>15</th>\n",
       "      <td>2017-04-06</td>\n",
       "      <td>$-2.46</td>\n",
       "      <td>2017-04-30</td>\n",
       "      <td>24</td>\n",
       "      <td>$-36.65</td>\n",
       "      <td>$-34.19</td>\n",
       "      <td>$-1.42</td>\n",
       "      <td>-1390.8%</td>\n",
       "      <td>False</td>\n",
       "    </tr>\n",
       "    <tr>\n",
       "      <th>16</th>\n",
       "      <td>2017-05-04</td>\n",
       "      <td>$-9.61</td>\n",
       "      <td>2017-05-28</td>\n",
       "      <td>24</td>\n",
       "      <td>$-12.61</td>\n",
       "      <td>$-2.99</td>\n",
       "      <td>$-0.12</td>\n",
       "      <td>-31.1%</td>\n",
       "      <td>False</td>\n",
       "    </tr>\n",
       "    <tr>\n",
       "      <th>17</th>\n",
       "      <td>2017-06-08</td>\n",
       "      <td>$-41.96</td>\n",
       "      <td>2017-07-02</td>\n",
       "      <td>24</td>\n",
       "      <td>$-10.18</td>\n",
       "      <td>$31.78</td>\n",
       "      <td>$1.32</td>\n",
       "      <td>75.7%</td>\n",
       "      <td>True</td>\n",
       "    </tr>\n",
       "    <tr>\n",
       "      <th>18</th>\n",
       "      <td>2017-07-06</td>\n",
       "      <td>$-43.76</td>\n",
       "      <td>2017-07-30</td>\n",
       "      <td>24</td>\n",
       "      <td>$-113.58</td>\n",
       "      <td>$-69.82</td>\n",
       "      <td>$-2.91</td>\n",
       "      <td>-159.6%</td>\n",
       "      <td>False</td>\n",
       "    </tr>\n",
       "    <tr>\n",
       "      <th>19</th>\n",
       "      <td>2017-08-03</td>\n",
       "      <td>$-7.93</td>\n",
       "      <td>2017-08-27</td>\n",
       "      <td>24</td>\n",
       "      <td>$-7.79</td>\n",
       "      <td>$0.14</td>\n",
       "      <td>$0.01</td>\n",
       "      <td>1.7%</td>\n",
       "      <td>True</td>\n",
       "    </tr>\n",
       "    <tr>\n",
       "      <th>20</th>\n",
       "      <td>2017-09-07</td>\n",
       "      <td>$-32.32</td>\n",
       "      <td>2017-10-01</td>\n",
       "      <td>24</td>\n",
       "      <td>$-24.80</td>\n",
       "      <td>$7.52</td>\n",
       "      <td>$0.31</td>\n",
       "      <td>23.3%</td>\n",
       "      <td>True</td>\n",
       "    </tr>\n",
       "    <tr>\n",
       "      <th>21</th>\n",
       "      <td>2017-10-05</td>\n",
       "      <td>$-28.27</td>\n",
       "      <td>2017-10-29</td>\n",
       "      <td>24</td>\n",
       "      <td>$-471.81</td>\n",
       "      <td>$-443.55</td>\n",
       "      <td>$-18.48</td>\n",
       "      <td>-1569.2%</td>\n",
       "      <td>False</td>\n",
       "    </tr>\n",
       "    <tr>\n",
       "      <th>22</th>\n",
       "      <td>2017-11-02</td>\n",
       "      <td>$-23.58</td>\n",
       "      <td>2017-11-26</td>\n",
       "      <td>24</td>\n",
       "      <td>$-10.96</td>\n",
       "      <td>$12.62</td>\n",
       "      <td>$0.53</td>\n",
       "      <td>53.5%</td>\n",
       "      <td>True</td>\n",
       "    </tr>\n",
       "    <tr>\n",
       "      <th>23</th>\n",
       "      <td>2017-12-07</td>\n",
       "      <td>$-27.52</td>\n",
       "      <td>2017-12-31</td>\n",
       "      <td>24</td>\n",
       "      <td>$-51.18</td>\n",
       "      <td>$-23.67</td>\n",
       "      <td>$-0.99</td>\n",
       "      <td>-86.0%</td>\n",
       "      <td>False</td>\n",
       "    </tr>\n",
       "    <tr>\n",
       "      <th>24</th>\n",
       "      <td>2018-01-04</td>\n",
       "      <td>$-44.15</td>\n",
       "      <td>2018-01-28</td>\n",
       "      <td>24</td>\n",
       "      <td>$-664.55</td>\n",
       "      <td>$-620.40</td>\n",
       "      <td>$-25.85</td>\n",
       "      <td>-1405.3%</td>\n",
       "      <td>False</td>\n",
       "    </tr>\n",
       "    <tr>\n",
       "      <th>25</th>\n",
       "      <td>2018-02-01</td>\n",
       "      <td>$-107.79</td>\n",
       "      <td>2018-02-25</td>\n",
       "      <td>24</td>\n",
       "      <td>$-66.22</td>\n",
       "      <td>$41.57</td>\n",
       "      <td>$1.73</td>\n",
       "      <td>38.6%</td>\n",
       "      <td>True</td>\n",
       "    </tr>\n",
       "    <tr>\n",
       "      <th>26</th>\n",
       "      <td>2018-03-08</td>\n",
       "      <td>$-98.84</td>\n",
       "      <td>2018-04-01</td>\n",
       "      <td>24</td>\n",
       "      <td>$-89.72</td>\n",
       "      <td>$9.12</td>\n",
       "      <td>$0.38</td>\n",
       "      <td>9.2%</td>\n",
       "      <td>True</td>\n",
       "    </tr>\n",
       "    <tr>\n",
       "      <th>27</th>\n",
       "      <td>2018-04-05</td>\n",
       "      <td>$-175.36</td>\n",
       "      <td>2018-04-29</td>\n",
       "      <td>24</td>\n",
       "      <td>$-238.72</td>\n",
       "      <td>$-63.36</td>\n",
       "      <td>$-2.64</td>\n",
       "      <td>-36.1%</td>\n",
       "      <td>False</td>\n",
       "    </tr>\n",
       "    <tr>\n",
       "      <th>28</th>\n",
       "      <td>2018-05-03</td>\n",
       "      <td>$-66.94</td>\n",
       "      <td>2018-05-27</td>\n",
       "      <td>24</td>\n",
       "      <td>$-111.39</td>\n",
       "      <td>$-44.45</td>\n",
       "      <td>$-1.85</td>\n",
       "      <td>-66.4%</td>\n",
       "      <td>False</td>\n",
       "    </tr>\n",
       "    <tr>\n",
       "      <th>29</th>\n",
       "      <td>2018-06-07</td>\n",
       "      <td>$-143.70</td>\n",
       "      <td>2018-07-01</td>\n",
       "      <td>24</td>\n",
       "      <td>$-78.96</td>\n",
       "      <td>$64.74</td>\n",
       "      <td>$2.70</td>\n",
       "      <td>45.1%</td>\n",
       "      <td>True</td>\n",
       "    </tr>\n",
       "    <tr>\n",
       "      <th>30</th>\n",
       "      <td>2018-07-05</td>\n",
       "      <td>$-162.26</td>\n",
       "      <td>2018-07-29</td>\n",
       "      <td>24</td>\n",
       "      <td>$-526.58</td>\n",
       "      <td>$-364.31</td>\n",
       "      <td>$-15.18</td>\n",
       "      <td>-224.5%</td>\n",
       "      <td>False</td>\n",
       "    </tr>\n",
       "  </tbody>\n",
       "</table>\n",
       "</div>"
      ],
      "text/plain": [
       "    Entry Date Cost Basis   Exit Date  Holding Period (Days) Residual Value  \\\n",
       "0   2016-01-07   $-738.77  2016-01-31                     24      $-1014.50   \n",
       "1   2016-02-04    $-13.20  2016-02-28                     24         $-4.90   \n",
       "2   2016-03-03    $-35.68  2016-03-27                     24        $-50.77   \n",
       "3   2016-04-07    $-50.64  2016-05-01                     24         $-1.15   \n",
       "4   2016-05-05    $-12.66  2016-05-29                     24        $-22.41   \n",
       "5   2016-06-02     $-6.85  2016-06-26                     24        $-10.84   \n",
       "6   2016-07-07    $-51.69  2016-07-31                     24       $-225.52   \n",
       "7   2016-08-04     $-6.07  2016-08-28                     24        $-13.50   \n",
       "8   2016-09-08     $-2.03  2016-10-02                     24         $-2.87   \n",
       "9   2016-10-06    $-26.79  2016-10-30                     24        $-49.67   \n",
       "10  2016-11-03    $-29.43  2016-11-27                     24        $-14.07   \n",
       "11  2016-12-08    $-17.06  2017-01-01                     24        $-32.14   \n",
       "12  2017-01-05     $-9.58  2017-01-29                     24        $-61.01   \n",
       "13  2017-02-02     $-1.68  2017-02-26                     24         $-0.95   \n",
       "14  2017-03-16     $-2.39  2017-04-09                     24         $-6.34   \n",
       "15  2017-04-06     $-2.46  2017-04-30                     24        $-36.65   \n",
       "16  2017-05-04     $-9.61  2017-05-28                     24        $-12.61   \n",
       "17  2017-06-08    $-41.96  2017-07-02                     24        $-10.18   \n",
       "18  2017-07-06    $-43.76  2017-07-30                     24       $-113.58   \n",
       "19  2017-08-03     $-7.93  2017-08-27                     24         $-7.79   \n",
       "20  2017-09-07    $-32.32  2017-10-01                     24        $-24.80   \n",
       "21  2017-10-05    $-28.27  2017-10-29                     24       $-471.81   \n",
       "22  2017-11-02    $-23.58  2017-11-26                     24        $-10.96   \n",
       "23  2017-12-07    $-27.52  2017-12-31                     24        $-51.18   \n",
       "24  2018-01-04    $-44.15  2018-01-28                     24       $-664.55   \n",
       "25  2018-02-01   $-107.79  2018-02-25                     24        $-66.22   \n",
       "26  2018-03-08    $-98.84  2018-04-01                     24        $-89.72   \n",
       "27  2018-04-05   $-175.36  2018-04-29                     24       $-238.72   \n",
       "28  2018-05-03    $-66.94  2018-05-27                     24       $-111.39   \n",
       "29  2018-06-07   $-143.70  2018-07-01                     24        $-78.96   \n",
       "30  2018-07-05   $-162.26  2018-07-29                     24       $-526.58   \n",
       "\n",
       "         P&L  PnL/Day       ROC    Win  \n",
       "0   $-275.73  $-11.49    -37.3%  False  \n",
       "1      $8.30    $0.35     62.9%   True  \n",
       "2    $-15.09   $-0.63    -42.3%  False  \n",
       "3     $49.48    $2.06     97.7%   True  \n",
       "4     $-9.75   $-0.41    -77.0%  False  \n",
       "5     $-3.99   $-0.17    -58.3%  False  \n",
       "6   $-173.83   $-7.24   -336.3%  False  \n",
       "7     $-7.43   $-0.31   -122.3%  False  \n",
       "8     $-0.84   $-0.03    -41.3%  False  \n",
       "9    $-22.88   $-0.95    -85.4%  False  \n",
       "10    $15.36    $0.64     52.2%   True  \n",
       "11   $-15.09   $-0.63    -88.5%  False  \n",
       "12   $-51.43   $-2.14   -537.0%  False  \n",
       "13     $0.73    $0.03     43.4%   True  \n",
       "14    $-3.95   $-0.16   -165.2%  False  \n",
       "15   $-34.19   $-1.42  -1390.8%  False  \n",
       "16    $-2.99   $-0.12    -31.1%  False  \n",
       "17    $31.78    $1.32     75.7%   True  \n",
       "18   $-69.82   $-2.91   -159.6%  False  \n",
       "19     $0.14    $0.01      1.7%   True  \n",
       "20     $7.52    $0.31     23.3%   True  \n",
       "21  $-443.55  $-18.48  -1569.2%  False  \n",
       "22    $12.62    $0.53     53.5%   True  \n",
       "23   $-23.67   $-0.99    -86.0%  False  \n",
       "24  $-620.40  $-25.85  -1405.3%  False  \n",
       "25    $41.57    $1.73     38.6%   True  \n",
       "26     $9.12    $0.38      9.2%   True  \n",
       "27   $-63.36   $-2.64    -36.1%  False  \n",
       "28   $-44.45   $-1.85    -66.4%  False  \n",
       "29    $64.74    $2.70     45.1%   True  \n",
       "30  $-364.31  $-15.18   -224.5%  False  "
      ]
     },
     "execution_count": 15,
     "metadata": {},
     "output_type": "execute_result"
    }
   ],
   "source": [
    "strategy_performance.reset_index(drop=True, inplace=True)\n",
    "strategy_performance"
   ]
  },
  {
   "cell_type": "code",
   "execution_count": 18,
   "metadata": {},
   "outputs": [
    {
     "name": "stdout",
     "output_type": "stream",
     "text": [
      "Avg Cost:  $65.19\n"
     ]
    }
   ],
   "source": [
    "strategy_performance['Cost Basis']\n",
    "avg_cost =strategy_performance['Cost Basis'].str.strip('$').astype(float).mean()\n",
    "print('Avg Cost: ', \"${:.2f}\".format(-avg_cost))"
   ]
  },
  {
   "cell_type": "markdown",
   "metadata": {},
   "source": [
    "#### *Note that this cost is not accurate.  Actual cost is the buying power effect, which is substantial"
   ]
  },
  {
   "cell_type": "code",
   "execution_count": 22,
   "metadata": {},
   "outputs": [
    {
     "name": "stdout",
     "output_type": "stream",
     "text": [
      "Total Profit:  $-2005.39\n"
     ]
    }
   ],
   "source": [
    "strategy_performance['P&L']\n",
    "pnl_sum =strategy_performance['P&L'].str.strip('$').astype(float).sum()\n",
    "print('Total Profit: ', \"${:.2f}\".format(pnl_sum))"
   ]
  }
 ],
 "metadata": {
  "kernelspec": {
   "display_name": "Python 3",
   "language": "python",
   "name": "python3"
  },
  "language_info": {
   "codemirror_mode": {
    "name": "ipython",
    "version": 3
   },
   "file_extension": ".py",
   "mimetype": "text/x-python",
   "name": "python",
   "nbconvert_exporter": "python",
   "pygments_lexer": "ipython3",
   "version": "3.8.5"
  }
 },
 "nbformat": 4,
 "nbformat_minor": 4
}
