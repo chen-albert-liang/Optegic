{
 "cells": [
  {
   "cell_type": "markdown",
   "metadata": {},
   "source": [
    "# Long Put Option"
   ]
  },
  {
   "cell_type": "markdown",
   "metadata": {},
   "source": [
    "### I. Strategy Overview"
   ]
  },
  {
   "cell_type": "markdown",
   "metadata": {},
   "source": [
    "* This is one of the most basic option strategy composed of a single long put option.  \n",
    "* One common use of this strategy is to protect the underlyings you hold from downside risks. "
   ]
  },
  {
   "cell_type": "markdown",
   "metadata": {},
   "source": [
    "#### Payoff\n",
    "Option Payoff or Profit and Loss (P&L) diagrams help us understand where our options strategies win or lose money at expiration based on different stock price points."
   ]
  },
  {
   "cell_type": "markdown",
   "metadata": {},
   "source": [
    "![](long_put.png)"
   ]
  },
  {
   "cell_type": "markdown",
   "metadata": {},
   "source": [
    "#### Features (optional):\n",
    "* Short Delta: option value increases as the underlying price goes down\n",
    "* Short Theta: option value decreases as time decays\n",
    "* Long volatility: option value increases as the implied volatility hikes"
   ]
  },
  {
   "cell_type": "markdown",
   "metadata": {},
   "source": [
    "### II. Strategy Setup\n",
    "* Observe the historical price of selected underlying\n",
    "* Find avaialble expiration dates for options\n",
    "* Select an expiration date, option type and stike price for the option strategy\n",
    "* Select entrance and exit point (simplified by choosing future enter and exit dates)"
   ]
  },
  {
   "cell_type": "code",
   "execution_count": 1,
   "metadata": {},
   "outputs": [
    {
     "name": "stdout",
     "output_type": "stream",
     "text": [
      "Grabbing new access token...\n"
     ]
    }
   ],
   "source": [
    "import sys  \n",
    "sys.path.insert(0, 'C:\\\\Users\\\\chena\\\\Desktop\\\\Trading\\\\StrategicOptions\\\\')\n",
    "import datetime\n",
    "from Functions.mainprg import GetDays, GetPayOff, GetBackTesting, GetPriceHistory\n",
    "import pandas as pd\n",
    "import numpy as np\n",
    "from datetime import timedelta"
   ]
  },
  {
   "cell_type": "markdown",
   "metadata": {},
   "source": [
    "####  a. Select underlying by ticker"
   ]
  },
  {
   "cell_type": "code",
   "execution_count": 2,
   "metadata": {},
   "outputs": [
    {
     "name": "stderr",
     "output_type": "stream",
     "text": [
      "C:\\ProgramData\\Anaconda3\\lib\\site-packages\\pandas\\core\\arrays\\datetimes.py:1088: UserWarning: Converting to PeriodArray/Index representation will drop timezone information.\n",
      "  warnings.warn(\n"
     ]
    },
    {
     "data": {
      "image/png": "[encoded data removed]",
      "text/plain": [
       "<Figure size 864x432 with 1 Axes>"
      ]
     },
     "metadata": {
      "needs_background": "light"
     },
     "output_type": "display_data"
    }
   ],
   "source": [
    "Ticker = 'MSFT'\n",
    "GetPriceHistory(Ticker).plot_price_history()"
   ]
  },
  {
   "cell_type": "markdown",
   "metadata": {},
   "source": [
    "#### b. Find expiration dates for testing period"
   ]
  },
  {
   "cell_type": "code",
   "execution_count": 3,
   "metadata": {},
   "outputs": [
    {
     "name": "stderr",
     "output_type": "stream",
     "text": [
      "C:\\ProgramData\\Anaconda3\\lib\\site-packages\\pandas\\core\\arrays\\datetimes.py:1088: UserWarning: Converting to PeriodArray/Index representation will drop timezone information.\n",
      "  warnings.warn(\n"
     ]
    },
    {
     "data": {
      "text/html": [
       "<div>\n",
       "<style scoped>\n",
       "    .dataframe tbody tr th:only-of-type {\n",
       "        vertical-align: middle;\n",
       "    }\n",
       "\n",
       "    .dataframe tbody tr th {\n",
       "        vertical-align: top;\n",
       "    }\n",
       "\n",
       "    .dataframe thead th {\n",
       "        text-align: right;\n",
       "    }\n",
       "</style>\n",
       "<table border=\"1\" class=\"dataframe\">\n",
       "  <thead>\n",
       "    <tr style=\"text-align: right;\">\n",
       "      <th></th>\n",
       "      <th>Expiration Date</th>\n",
       "      <th>Day of the Week</th>\n",
       "      <th>Year-Month</th>\n",
       "      <th>Expiration</th>\n",
       "    </tr>\n",
       "  </thead>\n",
       "  <tbody>\n",
       "    <tr>\n",
       "      <th>0</th>\n",
       "      <td>2018-01-19</td>\n",
       "      <td>Friday</td>\n",
       "      <td>2018-01</td>\n",
       "      <td>1</td>\n",
       "    </tr>\n",
       "    <tr>\n",
       "      <th>1</th>\n",
       "      <td>2018-02-16</td>\n",
       "      <td>Friday</td>\n",
       "      <td>2018-02</td>\n",
       "      <td>1</td>\n",
       "    </tr>\n",
       "    <tr>\n",
       "      <th>2</th>\n",
       "      <td>2018-03-16</td>\n",
       "      <td>Friday</td>\n",
       "      <td>2018-03</td>\n",
       "      <td>1</td>\n",
       "    </tr>\n",
       "    <tr>\n",
       "      <th>3</th>\n",
       "      <td>2018-04-20</td>\n",
       "      <td>Friday</td>\n",
       "      <td>2018-04</td>\n",
       "      <td>1</td>\n",
       "    </tr>\n",
       "    <tr>\n",
       "      <th>4</th>\n",
       "      <td>2018-05-18</td>\n",
       "      <td>Friday</td>\n",
       "      <td>2018-05</td>\n",
       "      <td>1</td>\n",
       "    </tr>\n",
       "    <tr>\n",
       "      <th>5</th>\n",
       "      <td>2018-06-15</td>\n",
       "      <td>Friday</td>\n",
       "      <td>2018-06</td>\n",
       "      <td>1</td>\n",
       "    </tr>\n",
       "  </tbody>\n",
       "</table>\n",
       "</div>"
      ],
      "text/plain": [
       "  Expiration Date Day of the Week Year-Month  Expiration\n",
       "0      2018-01-19          Friday    2018-01           1\n",
       "1      2018-02-16          Friday    2018-02           1\n",
       "2      2018-03-16          Friday    2018-03           1\n",
       "3      2018-04-20          Friday    2018-04           1\n",
       "4      2018-05-18          Friday    2018-05           1\n",
       "5      2018-06-15          Friday    2018-06           1"
      ]
     },
     "execution_count": 3,
     "metadata": {},
     "output_type": "execute_result"
    }
   ],
   "source": [
    "Start_Date = datetime.datetime(2018, 1, 4)\n",
    "End_Date = datetime.datetime(2018,6, 30)\n",
    "\n",
    "GetDays(Ticker, Start_Date, End_Date, []).expiration_dates"
   ]
  },
  {
   "cell_type": "markdown",
   "metadata": {},
   "source": [
    "#### c. Select an expiration date, choose option type (call) and strike price"
   ]
  },
  {
   "cell_type": "code",
   "execution_count": 10,
   "metadata": {},
   "outputs": [],
   "source": [
    "expiration = datetime.datetime(2018, 3, 18)\n",
    "option_type = ['P']  # C(all), P(ut)\n",
    "action = ['L']  #L(ong), S(hort)\n",
    "\n",
    "# Change the strike price to see how it affects the strategy\n",
    "strike_price = [82]  # Out the money"
   ]
  },
  {
   "cell_type": "markdown",
   "metadata": {},
   "source": [
    "#### d. Choose option enter and exit dates"
   ]
  },
  {
   "cell_type": "code",
   "execution_count": 11,
   "metadata": {},
   "outputs": [],
   "source": [
    "entry_date = datetime.datetime(2018, 1, 2)\n",
    "exit_date = datetime.datetime(2018, 3, 5)"
   ]
  },
  {
   "cell_type": "markdown",
   "metadata": {},
   "source": [
    "### III. Visualization\n",
    "#### a. Generate option(s) price and payoff"
   ]
  },
  {
   "cell_type": "code",
   "execution_count": 12,
   "metadata": {
    "scrolled": false
   },
   "outputs": [
    {
     "name": "stdout",
     "output_type": "stream",
     "text": [
      "Option Premium = $0.55\n"
     ]
    },
    {
     "data": {
      "image/png": "[encoded data removed]",
      "text/plain": [
       "<Figure size 864x432 with 1 Axes>"
      ]
     },
     "metadata": {
      "needs_background": "light"
     },
     "output_type": "display_data"
    }
   ],
   "source": [
    "payoff = GetPayOff(Ticker, strike_price, entry_date, expiration, option_type, action)\n",
    "print('Option Premium = '+\"${:.2f}\".format(payoff.option_price[0]))\n",
    "payoff.plot_payoff()"
   ]
  },
  {
   "cell_type": "markdown",
   "metadata": {},
   "source": [
    "#### * Note that the probability of profit for this strategy is rather low"
   ]
  },
  {
   "cell_type": "markdown",
   "metadata": {},
   "source": [
    "##### b. Compare returns by holding the option vs. buy&hold the underlying"
   ]
  },
  {
   "cell_type": "code",
   "execution_count": 13,
   "metadata": {},
   "outputs": [
    {
     "data": {
      "image/png": "[encoded data removed]",
      "text/plain": [
       "<Figure size 864x432 with 3 Axes>"
      ]
     },
     "metadata": {
      "needs_background": "light"
     },
     "output_type": "display_data"
    }
   ],
   "source": [
    "bt1 = GetBackTesting(Ticker, strike_price, expiration, entry_date, exit_date, option_type, action)\n",
    "bt1.plot_price_history()"
   ]
  },
  {
   "cell_type": "code",
   "execution_count": 14,
   "metadata": {
    "scrolled": false
   },
   "outputs": [
    {
     "data": {
      "image/png": "[encoded data removed]",
      "text/plain": [
       "<Figure size 864x432 with 2 Axes>"
      ]
     },
     "metadata": {
      "needs_background": "light"
     },
     "output_type": "display_data"
    }
   ],
   "source": [
    "bt1.plot_option_pnl()"
   ]
  },
  {
   "cell_type": "markdown",
   "metadata": {},
   "source": [
    "#### c. Strategy Summary"
   ]
  },
  {
   "cell_type": "code",
   "execution_count": 15,
   "metadata": {},
   "outputs": [
    {
     "data": {
      "text/html": [
       "<div>\n",
       "<style scoped>\n",
       "    .dataframe tbody tr th:only-of-type {\n",
       "        vertical-align: middle;\n",
       "    }\n",
       "\n",
       "    .dataframe tbody tr th {\n",
       "        vertical-align: top;\n",
       "    }\n",
       "\n",
       "    .dataframe thead th {\n",
       "        text-align: right;\n",
       "    }\n",
       "</style>\n",
       "<table border=\"1\" class=\"dataframe\">\n",
       "  <thead>\n",
       "    <tr style=\"text-align: right;\">\n",
       "      <th></th>\n",
       "      <th>Entry Date</th>\n",
       "      <th>Cost Basis</th>\n",
       "      <th>Exit Date</th>\n",
       "      <th>Holding Period (Days)</th>\n",
       "      <th>Residual Value</th>\n",
       "      <th>P&amp;L</th>\n",
       "      <th>PnL/Day</th>\n",
       "      <th>ROC</th>\n",
       "      <th>Win</th>\n",
       "    </tr>\n",
       "  </thead>\n",
       "  <tbody>\n",
       "    <tr>\n",
       "      <th>0</th>\n",
       "      <td>2018-01-02</td>\n",
       "      <td>$54.60</td>\n",
       "      <td>2018-03-05</td>\n",
       "      <td>62</td>\n",
       "      <td>$34.41</td>\n",
       "      <td>$-20.19</td>\n",
       "      <td>$-0.33</td>\n",
       "      <td>-37.0%</td>\n",
       "      <td>False</td>\n",
       "    </tr>\n",
       "  </tbody>\n",
       "</table>\n",
       "</div>"
      ],
      "text/plain": [
       "   Entry Date Cost Basis   Exit Date  Holding Period (Days) Residual Value  \\\n",
       "0  2018-01-02     $54.60  2018-03-05                     62         $34.41   \n",
       "\n",
       "       P&L PnL/Day     ROC    Win  \n",
       "0  $-20.19  $-0.33  -37.0%  False  "
      ]
     },
     "execution_count": 15,
     "metadata": {},
     "output_type": "execute_result"
    }
   ],
   "source": [
    "bt1.strategy_summary"
   ]
  },
  {
   "cell_type": "markdown",
   "metadata": {},
   "source": [
    "### III. Recurring Strategy Setup"
   ]
  },
  {
   "cell_type": "markdown",
   "metadata": {},
   "source": [
    "#### a. Choose the backtesting period for the recurring startegy"
   ]
  },
  {
   "cell_type": "code",
   "execution_count": 16,
   "metadata": {},
   "outputs": [
    {
     "name": "stderr",
     "output_type": "stream",
     "text": [
      "C:\\ProgramData\\Anaconda3\\lib\\site-packages\\pandas\\core\\arrays\\datetimes.py:1088: UserWarning: Converting to PeriodArray/Index representation will drop timezone information.\n",
      "  warnings.warn(\n",
      "C:\\ProgramData\\Anaconda3\\lib\\site-packages\\pandas\\core\\arrays\\datetimes.py:1088: UserWarning: Converting to PeriodArray/Index representation will drop timezone information.\n",
      "  warnings.warn(\n"
     ]
    }
   ],
   "source": [
    "Start_Date = datetime.datetime(2016, 1, 4)\n",
    "End_Date = datetime.datetime(2018,8, 30)\n",
    "\n",
    "expiry = GetDays(Ticker, Start_Date, End_Date, []).expiration_dates\n",
    "trading_days = GetDays(Ticker, Start_Date, End_Date, []).trading_days\n",
    "trading_days['Year-Month'] = pd.to_datetime(trading_days['Date']).dt.to_period('M') + 1  # +1 to find the expiration date in the next month\n",
    "\n",
    "dte_seeker = pd.merge(trading_days, expiry, on='Year-Month', how='left')\n",
    "dte_seeker['DTE'] = (pd.to_datetime(dte_seeker['Expiration Date']) - pd.to_datetime(dte_seeker['Date'])).dt.days\n",
    "dte_seeker.dropna(inplace=True)"
   ]
  },
  {
   "cell_type": "markdown",
   "metadata": {},
   "source": [
    "#### b. Set trading rules"
   ]
  },
  {
   "cell_type": "markdown",
   "metadata": {},
   "source": [
    "#### Simplified (current):\n",
    "* Enter: 43 days before expriation\n",
    "* Exit: 21 days before expiration\n",
    "* Strike prices = enter day underlying price - \\\\$5"
   ]
  },
  {
   "cell_type": "code",
   "execution_count": 17,
   "metadata": {
    "scrolled": true
   },
   "outputs": [],
   "source": [
    "entry_dates = pd.to_datetime(dte_seeker[dte_seeker['DTE']==43]['Date'].reset_index(drop=True))\n",
    "expiration_dates = pd.to_datetime(dte_seeker[dte_seeker['DTE']==43]['Expiration Date'].reset_index(drop=True))\n",
    "exit_dates = entry_dates + timedelta(days=24)\n",
    "expiration_dates = pd.to_datetime(expiration_dates)"
   ]
  },
  {
   "cell_type": "markdown",
   "metadata": {},
   "source": [
    "#### c. Run recursive analysis"
   ]
  },
  {
   "cell_type": "code",
   "execution_count": 18,
   "metadata": {},
   "outputs": [],
   "source": [
    "strategy_performance = pd.DataFrame([])\n",
    "strat_sum_for_stats = []\n",
    "strike_price = [35]\n",
    "i = 0\n",
    "for _ in entry_dates:\n",
    "    bt = GetBackTesting(Ticker, strike_price, expiration_dates[i], entry_dates[i], exit_dates[i], option_type, action)\n",
    "    strategy_performance = strategy_performance.append(bt.strategy_summary)\n",
    "    strat_sum_for_stats.append(bt.strat_sum_for_stats)\n",
    "    i += 1\n",
    "    end_of_period_spot = bt.underlying_price_truncated_['close'][-1]\n",
    "    strike_price = [end_of_period_spot-5]\n",
    "    \n",
    "win_rate = \"{:.2%}\".format(strategy_performance['Win'].sum()/len(strategy_performance['Win']))"
   ]
  },
  {
   "cell_type": "code",
   "execution_count": 20,
   "metadata": {},
   "outputs": [
    {
     "data": {
      "text/plain": [
       "'22.58%'"
      ]
     },
     "execution_count": 20,
     "metadata": {},
     "output_type": "execute_result"
    }
   ],
   "source": [
    "win_rate"
   ]
  },
  {
   "cell_type": "code",
   "execution_count": 21,
   "metadata": {},
   "outputs": [
    {
     "data": {
      "text/html": [
       "<div>\n",
       "<style scoped>\n",
       "    .dataframe tbody tr th:only-of-type {\n",
       "        vertical-align: middle;\n",
       "    }\n",
       "\n",
       "    .dataframe tbody tr th {\n",
       "        vertical-align: top;\n",
       "    }\n",
       "\n",
       "    .dataframe thead th {\n",
       "        text-align: right;\n",
       "    }\n",
       "</style>\n",
       "<table border=\"1\" class=\"dataframe\">\n",
       "  <thead>\n",
       "    <tr style=\"text-align: right;\">\n",
       "      <th></th>\n",
       "      <th>Entry Date</th>\n",
       "      <th>Cost Basis</th>\n",
       "      <th>Exit Date</th>\n",
       "      <th>Holding Period (Days)</th>\n",
       "      <th>Residual Value</th>\n",
       "      <th>P&amp;L</th>\n",
       "      <th>PnL/Day</th>\n",
       "      <th>ROC</th>\n",
       "      <th>Win</th>\n",
       "    </tr>\n",
       "  </thead>\n",
       "  <tbody>\n",
       "    <tr>\n",
       "      <th>0</th>\n",
       "      <td>2016-01-07</td>\n",
       "      <td>$0.00</td>\n",
       "      <td>2016-01-31</td>\n",
       "      <td>24</td>\n",
       "      <td>$0.00</td>\n",
       "      <td>$-0.00</td>\n",
       "      <td>$-0.00</td>\n",
       "      <td>-100.0%</td>\n",
       "      <td>False</td>\n",
       "    </tr>\n",
       "    <tr>\n",
       "      <th>1</th>\n",
       "      <td>2016-02-04</td>\n",
       "      <td>$125.04</td>\n",
       "      <td>2016-02-28</td>\n",
       "      <td>24</td>\n",
       "      <td>$114.02</td>\n",
       "      <td>$-11.02</td>\n",
       "      <td>$-0.46</td>\n",
       "      <td>-8.8%</td>\n",
       "      <td>False</td>\n",
       "    </tr>\n",
       "    <tr>\n",
       "      <th>2</th>\n",
       "      <td>2016-03-03</td>\n",
       "      <td>$7.93</td>\n",
       "      <td>2016-03-27</td>\n",
       "      <td>24</td>\n",
       "      <td>$0.24</td>\n",
       "      <td>$-7.70</td>\n",
       "      <td>$-0.32</td>\n",
       "      <td>-97.0%</td>\n",
       "      <td>False</td>\n",
       "    </tr>\n",
       "    <tr>\n",
       "      <th>3</th>\n",
       "      <td>2016-04-07</td>\n",
       "      <td>$28.67</td>\n",
       "      <td>2016-05-01</td>\n",
       "      <td>24</td>\n",
       "      <td>$109.58</td>\n",
       "      <td>$80.91</td>\n",
       "      <td>$3.37</td>\n",
       "      <td>282.2%</td>\n",
       "      <td>True</td>\n",
       "    </tr>\n",
       "    <tr>\n",
       "      <th>4</th>\n",
       "      <td>2016-05-05</td>\n",
       "      <td>$12.99</td>\n",
       "      <td>2016-05-29</td>\n",
       "      <td>24</td>\n",
       "      <td>$0.10</td>\n",
       "      <td>$-12.88</td>\n",
       "      <td>$-0.54</td>\n",
       "      <td>-99.2%</td>\n",
       "      <td>False</td>\n",
       "    </tr>\n",
       "    <tr>\n",
       "      <th>5</th>\n",
       "      <td>2016-06-02</td>\n",
       "      <td>$3.41</td>\n",
       "      <td>2016-06-26</td>\n",
       "      <td>24</td>\n",
       "      <td>$70.21</td>\n",
       "      <td>$66.79</td>\n",
       "      <td>$2.78</td>\n",
       "      <td>1956.2%</td>\n",
       "      <td>True</td>\n",
       "    </tr>\n",
       "    <tr>\n",
       "      <th>6</th>\n",
       "      <td>2016-07-07</td>\n",
       "      <td>$7.29</td>\n",
       "      <td>2016-07-31</td>\n",
       "      <td>24</td>\n",
       "      <td>$0.00</td>\n",
       "      <td>$-7.29</td>\n",
       "      <td>$-0.30</td>\n",
       "      <td>-100.0%</td>\n",
       "      <td>False</td>\n",
       "    </tr>\n",
       "    <tr>\n",
       "      <th>7</th>\n",
       "      <td>2016-08-04</td>\n",
       "      <td>$2.32</td>\n",
       "      <td>2016-08-28</td>\n",
       "      <td>24</td>\n",
       "      <td>$0.46</td>\n",
       "      <td>$-1.86</td>\n",
       "      <td>$-0.08</td>\n",
       "      <td>-80.0%</td>\n",
       "      <td>False</td>\n",
       "    </tr>\n",
       "    <tr>\n",
       "      <th>8</th>\n",
       "      <td>2016-09-08</td>\n",
       "      <td>$4.11</td>\n",
       "      <td>2016-10-02</td>\n",
       "      <td>24</td>\n",
       "      <td>$4.46</td>\n",
       "      <td>$0.35</td>\n",
       "      <td>$0.01</td>\n",
       "      <td>8.6%</td>\n",
       "      <td>True</td>\n",
       "    </tr>\n",
       "    <tr>\n",
       "      <th>9</th>\n",
       "      <td>2016-10-06</td>\n",
       "      <td>$15.61</td>\n",
       "      <td>2016-10-30</td>\n",
       "      <td>24</td>\n",
       "      <td>$1.67</td>\n",
       "      <td>$-13.93</td>\n",
       "      <td>$-0.58</td>\n",
       "      <td>-89.3%</td>\n",
       "      <td>False</td>\n",
       "    </tr>\n",
       "    <tr>\n",
       "      <th>10</th>\n",
       "      <td>2016-11-03</td>\n",
       "      <td>$51.55</td>\n",
       "      <td>2016-11-27</td>\n",
       "      <td>24</td>\n",
       "      <td>$3.68</td>\n",
       "      <td>$-47.87</td>\n",
       "      <td>$-1.99</td>\n",
       "      <td>-92.9%</td>\n",
       "      <td>False</td>\n",
       "    </tr>\n",
       "    <tr>\n",
       "      <th>11</th>\n",
       "      <td>2016-12-08</td>\n",
       "      <td>$6.54</td>\n",
       "      <td>2017-01-01</td>\n",
       "      <td>24</td>\n",
       "      <td>$1.40</td>\n",
       "      <td>$-5.13</td>\n",
       "      <td>$-0.21</td>\n",
       "      <td>-78.5%</td>\n",
       "      <td>False</td>\n",
       "    </tr>\n",
       "    <tr>\n",
       "      <th>12</th>\n",
       "      <td>2017-01-05</td>\n",
       "      <td>$4.10</td>\n",
       "      <td>2017-01-29</td>\n",
       "      <td>24</td>\n",
       "      <td>$0.03</td>\n",
       "      <td>$-4.08</td>\n",
       "      <td>$-0.17</td>\n",
       "      <td>-99.3%</td>\n",
       "      <td>False</td>\n",
       "    </tr>\n",
       "    <tr>\n",
       "      <th>13</th>\n",
       "      <td>2017-02-02</td>\n",
       "      <td>$63.00</td>\n",
       "      <td>2017-02-26</td>\n",
       "      <td>24</td>\n",
       "      <td>$7.26</td>\n",
       "      <td>$-55.74</td>\n",
       "      <td>$-2.32</td>\n",
       "      <td>-88.5%</td>\n",
       "      <td>False</td>\n",
       "    </tr>\n",
       "    <tr>\n",
       "      <th>14</th>\n",
       "      <td>2017-03-16</td>\n",
       "      <td>$1.35</td>\n",
       "      <td>2017-04-09</td>\n",
       "      <td>24</td>\n",
       "      <td>$0.25</td>\n",
       "      <td>$-1.10</td>\n",
       "      <td>$-0.05</td>\n",
       "      <td>-81.4%</td>\n",
       "      <td>False</td>\n",
       "    </tr>\n",
       "    <tr>\n",
       "      <th>15</th>\n",
       "      <td>2017-04-06</td>\n",
       "      <td>$1.37</td>\n",
       "      <td>2017-04-30</td>\n",
       "      <td>24</td>\n",
       "      <td>$0.14</td>\n",
       "      <td>$-1.23</td>\n",
       "      <td>$-0.05</td>\n",
       "      <td>-89.9%</td>\n",
       "      <td>False</td>\n",
       "    </tr>\n",
       "    <tr>\n",
       "      <th>16</th>\n",
       "      <td>2017-05-04</td>\n",
       "      <td>$8.56</td>\n",
       "      <td>2017-05-28</td>\n",
       "      <td>24</td>\n",
       "      <td>$0.33</td>\n",
       "      <td>$-8.23</td>\n",
       "      <td>$-0.34</td>\n",
       "      <td>-96.2%</td>\n",
       "      <td>False</td>\n",
       "    </tr>\n",
       "    <tr>\n",
       "      <th>17</th>\n",
       "      <td>2017-06-08</td>\n",
       "      <td>$1.95</td>\n",
       "      <td>2017-07-02</td>\n",
       "      <td>24</td>\n",
       "      <td>$23.34</td>\n",
       "      <td>$21.39</td>\n",
       "      <td>$0.89</td>\n",
       "      <td>1094.9%</td>\n",
       "      <td>True</td>\n",
       "    </tr>\n",
       "    <tr>\n",
       "      <th>18</th>\n",
       "      <td>2017-07-06</td>\n",
       "      <td>$43.53</td>\n",
       "      <td>2017-07-30</td>\n",
       "      <td>24</td>\n",
       "      <td>$0.49</td>\n",
       "      <td>$-43.04</td>\n",
       "      <td>$-1.79</td>\n",
       "      <td>-98.9%</td>\n",
       "      <td>False</td>\n",
       "    </tr>\n",
       "    <tr>\n",
       "      <th>19</th>\n",
       "      <td>2017-08-03</td>\n",
       "      <td>$27.47</td>\n",
       "      <td>2017-08-27</td>\n",
       "      <td>24</td>\n",
       "      <td>$6.80</td>\n",
       "      <td>$-20.67</td>\n",
       "      <td>$-0.86</td>\n",
       "      <td>-75.2%</td>\n",
       "      <td>False</td>\n",
       "    </tr>\n",
       "    <tr>\n",
       "      <th>20</th>\n",
       "      <td>2017-09-07</td>\n",
       "      <td>$3.05</td>\n",
       "      <td>2017-10-01</td>\n",
       "      <td>24</td>\n",
       "      <td>$1.56</td>\n",
       "      <td>$-1.49</td>\n",
       "      <td>$-0.06</td>\n",
       "      <td>-48.9%</td>\n",
       "      <td>False</td>\n",
       "    </tr>\n",
       "    <tr>\n",
       "      <th>21</th>\n",
       "      <td>2017-10-05</td>\n",
       "      <td>$2.40</td>\n",
       "      <td>2017-10-29</td>\n",
       "      <td>24</td>\n",
       "      <td>$0.01</td>\n",
       "      <td>$-2.39</td>\n",
       "      <td>$-0.10</td>\n",
       "      <td>-99.6%</td>\n",
       "      <td>False</td>\n",
       "    </tr>\n",
       "    <tr>\n",
       "      <th>22</th>\n",
       "      <td>2017-11-02</td>\n",
       "      <td>$22.04</td>\n",
       "      <td>2017-11-26</td>\n",
       "      <td>24</td>\n",
       "      <td>$13.45</td>\n",
       "      <td>$-8.59</td>\n",
       "      <td>$-0.36</td>\n",
       "      <td>-39.0%</td>\n",
       "      <td>False</td>\n",
       "    </tr>\n",
       "    <tr>\n",
       "      <th>23</th>\n",
       "      <td>2017-12-07</td>\n",
       "      <td>$40.77</td>\n",
       "      <td>2017-12-31</td>\n",
       "      <td>24</td>\n",
       "      <td>$1.55</td>\n",
       "      <td>$-39.21</td>\n",
       "      <td>$-1.63</td>\n",
       "      <td>-96.2%</td>\n",
       "      <td>False</td>\n",
       "    </tr>\n",
       "    <tr>\n",
       "      <th>24</th>\n",
       "      <td>2018-01-04</td>\n",
       "      <td>$6.10</td>\n",
       "      <td>2018-01-28</td>\n",
       "      <td>24</td>\n",
       "      <td>$55.11</td>\n",
       "      <td>$49.01</td>\n",
       "      <td>$2.04</td>\n",
       "      <td>802.9%</td>\n",
       "      <td>True</td>\n",
       "    </tr>\n",
       "    <tr>\n",
       "      <th>25</th>\n",
       "      <td>2018-02-01</td>\n",
       "      <td>$98.90</td>\n",
       "      <td>2018-02-25</td>\n",
       "      <td>24</td>\n",
       "      <td>$55.33</td>\n",
       "      <td>$-43.57</td>\n",
       "      <td>$-1.82</td>\n",
       "      <td>-44.1%</td>\n",
       "      <td>False</td>\n",
       "    </tr>\n",
       "    <tr>\n",
       "      <th>26</th>\n",
       "      <td>2018-03-08</td>\n",
       "      <td>$66.19</td>\n",
       "      <td>2018-04-01</td>\n",
       "      <td>24</td>\n",
       "      <td>$225.38</td>\n",
       "      <td>$159.18</td>\n",
       "      <td>$6.63</td>\n",
       "      <td>240.5%</td>\n",
       "      <td>True</td>\n",
       "    </tr>\n",
       "    <tr>\n",
       "      <th>27</th>\n",
       "      <td>2018-04-05</td>\n",
       "      <td>$84.09</td>\n",
       "      <td>2018-04-29</td>\n",
       "      <td>24</td>\n",
       "      <td>$13.90</td>\n",
       "      <td>$-70.19</td>\n",
       "      <td>$-2.92</td>\n",
       "      <td>-83.5%</td>\n",
       "      <td>False</td>\n",
       "    </tr>\n",
       "    <tr>\n",
       "      <th>28</th>\n",
       "      <td>2018-05-03</td>\n",
       "      <td>$147.99</td>\n",
       "      <td>2018-05-27</td>\n",
       "      <td>24</td>\n",
       "      <td>$12.45</td>\n",
       "      <td>$-135.54</td>\n",
       "      <td>$-5.65</td>\n",
       "      <td>-91.6%</td>\n",
       "      <td>False</td>\n",
       "    </tr>\n",
       "    <tr>\n",
       "      <th>29</th>\n",
       "      <td>2018-06-07</td>\n",
       "      <td>$26.11</td>\n",
       "      <td>2018-07-01</td>\n",
       "      <td>24</td>\n",
       "      <td>$55.61</td>\n",
       "      <td>$29.51</td>\n",
       "      <td>$1.23</td>\n",
       "      <td>113.0%</td>\n",
       "      <td>True</td>\n",
       "    </tr>\n",
       "    <tr>\n",
       "      <th>30</th>\n",
       "      <td>2018-07-05</td>\n",
       "      <td>$83.41</td>\n",
       "      <td>2018-07-29</td>\n",
       "      <td>24</td>\n",
       "      <td>$2.77</td>\n",
       "      <td>$-80.63</td>\n",
       "      <td>$-3.36</td>\n",
       "      <td>-96.7%</td>\n",
       "      <td>False</td>\n",
       "    </tr>\n",
       "  </tbody>\n",
       "</table>\n",
       "</div>"
      ],
      "text/plain": [
       "    Entry Date Cost Basis   Exit Date  Holding Period (Days) Residual Value  \\\n",
       "0   2016-01-07      $0.00  2016-01-31                     24          $0.00   \n",
       "1   2016-02-04    $125.04  2016-02-28                     24        $114.02   \n",
       "2   2016-03-03      $7.93  2016-03-27                     24          $0.24   \n",
       "3   2016-04-07     $28.67  2016-05-01                     24        $109.58   \n",
       "4   2016-05-05     $12.99  2016-05-29                     24          $0.10   \n",
       "5   2016-06-02      $3.41  2016-06-26                     24         $70.21   \n",
       "6   2016-07-07      $7.29  2016-07-31                     24          $0.00   \n",
       "7   2016-08-04      $2.32  2016-08-28                     24          $0.46   \n",
       "8   2016-09-08      $4.11  2016-10-02                     24          $4.46   \n",
       "9   2016-10-06     $15.61  2016-10-30                     24          $1.67   \n",
       "10  2016-11-03     $51.55  2016-11-27                     24          $3.68   \n",
       "11  2016-12-08      $6.54  2017-01-01                     24          $1.40   \n",
       "12  2017-01-05      $4.10  2017-01-29                     24          $0.03   \n",
       "13  2017-02-02     $63.00  2017-02-26                     24          $7.26   \n",
       "14  2017-03-16      $1.35  2017-04-09                     24          $0.25   \n",
       "15  2017-04-06      $1.37  2017-04-30                     24          $0.14   \n",
       "16  2017-05-04      $8.56  2017-05-28                     24          $0.33   \n",
       "17  2017-06-08      $1.95  2017-07-02                     24         $23.34   \n",
       "18  2017-07-06     $43.53  2017-07-30                     24          $0.49   \n",
       "19  2017-08-03     $27.47  2017-08-27                     24          $6.80   \n",
       "20  2017-09-07      $3.05  2017-10-01                     24          $1.56   \n",
       "21  2017-10-05      $2.40  2017-10-29                     24          $0.01   \n",
       "22  2017-11-02     $22.04  2017-11-26                     24         $13.45   \n",
       "23  2017-12-07     $40.77  2017-12-31                     24          $1.55   \n",
       "24  2018-01-04      $6.10  2018-01-28                     24         $55.11   \n",
       "25  2018-02-01     $98.90  2018-02-25                     24         $55.33   \n",
       "26  2018-03-08     $66.19  2018-04-01                     24        $225.38   \n",
       "27  2018-04-05     $84.09  2018-04-29                     24         $13.90   \n",
       "28  2018-05-03    $147.99  2018-05-27                     24         $12.45   \n",
       "29  2018-06-07     $26.11  2018-07-01                     24         $55.61   \n",
       "30  2018-07-05     $83.41  2018-07-29                     24          $2.77   \n",
       "\n",
       "         P&L PnL/Day      ROC    Win  \n",
       "0     $-0.00  $-0.00  -100.0%  False  \n",
       "1    $-11.02  $-0.46    -8.8%  False  \n",
       "2     $-7.70  $-0.32   -97.0%  False  \n",
       "3     $80.91   $3.37   282.2%   True  \n",
       "4    $-12.88  $-0.54   -99.2%  False  \n",
       "5     $66.79   $2.78  1956.2%   True  \n",
       "6     $-7.29  $-0.30  -100.0%  False  \n",
       "7     $-1.86  $-0.08   -80.0%  False  \n",
       "8      $0.35   $0.01     8.6%   True  \n",
       "9    $-13.93  $-0.58   -89.3%  False  \n",
       "10   $-47.87  $-1.99   -92.9%  False  \n",
       "11    $-5.13  $-0.21   -78.5%  False  \n",
       "12    $-4.08  $-0.17   -99.3%  False  \n",
       "13   $-55.74  $-2.32   -88.5%  False  \n",
       "14    $-1.10  $-0.05   -81.4%  False  \n",
       "15    $-1.23  $-0.05   -89.9%  False  \n",
       "16    $-8.23  $-0.34   -96.2%  False  \n",
       "17    $21.39   $0.89  1094.9%   True  \n",
       "18   $-43.04  $-1.79   -98.9%  False  \n",
       "19   $-20.67  $-0.86   -75.2%  False  \n",
       "20    $-1.49  $-0.06   -48.9%  False  \n",
       "21    $-2.39  $-0.10   -99.6%  False  \n",
       "22    $-8.59  $-0.36   -39.0%  False  \n",
       "23   $-39.21  $-1.63   -96.2%  False  \n",
       "24    $49.01   $2.04   802.9%   True  \n",
       "25   $-43.57  $-1.82   -44.1%  False  \n",
       "26   $159.18   $6.63   240.5%   True  \n",
       "27   $-70.19  $-2.92   -83.5%  False  \n",
       "28  $-135.54  $-5.65   -91.6%  False  \n",
       "29    $29.51   $1.23   113.0%   True  \n",
       "30   $-80.63  $-3.36   -96.7%  False  "
      ]
     },
     "execution_count": 21,
     "metadata": {},
     "output_type": "execute_result"
    }
   ],
   "source": [
    "strategy_performance.reset_index(drop=True, inplace=True)\n",
    "strategy_performance"
   ]
  },
  {
   "cell_type": "code",
   "execution_count": 23,
   "metadata": {},
   "outputs": [
    {
     "name": "stdout",
     "output_type": "stream",
     "text": [
      "Mean Cost:  $32.19\n"
     ]
    }
   ],
   "source": [
    "strategy_performance['Cost Basis']\n",
    "avg_cost =strategy_performance['Cost Basis'].str.strip('$').astype(float).mean()\n",
    "print('Mean Cost: ', \"${:.2f}\".format(avg_cost)) "
   ]
  },
  {
   "cell_type": "code",
   "execution_count": 24,
   "metadata": {},
   "outputs": [
    {
     "name": "stdout",
     "output_type": "stream",
     "text": [
      "Total Profit:  $-216.24\n"
     ]
    }
   ],
   "source": [
    "strategy_performance['P&L']\n",
    "pnl_sum =strategy_performance['P&L'].str.strip('$').astype(float).sum()\n",
    "print('Total Profit: ', \"${:.2f}\".format(pnl_sum))"
   ]
  }
 ],
 "metadata": {
  "kernelspec": {
   "display_name": "Python 3",
   "language": "python",
   "name": "python3"
  },
  "language_info": {
   "codemirror_mode": {
    "name": "ipython",
    "version": 3
   },
   "file_extension": ".py",
   "mimetype": "text/x-python",
   "name": "python",
   "nbconvert_exporter": "python",
   "pygments_lexer": "ipython3",
   "version": "3.8.5"
  }
 },
 "nbformat": 4,
 "nbformat_minor": 4
}
