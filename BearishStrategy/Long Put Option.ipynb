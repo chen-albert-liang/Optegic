{
 "cells": [
  {
   "cell_type": "markdown",
   "metadata": {},
   "source": [
    "# Long Put Option"
   ]
  },
  {
   "cell_type": "markdown",
   "metadata": {},
   "source": [
    "### I. Strategy Overview"
   ]
  },
  {
   "cell_type": "markdown",
   "metadata": {},
   "source": [
    "#### Payoff"
   ]
  },
  {
   "cell_type": "markdown",
   "metadata": {},
   "source": [
    "![](long_put.png)"
   ]
  },
  {
   "cell_type": "markdown",
   "metadata": {},
   "source": [
    "#### Features:\n",
    "* Short Delta: option value increases as the underlying price goes down\n",
    "* Short Theta: option value decreases as time decays\n",
    "* Long volatility: option value increases as the implied volatility hikes"
   ]
  },
  {
   "cell_type": "markdown",
   "metadata": {},
   "source": [
    "### II. Strategy Setup"
   ]
  },
  {
   "cell_type": "code",
   "execution_count": 1,
   "metadata": {},
   "outputs": [],
   "source": [
    "import sys  \n",
    "sys.path.insert(0, 'C:\\\\Users\\\\chena\\\\Desktop\\\\Trading\\\\StrategicOptions\\\\')\n",
    "import datetime\n",
    "from Functions.Backtest import OptionBackTesting, BackTestingVisualization"
   ]
  },
  {
   "cell_type": "markdown",
   "metadata": {},
   "source": [
    "####  1. Input symbol of underlying"
   ]
  },
  {
   "cell_type": "code",
   "execution_count": 2,
   "metadata": {},
   "outputs": [],
   "source": [
    "Ticker = 'MSFT'"
   ]
  },
  {
   "cell_type": "markdown",
   "metadata": {},
   "source": [
    "#### 2. Specify testing period and find out the expiration dates within"
   ]
  },
  {
   "cell_type": "code",
   "execution_count": 3,
   "metadata": {},
   "outputs": [
    {
     "name": "stderr",
     "output_type": "stream",
     "text": [
      "C:\\ProgramData\\Anaconda3\\lib\\site-packages\\pandas\\core\\arrays\\datetimes.py:1088: UserWarning: Converting to PeriodArray/Index representation will drop timezone information.\n",
      "  warnings.warn(\n"
     ]
    }
   ],
   "source": [
    "Start_Date = datetime.datetime(2017, 1, 4)\n",
    "End_Date = datetime.datetime(2018,3, 1)\n",
    "\n",
    "expiry = OptionBackTesting(Ticker, [], [], Start_Date, End_Date,  [], []).set_expiration_calendar()"
   ]
  },
  {
   "cell_type": "markdown",
   "metadata": {},
   "source": [
    "#### 3. Select an expiration date"
   ]
  },
  {
   "cell_type": "code",
   "execution_count": 4,
   "metadata": {},
   "outputs": [],
   "source": [
    "expiration = datetime.datetime(2018, 3, 18)"
   ]
  },
  {
   "cell_type": "markdown",
   "metadata": {},
   "source": [
    "#### 4. Choose option enter and exit dates"
   ]
  },
  {
   "cell_type": "code",
   "execution_count": 5,
   "metadata": {},
   "outputs": [],
   "source": [
    "entry_date = datetime.datetime(2017, 1, 4)\n",
    "exit_date = datetime.datetime(2018, 3, 1)"
   ]
  },
  {
   "cell_type": "markdown",
   "metadata": {},
   "source": [
    "#### 5. Option Type & Strike Price Selection\n",
    "* Change the strike price to see how it affects the strategy"
   ]
  },
  {
   "cell_type": "code",
   "execution_count": 6,
   "metadata": {},
   "outputs": [],
   "source": [
    "option_type = 'P'\n",
    "action = 'L'\n",
    "strike_price = 55  # At the money\n",
    "# strike_price = 70  # Deep in the money\n",
    "# strike_price = 65  # Far out of the money"
   ]
  },
  {
   "cell_type": "markdown",
   "metadata": {},
   "source": [
    "### III. Visualization\n",
    "#### 1. Generate options basic data"
   ]
  },
  {
   "cell_type": "code",
   "execution_count": 9,
   "metadata": {},
   "outputs": [
    {
     "name": "stdout",
     "output_type": "stream",
     "text": [
      "Long Date\n",
      "2017-01-04    1.000000e+00\n",
      "2017-01-05    9.043263e-01\n",
      "2017-01-06    6.804579e-01\n",
      "2017-01-09    8.407135e-01\n",
      "2017-01-10    1.018998e+00\n",
      "                  ...     \n",
      "2018-02-23    1.199056e-34\n",
      "2018-02-26    3.063318e-43\n",
      "2018-02-27    1.693695e-30\n",
      "2018-02-28    2.635384e-33\n",
      "2018-03-01    1.278540e-22\n",
      "Length: 291, dtype: float64\n"
     ]
    }
   ],
   "source": [
    "option_data = OptionBackTesting(Ticker, strike_price, expiration, entry_date, exit_date, option_type, action)\n",
    "option_price, option_return, underlying_price, underlying_return, trading_days, iv, hv = option_data.generate_data()"
   ]
  },
  {
   "cell_type": "markdown",
   "metadata": {},
   "source": [
    "##### 2. Speficy spot price range and generate payoff chart"
   ]
  },
  {
   "cell_type": "code",
   "execution_count": null,
   "metadata": {},
   "outputs": [],
   "source": [
    "lower_limit = 40 # Modify to customize the lower bound of x-axis\n",
    "upper_limit = 80 # Modify to customize the upper bound of x-axis\n",
    "\n",
    "# Generate payoffs\n",
    "payoff_calc = BackTestingVisualization(trading_days, option_price, underlying_price, option_return, underlying_return, iv, strike_price, expiration, entry_date, exit_date, lower_limit, upper_limit, option_type, action)\n",
    "payoff_calc.plot_payoff()\n",
    "\n",
    "# Probability of profit"
   ]
  },
  {
   "cell_type": "markdown",
   "metadata": {},
   "source": [
    "\n",
    "#### 3. Price Moves"
   ]
  },
  {
   "cell_type": "code",
   "execution_count": null,
   "metadata": {},
   "outputs": [],
   "source": [
    "# viz = BackTestingVisualization(trading_days, option_price, underlying_price, option_return, underlying_return, iv,[],[],[],[],[],[])\n",
    "payoff_calc.plot_price_history()"
   ]
  },
  {
   "cell_type": "markdown",
   "metadata": {},
   "source": [
    "#### 4. Returns"
   ]
  },
  {
   "cell_type": "code",
   "execution_count": null,
   "metadata": {},
   "outputs": [],
   "source": [
    "payoff_calc.plot_option_pnl()"
   ]
  },
  {
   "cell_type": "markdown",
   "metadata": {},
   "source": [
    "### IV. Trade Journaling"
   ]
  },
  {
   "cell_type": "code",
   "execution_count": null,
   "metadata": {},
   "outputs": [],
   "source": [
    "entry_date.date()"
   ]
  },
  {
   "cell_type": "code",
   "execution_count": null,
   "metadata": {},
   "outputs": [],
   "source": [
    "payoff_calc.print_strategy_summary()\n",
    "payoff_calc.strategy_summary"
   ]
  },
  {
   "cell_type": "markdown",
   "metadata": {},
   "source": [
    "### V. Recurring Strategy Setup\n",
    "Get in when:\n",
    "Simplified\n",
    "* 1st trading day of every month\n",
    "* Buy next month's expiration\n",
    "\n",
    "Realistic:\n",
    "* IV < 0\n",
    "* Expiration date < 60 & Expiration date > 60\n",
    "* VIX < 20"
   ]
  },
  {
   "cell_type": "code",
   "execution_count": null,
   "metadata": {},
   "outputs": [],
   "source": [
    "import pandas as pd\n",
    "trading_days['Year-Month'] = trading_days['Date'].dt.to_period('M') + 1  # +1 to find the expiration date in the next month\n",
    "dte_seeker = pd.merge(trading_days, expiry, on='Year-Month', how='left')\n",
    "dte_seeker['DTE'] = (pd.to_datetime(dte_seeker['Trading Day']) - pd.to_datetime(dte_seeker['Date'])).dt.days\n",
    "dte_seeker.dropna(inplace=True)"
   ]
  },
  {
   "cell_type": "code",
   "execution_count": null,
   "metadata": {},
   "outputs": [],
   "source": [
    "trading_days['Date'].dt.date"
   ]
  },
  {
   "cell_type": "code",
   "execution_count": null,
   "metadata": {},
   "outputs": [],
   "source": [
    "from datetime import timedelta\n",
    "entry_dates = dte_seeker[dte_seeker['DTE']==43]['Date'].reset_index(drop=True)\n",
    "expiration_dates = dte_seeker[dte_seeker['DTE']==43]['Trading Day'].reset_index(drop=True)\n",
    "exit_dates = entry_dates + timedelta(days=22)\n",
    "\n",
    "# exit_dates = dte_seeker[(dte_seeker['DTE']==21)]['Date']\n",
    "# exit_dates[exit_dates>entry_dates[0]].reset_index(drop=True)\n",
    "\n",
    "entry_dates"
   ]
  },
  {
   "cell_type": "code",
   "execution_count": null,
   "metadata": {},
   "outputs": [],
   "source": [
    "expiration_dates"
   ]
  },
  {
   "cell_type": "code",
   "execution_count": null,
   "metadata": {},
   "outputs": [],
   "source": [
    "exit_dates"
   ]
  },
  {
   "cell_type": "code",
   "execution_count": null,
   "metadata": {},
   "outputs": [],
   "source": [
    "import pandas as pd\n",
    "expiration_dates = pd.to_datetime(expiration_dates)"
   ]
  },
  {
   "cell_type": "code",
   "execution_count": null,
   "metadata": {},
   "outputs": [],
   "source": [
    "strategy_performance = pd.DataFrame([])\n",
    "i = 0\n",
    "strike_price = 55\n",
    "for _ in entry_dates:\n",
    "    option_data = OptionBackTesting(Ticker, strike_price, expiration_dates[i], entry_dates[i], exit_dates[i], option_type)\n",
    "    option_price, option_return, underlying_price, underlying_return, trading_days, iv, hv = option_data.generate_data()\n",
    "    payoff_calc = BackTestingVisualization(trading_days, option_price, underlying_price, option_return, underlying_return, iv, strike_price, expiration_dates[i], entry_dates[i], exit_dates[i], lower_limit, upper_limit, 'C')\n",
    "    payoff_calc.print_strategy_summary()\n",
    "    strategy_performance = strategy_performance.append(payoff_calc.strategy_summary)\n",
    "    i+=1\n",
    "    strike_price = underlying_price['close'][-1]+5"
   ]
  },
  {
   "cell_type": "code",
   "execution_count": null,
   "metadata": {},
   "outputs": [],
   "source": [
    "win_rate = \"{:.2%}\".format(strategy_performance['Win'].sum()/len(strategy_performance['Win']))\n",
    "# Total_Cost = \"${:,.2f}\".format(strategy_performance['Cost Basis'].sum())"
   ]
  },
  {
   "cell_type": "code",
   "execution_count": null,
   "metadata": {},
   "outputs": [],
   "source": [
    "win_rate"
   ]
  },
  {
   "cell_type": "code",
   "execution_count": null,
   "metadata": {},
   "outputs": [],
   "source": [
    "strategy_performance"
   ]
  }
 ],
 "metadata": {
  "kernelspec": {
   "display_name": "Python 3",
   "language": "python",
   "name": "python3"
  },
  "language_info": {
   "codemirror_mode": {
    "name": "ipython",
    "version": 3
   },
   "file_extension": ".py",
   "mimetype": "text/x-python",
   "name": "python",
   "nbconvert_exporter": "python",
   "pygments_lexer": "ipython3",
   "version": "3.8.5"
  }
 },
 "nbformat": 4,
 "nbformat_minor": 4
}
